{
  "nbformat": 4,
  "nbformat_minor": 0,
  "metadata": {
    "colab": {
      "provenance": [],
      "collapsed_sections": [
        "0QNsf43XJCgU",
        "V0-a4JqoKClK",
        "zQsZgbgzMl-4",
        "9oyzgrO9NB8n",
        "QQUD_iWet1Pd"
      ]
    },
    "kernelspec": {
      "name": "python3",
      "display_name": "Python 3"
    },
    "language_info": {
      "name": "python"
    }
  },
  "cells": [
    {
      "cell_type": "markdown",
      "source": [
        "## How feature scaling helps easier model training?\n",
        "\n"
      ],
      "metadata": {
        "id": "lRwWIBLzph1R"
      }
    },
    {
      "cell_type": "markdown",
      "source": [
        "<img src=\"https://drive.google.com/uc?id=1iohbWEWSsh93hJsuz2KaZ7vGZYFa2zyC\">\n"
      ],
      "metadata": {
        "id": "T0HEr547Uw6Q"
      }
    },
    {
      "cell_type": "markdown",
      "source": [
        "## Problems with R-squared"
      ],
      "metadata": {
        "id": "idySuTb1fws-"
      }
    },
    {
      "cell_type": "markdown",
      "source": [
        "<img src=\"https://drive.google.com/uc?id=1f_B8OQLJ-0EUTO7cniBkoCtk-Zjd4UAL\">\n",
        "<img src=\"https://drive.google.com/uc?id=1ghTJrm1GphciMmk6cVFGiQH2gWaYTFkU\">\n",
        "<img src=\"https://drive.google.com/uc?id=1yf8fxqdsLhR_unBiAumHJkfRWqnz5Cvk\">\n",
        "<img src=\"https://drive.google.com/uc?id=1I1PkiKWwRsjT57SU7HJWYBmAjRemltGh\">\n"
      ],
      "metadata": {
        "id": "IawX_zc-e_SJ"
      }
    },
    {
      "cell_type": "markdown",
      "source": [
        "# Linear Regression:  Assumptions"
      ],
      "metadata": {
        "id": "tNh1Z8woG1Ba"
      }
    },
    {
      "cell_type": "markdown",
      "source": [
        "### Recap\n",
        "\n",
        "- Quick review of linear regression: a statistical method to model the relationship between a dependent variable (Y) and one or more independent variables (X).\n",
        "- Explored the cost function (MSE) and the iterative optimization process of Gradient Descent to minimize prediction errors.\n",
        "- Covered the practical implementation using scikit-learn, including importing libraries, loading data, training the model, making predictions, and evaluating with metrics."
      ],
      "metadata": {
        "id": "6-KOpIXUG6H9"
      }
    },
    {
      "cell_type": "markdown",
      "source": [
        "# Introduction\n"
      ],
      "metadata": {
        "id": "_GGIzpwHHQy6"
      }
    },
    {
      "cell_type": "markdown",
      "source": [
        "<img src=\"https://drive.google.com/uc?id=1htKur7JbvY3AVo4H51k2qn9VFS97KpVt\" >"
      ],
      "metadata": {
        "id": "mIL3VvnZsWAi"
      }
    },
    {
      "cell_type": "markdown",
      "source": [
        "- Linear regression is like a powerful tool in our statistical toolbox, helping us predict outcomes based on relationships between different things.\n",
        "- However, for this tool to work well and give us trustworthy results, it relies on a set of important assumptions. Think of these assumptions as a kind of guideline or checklist that helps us use linear regression effectively."
      ],
      "metadata": {
        "id": "DnxjAQFfOikh"
      }
    },
    {
      "cell_type": "markdown",
      "source": [
        "### Why Assumptions?\n",
        "- Imagine you have a really cool gadget, but for it to work perfectly, you need to follow some instructions. Linear regression is similar—it's our statistical gadget, and these assumptions are like the instructions that help it work properly."
      ],
      "metadata": {
        "id": "HDLCfmcYIZ1a"
      }
    },
    {
      "cell_type": "markdown",
      "source": [
        "### What are Assumptions?\n",
        "- Linear regression assumes certain things about the data. These assumptions act as a foundation, ensuring that our predictions are reliable and meaningful.\n",
        "- They help us make sense of the relationships between different variables."
      ],
      "metadata": {
        "id": "yz7ROlcjIhZ6"
      }
    },
    {
      "cell_type": "markdown",
      "source": [
        "### Assumption Intuition:\n",
        "\n",
        "- Think of the assumptions as a kind of \"data etiquette.\" They make sure our data behaves in a certain way so that our predictions are solid.\n",
        "- If the data misbehaves (violates the assumptions), our predictions might not be as trustworthy.\n",
        "\n",
        "\n",
        "\n",
        "In a nutshell, understanding these assumptions is like understanding the rules of the game. It's what makes our predictions solid, reliable, and something people can believe in."
      ],
      "metadata": {
        "id": "prLIOYS_Ix3C"
      }
    },
    {
      "cell_type": "markdown",
      "source": [
        "<img src=\"https://drive.google.com/uc?id=14vWIC51BbhqfzG_i964kT3f7fMdhE-A8\" />"
      ],
      "metadata": {
        "id": "hNxgU1A9po1j"
      }
    },
    {
      "cell_type": "markdown",
      "source": [
        "# Assumption 1 - Linearity\n",
        "\n"
      ],
      "metadata": {
        "id": "0QNsf43XJCgU"
      }
    },
    {
      "cell_type": "markdown",
      "source": [
        "### Definition:\n",
        "- Linear regression assumes that the relationship between the independent variable(s) and the dependent variable is linear. In other words, changes in the dependent variable are proportional to changes in the independent variable(s)."
      ],
      "metadata": {
        "id": "_-7Ha6mzJSer"
      }
    },
    {
      "cell_type": "markdown",
      "source": [
        "### Why it matters:\n",
        "- This assumption is crucial for the interpretability of the coefficients. If the relationship is not truly linear, the model might not accurately capture the underlying patterns in the data, leading to biased estimates and unreliable predictions."
      ],
      "metadata": {
        "id": "c2_ZEwcwJa6a"
      }
    },
    {
      "cell_type": "markdown",
      "source": [
        "<img src=\"https://drive.google.com/uc?id=1IxNhj3uattnBWkIPIDdYKgN8-qPmI0dv\">"
      ],
      "metadata": {
        "id": "zvJ96hMWpte8"
      }
    },
    {
      "cell_type": "markdown",
      "source": [
        "### Visualizing Linearity:\n",
        "- Use scatter plots to visually assess the linearity between the independent variable(s) and the dependent variable. If the points on the graph form a pattern that deviates from a straight line, it suggests a potential violation of the linearity assumption."
      ],
      "metadata": {
        "id": "K_y1l7GCJiWJ"
      }
    },
    {
      "cell_type": "markdown",
      "source": [
        "![linear.jpeg](data:image/jpeg;base64,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)"
      ],
      "metadata": {
        "id": "A56NSH7-UKGA"
      }
    },
    {
      "cell_type": "markdown",
      "source": [
        "### Example:\n",
        "- Suppose we are predicting housing prices based on the square footage of a house. A linear relationship would imply that, on average, a doubling of square footage would result in a doubling of the house price. If this assumption is violated, the model might misrepresent how changes in square footage relate to changes in price.\n",
        "\n",
        "### Key Takeaway:\n",
        "- Always examine the linearity assumption, as deviations can significantly impact the accuracy and reliability of the linear regression model. If non-linearity is detected, exploring alternative model forms or variable transformations is essential for maintaining the model's predictive power."
      ],
      "metadata": {
        "id": "5_0DChJLJtnF"
      }
    },
    {
      "cell_type": "markdown",
      "source": [
        "# Assumption 2 - No auto correaltion (Independence)"
      ],
      "metadata": {
        "id": "V0-a4JqoKClK"
      }
    },
    {
      "cell_type": "markdown",
      "source": [
        "### Defination:\n",
        "- Independence of residuals is a critical assumption in linear regression. It means that the residuals (the differences between observed and predicted values) should not show any systematic pattern or correlation.\n",
        "- If there is a pattern in the residuals, it suggests that the model is not capturing all the information in the data.\n",
        "\n",
        "\n",
        "\n"
      ],
      "metadata": {
        "id": "IcndyWTyLVGy"
      }
    },
    {
      "cell_type": "markdown",
      "source": [
        "<img src=\"https://drive.google.com/uc?id=1ihpdxKvvUYcSQuSiAMSJ6AGciLQRKjaT\">"
      ],
      "metadata": {
        "id": "t1bALxuNrbTa"
      }
    },
    {
      "cell_type": "markdown",
      "source": [
        "### Why it matters:\n",
        "\n",
        "- If the residuals are not independent, it can lead to biased coefficient estimates, and the standard errors of the coefficients may be underestimated or overestimated.\n",
        "- Autocorrelation, or the correlation of a variable with itself, is a common issue. For example, in time-series data, observations at one point in time might be correlated with observations at nearby points in time."
      ],
      "metadata": {
        "id": "XGP5E6buLxUt"
      }
    },
    {
      "cell_type": "markdown",
      "source": [
        "### Diagnosing Independence:\n",
        "\n",
        "- Residual plots: Scatterplots of residuals against predicted values or other variables help identify patterns.\n",
        "- Durbin-Watson test: A statistical test for detecting autocorrelation in the residuals."
      ],
      "metadata": {
        "id": "G9EX7suNMCMa"
      }
    },
    {
      "cell_type": "markdown",
      "source": [
        "### Solutions:\n",
        "\n",
        "- If autocorrelation is detected, one may need to include additional relevant variables that capture the omitted information or use time-series models if dealing with time-dependent data."
      ],
      "metadata": {
        "id": "0caH6mmyMTuQ"
      }
    },
    {
      "cell_type": "markdown",
      "source": [
        "# Assumption 3 - Homoscedasticity. (lack of Heteroscedasticity)"
      ],
      "metadata": {
        "id": "zQsZgbgzMl-4"
      }
    },
    {
      "cell_type": "markdown",
      "source": [
        "### Defination:\n",
        "- Homoscedasticity refers to the assumption that the variance of residuals is constant across all levels of the independent variable(s). In other words, the spread of the residuals should be consistent throughout the range of predicted values."
      ],
      "metadata": {
        "id": "XxzwqgMBMqg5"
      }
    },
    {
      "cell_type": "markdown",
      "source": [
        "<img src=\"https://drive.google.com/uc?id=1gIDkjKdtJjatY-1JopPCnzfvBYZ-nyoC\">"
      ],
      "metadata": {
        "id": "R9mB254kq3jz"
      }
    },
    {
      "cell_type": "markdown",
      "source": [
        "### Why it matters:\n",
        "\n",
        "- Heteroscedasticity, where the variance of residuals is not constant, violates the assumption and can lead to inefficient estimates and biased hypothesis tests.\n",
        "- In the presence of heteroscedasticity, the model may give too much weight to observations with high variance, affecting the overall fit."
      ],
      "metadata": {
        "id": "DzSHcWf6MxTP"
      }
    },
    {
      "cell_type": "markdown",
      "source": [
        "![Homoscedasticity.jpeg](data:image/jpeg;base64,iVBORw0KGgoAAAANSUhEUgAAAh4AAAFjCAIAAAD99ZWfAAAABmJLR0QA/wD/AP+gvaeTAAAACXBIWXMAAA7FAAAOxQFHbOz/AAAAB3RJTUUH1goXCyAuysrkmQAAFoFJREFUeNrt3Vt6qkoCgNGivz0acTgHejjicA70cMTp0A8aN3ITBIzKWg/d2R5jYsXwpyjAUMFVnoQQQpyd+u9yyuIQQkhyozVtVF88ZCN+lIt9FnT4TwA+WpFGUZQWH/jgfK8/hgA+WXk8tjf8SV5V0x+q/VmdDw6PmbUAIC0ASAtbUB73UV3H7vkijaIo2h/L28dXl5s6HqZrH/+IL9R1t+77Ne7Vu6Zw9+3efcNDDzjybgP3HX4W5XEfRfusbA5u819jn+zdZ7UffOA7vT60NRluHMnA3CPErje2NR7q5/Hzrvsneffj1B9j7Bcad7/roVsd30g16sFax3x1PmCSNI4Q63285kM+fhbte/z8p9aPctSTvfusrgfPel4hDhykSVqYmZbbRqv+ibcbO+/Zv9Gr3X7btP08xNgv9POJd0/k58bb3X4+8e+9Oj+vfbeee96+3Z6ndv3CnV+k66mNexZ9m/XGj3LSk+14Vo1Ra75ELvdy0DLSwsAZGCO0t+PtP1ivj9axpW1ug/puvz725ebxX2jMiSQ9j5Z3zzA6NprNbW7fPRvp633AvvQ9ngg8TsvIJzsmLZ1tURac18LCKyz/K8oQQpwdWllKDlkcQiiL/zV2zcfJP/e7WnZx3Hl7vNs984WuD1ek/Usd4Vx2Ptp1E/rTg+sXTQ6H1q6p+J8kDiEURXH37TWfws83d/u0w2Vj33rA+nMd/SxGGvdkR/5RkSTNH+rlubefOpbxoXfdYnjh4bLVCrtd1yrJZWtZlufGRnPXvQ3qu33qF4oP121ome17lqzL8/nhV/z7RRtr+NfF7MsC9/lcDn97rWb0HCHQXAEf8SzG5n/ck53Wlux2vktxzJQFaeF1rn94v/4LtQ8JuG6/f2YA1xIsXuV4N2IUxh6V9vBZTJq0LOY6D/uZr13+X1mQFl5lpQ34qC903fPUmGeV2X5/LKdGb2i9427XVmuC1jlHuc537ieJ3YeDDT+LXyr83b7Ay/927TJEWmDmfOG6W6jx1/llR0znn/Kv+0LNrXNZnm97qdqPdr93auiLjv32rqswPxOWy36kWqxOozbKnc9ibArGPdmn2nItS5L4VUBaWPwv2Nqu978brmNWLrerZPwXuu5vav1df32Eegpaj3bdy/OzqRz4oo3tcu8978ryM71qb4qvz6H2eWOexaQsP3qyz7QlVRb6OEiO5c9r+bv/puOerf1LvSfc3X9DY79Q64SYzhM5+k/1eHzWTufh0gNn2NxuHTx15v6Txz2LvuOZR5/X0vFkOw4+br0mWs8MnNfCommZejb+02lZ4Gz8Eef2D25Fh9dgOu/ZOBu/51Df2yUKOrM5/D12pan1oxz1ZDteAN3d6zspFpzXwnJ7xQ6n1jYzzk5j1xGW/0Jd97tsA+t3jA+nxhY3zk7t77nzweKs68bmPePs1LxT+7Cv6xNIrrvU/p4xMu5ZhJDktUfsWxca+WQ78tnz4Ldk2htGl6h65n0dgG0rj/t9VsbZ6eTgMDqYtQDTy+IUfMxagEUVaZQWIcknXiaG7fAGxsC0pFx0Xc8NruwQA8b6e2Z/kltkYYAdYgCYtQAgLQBICwBICwDSAoC0AIC0ACAtAEgLAPSlpTzum++RfX0L1fv3zu68EQCaaSnSfeOtuUOR7rNdXlVVnhTpT0c6bwSAu7SUx30Upeckub/UXFEU1wubJocsLoqi90YAaMxadoeOd5otz+ew211ui3e7yzuXdt4IwAeKomi9B/8Te2trgE12JYrWuvj9n8W/1zpX7Ad488assaFeMi3t72+9JALY9C8yDVjjS/Sc11JfSrktsXTeCMBqXbn87y0GiyyQNEKyxgSg75TJJEnK7FiEEIpjViaXBZnOGwFYqyv1f95Ks1Rdqqp69VpLkudJlEZRCCHJq2TgRgAWV1VVvSL1fy6yC2vV1Yp110KstQDMn7g0MvOCNszkGmIA7ztxafzvel1Z9jQXsxaAT5rHrLFRbex5M2sB2Nw8ZtX5yiLTF2kBkKuF6yUtACw8K5IWgHWteiHIBYuy4N42aQFYvSufUhdpATB3eVPSAvCinGynLtICsJYXXAhSWgA2Wpf1LgQpLQDmLtICwBt728UbaQH44K68Z12kBeCNZg9PPNQb1kVaAJaZPczfxI9/qDc/rFlaABabZMzZxE96qDc/rFlaAJ634CZ+6kO982HN0gKwSmZe8FBve1iztAAskIFFtvKLX4FYWgDMV77k/EppAfhNX3nNSmkB+OWufF9dpAXA3EVaAL4xJ99UF2kB+B1f/G4u0gIwd8Ixsy7f924u0gLwTFcWuWhY+NJ3c5EWgOfnK9t5u3tpAVjLZt/uXloAfiEzI6cyW5joSAvAtAAMX+lr+CzIZddppAXgw7rysC5T47SddRppAXhm7jLm/o1/bmedRloAFptbjI/Hd6//SwvAk3kY+PS+syC/5h1ZHuR51WcYRZEj84APnbvYfJm1ADyuxdNzF6QFoLsrTp6XFoBfnrsgLQCjcqIu0gIwlwt/SQvAMrOTdk6+751RpAVg9a7UL881fDL8UtGiY7ic1wJ893wlzN4DdntwGzSzFmBDhjf6S805zF2kBdhuZp5Ytx++DL66SAuw3YlLuyJj3rBr4IRKR5ctl5byuL+shUX7Y9m+NS2MHPCudRkuTaMlYyYlji5bJC1Fus92eVVV1SkL2f4aktuteVKk4gJ8VGkG+jG+LsxIS3k+hyRJQgghPhyScD6XIYSiKOLskIQQkkMWF4W2AN+RHLu8XpKW+J/klo6iKOLkn/jSm90uvtxht7v2BuAbMmOX1/ppCfHhdIqPURRF0TE+nQ6xcQLew1IHaLVXYkRl7bQUabQvklNVVaek2I9etI9ajC+weFeW2rxoyWvTUp7PITkc4nC31jLq59RgfIGV5iv+eP24WUuX+vpKfd0F4CVFsdj+ST+1rh9Pedzvi+R0OsTlcb/PdnmVJyEUaZSGvMqT2wdjXhN+/MAiM5WqqlzL66PTcolLVoYQQpz9Xccv0uu6SzIqLNICLNSVel1sVT42Lcu9MrwIgKVmLQbkU7iGGPABdEVaAJYsiq5IC4D5irQAvJYzVKQFYPmu3M6oH3ijFKQFYNZ8RV2kBeAZi7+DvSBJC8BdZmZeu8XONGkB+NuPW0UWeaMUdZEWQF0WuNCkw8ykBeAd+4S0AJ9qpSmFdx2WFmDTXVnpnWdFRVqArc9XrIhIC8DCswqTDGkBWDEzIyc6SAtAMw+TLozvLEhpATZai6l5eGI/mLpIC/DlLXnuKK+pebDmLy3A93elc/fU8BZ/Th6s+UsLsJXGjNni3xKyVB50RVqAL5yydP5zoCvtCcoTeZi05o+0AB+jPfMYucW/1GVmHnTlG/46WfWn2J5KAx80dxnz+7vIZAWzFuCDa7H47MHaO9ICW+/KeteIdAVipAXMXZavC0gLbDcnzkZEWoCFZxUmGUgLsFhdrIggLcADaxz0BdICW+/KryycWK1BWsDc5UuShrQAr8uJuQvSAsz1Wwd9OY4ZaYFvm520c/Lig74cx4y0wDd05WFdfmXC5DhmpAW+du7yK0QFaYFvyMnadbFqgrTA95u/qjG+Fo4nRlpgW3V5blXjVotJwVAXpAU2N3d5rhCdwbjd6HhipAWYHKR2n+p7wBxPjLQAS8576nVxPDHSAjwuSmcqOveAiQrSAjw/X7EHDGkBVpzT6ArSAh/pPY+5EhVenJbyuL8cDR/tj2XrxrQwcjCxK1PPL/msSsHjtBTpPgvZqaqqUxay/17iUqT7bJdXVZUnRSou8FQJZoZh2UrBWi/7rhlxkUbH+HQ6xD03lsf9vjxUeTLi18CMG+oZmPMb0c6J3y8+Z9ZSns9ht4v7b4x3u3A+l0YPpplZAod18clpOZdlHAfrKrBoUZYtga7waWkJIZTZMfxbXddVagv5wK+W4GGlrMHwxmmJs38vKy3JIYvL8jzqsaIW48sX+61X+MOu+NXjLdOyiztqUl9f6VyM+Tn3qs748t1deduNuLrwy6/AzgD8PRqsSKM05FWehL8f1m57/PoWGL5+yrL4i/y5XxzHj/E+/nTemuSn834fZZePq+R6Y55EaRTVb4Otd+VWgqX+kBq41v2wy/egK7zvrOV3//iCj5u1vM+ZK37peAeuIQbPqF/bccHz7eefuaIrSAt8fF3CamcyigTSAizTgzXOrwRpgU8tytM9aOxD0xWkBejowfgVF+c5Ii3AhFpMCoa6IC3wtUlY9kGGH3PZd3MBaYFvmGq0TTpgzHXykRbYynxlqdnDmFTUT5Hxg0Ba4HuMmT2M783UA8ZEBWmBbWWm3pWpdQFpAUV5nAQr7SAtMHe+ElZYidEnpAUkZ8njuJwjibQAo2Y25i4gLTBt07/UVSOdI4m0wNa7Uj+DcpH5inMkkRYwX1l+buEcSaQFtmjtuYWoIC2wldmJDIC0wAJd6auLd3sEaYHl5y66AtICE7LhIGCQFni+K51vweIgYJAWmDtf6auLg4BBWmCsznlJIzCiAtICszKz1FsUA9LC1ovSOV9RF5AWmFWXYN0epAVe0xtAWmCBougKSAtbtN5CiK7AC/wxBLxnVC4fKAGYtcCsorQnK53Tl+E5jUO/QFrgb1fac5T2ccMD56bcbnTmCkgLuvL343pdGuc5hsFzU0bOeABpYUNdadSlc74ycG5K34wHkBa2pa8HnefPN24ZbomugLSw6br0XYG4Mx7tc1PavdEV+F3Rqr+EnQuzsOAL6dYVrzQwa4FpM5sx+TFQIC2wwGxGXUBaYMXZjH1iIC2wWF28CTFIC6w4dwGkBQBpgR+WzYFOLqrPrKi49D0wcdZSHvdRWtz/O4qi6O5GTFZMX4DRaSmOWVn/Z7rPdnlVVXlSpOKyYS4ECTybliJNz3Fc+3dRxNkhCSEkhywuCm1RF10BJqWlPB5D/m9Su+F8DrvdJTXxbhfO59LoqYuuAKPTUh7/WySHxPAweu4CMJyW4lgk/x5io8Mc1vZhszoOPi7SNByqJ8JiU0LjxeBdFUBarmUpilAUfyuRRlGSV3my24XiXIYQX9ddklZ82hsRsTFfURfY4kZg6Ne+PO735aHKk+tsJkpDXuXJ7YMxmxiblS13ZeDPDmBTs5ZeSZ4nURpFIYQkr6zx062qqkZddAXMWhb+A9ZmZcvTFz992CaXp2TF6YtBAGmBl85pDAJ8K1c+5tei4qrJYNYCq0xWTF9AWmBWVFw1GaQFZs1IGv+pXRddAWmB3nLc4jG8y6teF10BaYHuecmYlrT/q66AtMDdTq264eUTiysgLTBhvjK+Jbc9YLoC0gIdXRm4AOVAOUQFpAV6q9AXCfEApOVrZxVrfG59p5YBB6RlE115oi71I4afm74ASIv5Su8n9j2Oq7AA0rLprkzKwJjlk6fnQ4C08Kmzk5Gr6yPr0vhCigI8v8nyLpMfFJW+wZwzzvXPHciJnyNg1vKdk5W+TX9ju//cnjFdAaRlE6bu8nrioK+BrjjaGJCWTdRl/hRn5FfRFUBavr8uD7fy81f1XekLkBZzl+enOOs9AoC0bHSKAyAtmHkA0gKAtACAtAAgLQBICwBICw+4pDEgLSzfFXUBpIVlpimKArzGH0Owzah4Kx3ArOXDNuXv/83oCiAtHxCVd1vGaF8IuX5tYz8yQFo+abLytnUxXwGk5WPMfKOUF3xvcgJIy8fX5Ym5zlt9bwDS8nnzg5kLMw4jBqTF3GXJMDjtEZCWrzJ/gz5zzV9RAGn5qqgsMl2Ys+b/toeiAUjLq6ca7bo8d+DWOx+KBiAtr5tqjHzMkfVy2iMgLV9bl2WnRI1dbQ/3vOkKIC1fVZdlN+vtyYoVFEBazF1WfECZAb4oLeVxH12lRfvW2m3MDkO9LhbqgW9NS5Hus11eVVVV5UmR7o/l3a15UqTi8igq7fWSh2sn1ueBL9kGdmzIijQ6xqfTIb7OVPblocqT2q2320ZsYTe4oVzkjVK8VRfwXbOWJK+uXQkhnMsyhBBCeT6H3e5ya7zbhfO5NHrPxOOJvWQAn+XBGxiXx2MRZ6ckBCGZWJdbQuofawaw9bSUx/0+2+XVbQbznVba9XQpym35xLFegLRcuhKy0+MFlfo2+hO70qjLgqVpHPpl+QTYiP8Mzlf+Lrncra/U113ut6QN75yT0H+64kqN1BVgI7r+ji6P+32RnE6NHWFFGqUhvxwrdvlgzEb83ban47OhBACLpaVIm6dEJteO3P5LMiosb5OW27fRWE4f/qcXB8Bys5YVtunvOU259aa+0CItADN9+TXEBiYit3+2r7OiKwDSMmq+cpmdPIzHnLd9BODL0zJmmjKnW6seTgYgLe9bl9e8yYpXEsBW0rLgNGXMfAiAD07Lr08U5ATge9LyPoscDicD+Ia0vNsih64AfHxaLHIASIuJAoC0fE5dNAZAWj5y7uKcFYCtpOWVXVEXAGkxXwGQlrfviswASMtcjnIGkJZV6uJQNABpWX36AoC0ACAtS7DqDiAty3dFXQCkxXwFQFrevisyAyAtczkZBUBaVq8LANKyWF00BkBazF0ApAUAvjgtDgYDkJbFahFFkXMkAaRlsVo4kQVAWiZPVoZr4UQWAGl5bGot5ARAWibXZeT9NQZAWpasha4ASItaAEjLb3P0F4C0LN8VdQGQFvMVAGl5v4Q4KRJAWp6MSt8uLydFAkjL3MlKZ12cuQIgLROiMnJeoisA0jKqK511AUBapuUk9K+paAzAF4hW3ZpH0fXxJ13AGACzlrGTFV0BkJZltBfqHfQFIC035XF/OQslLWbUxXwFQFquinSf7fKqqvKkSKfFxUI9wFZMWsYv0ugYn06HOITyuN+XhypPhh89irQEwKylX3k+h90uDiGEEO924XwuDSAAc9ICANICwOv9WfCxxlwVH4BP93ARfUpa4t0uFOcyhPi67pLED76YZfxJYTZWxspYGavvGKtpQ1mkURryKk9uH/hReVkbK2NlrIzVjFlLCEmeJ1EaRSGEJK8S4wvA3FmLvwKMlbEyVsaKh2PlCDEAPmrWAsAGmbUAIC0ASAsA0gIAb5eWJ98xbCtuw3M3QAbt4aDVR8ZwPXht7Y+lsZo8VMbqyd+71u3VCvIkhCSvf0DX8Fw+jLOTQRs3arVxMVy9o3R5QZ2y2Etr3K/hKYvvfiONVePXbsTvXfv2sM53c31NV6cs9vPpH57aABm0h4MW14bFcD1+bfl9HHI3FLchMlb3IxRCnCQjfu86bl9hh5h3DBuW5NXp8HNhz3NZGrQRc/JjyP9NvMYm/OoZq2HxP0lcFJd9N0VRxMk/sbG6tzucqtq2auC11HW7Zfxf3mQWcXZwMbYHo/TfIjFII5zLMo6DtYJxbTmcTvExiqLo9rbs3A1QkswZE2n5zeWxfbbLvaYfKI5F8q9BGvuqyo7h38suiiKtr07TfF2l0b5ITlVVnZJiL8RLk5Zf7ErITrk/xh9tANJwEJbxf2pm1wwnhywuy7MR6fsNPJ9DcnllxYdDYj/hB6Slbx8cjflKfTemQespS1GEIr0cIJqVoUgv+3kMV6dd3FETY2Xbtfb4dN7u4OPfOPCifRiPQZt0SI/henSIWOMQd2PV/3vo4OP5v3evOfj4djR08MMZGJqbnzEyaBNe4oZr8JDRxrgYq+Ghqv+pZ6ye+71r3v5/2xdS2sPThh8AAAAASUVORK5CYII=)"
      ],
      "metadata": {
        "id": "gcwQbna9UdYc"
      }
    },
    {
      "cell_type": "markdown",
      "source": [
        "### Diagnosing Homoscedasticity:\n",
        "\n",
        "- Residual plots: Scatterplots of residuals against predicted values can show if the spread of residuals is consistent.\n",
        "- Breusch-Pagan test or White test: Formal statistical tests for detecting heteroscedasticity."
      ],
      "metadata": {
        "id": "xtB8qF9jM2fj"
      }
    },
    {
      "cell_type": "markdown",
      "source": [
        "<img src=\"https://drive.google.com/uc?id=1gIDkjKdtJjatY-1JopPCnzfvBYZ-nyoC\">"
      ],
      "metadata": {
        "id": "EpkUAebZrKXr"
      }
    },
    {
      "cell_type": "markdown",
      "source": [
        "### Solutions:\n",
        "\n",
        "- Transforming variables, using weighted least squares regression, or including additional variables that account for the heteroscedasticity can be considered.\n"
      ],
      "metadata": {
        "id": "RF4B5wzZM9ag"
      }
    },
    {
      "cell_type": "code",
      "source": [],
      "metadata": {
        "id": "aTohDoksMnUg"
      },
      "execution_count": null,
      "outputs": []
    },
    {
      "cell_type": "markdown",
      "source": [
        "# Assumption 4 - Normality of Residuals"
      ],
      "metadata": {
        "id": "9oyzgrO9NB8n"
      }
    },
    {
      "cell_type": "markdown",
      "source": [
        "<img src=\"https://drive.google.com/uc?id=107zR86xo9BMuYcsMK7ckQtx6tGJMycIN\">\n"
      ],
      "metadata": {
        "id": "bBLlw32qqSIm"
      }
    },
    {
      "cell_type": "markdown",
      "source": [
        "### Definition:\n",
        "- Normality of residuals assumes that the distribution of the residuals is approximately normal. This is important for valid hypothesis testing and constructing reliable confidence intervals."
      ],
      "metadata": {
        "id": "I4yiSj79NHjw"
      }
    },
    {
      "cell_type": "markdown",
      "source": [
        "<img src=\"https://drive.google.com/uc?id=1Pfdj5R4BGTT2DuFd50gBd1h-WSdh_K7T\">"
      ],
      "metadata": {
        "id": "2Yos2UXeqDon"
      }
    },
    {
      "cell_type": "markdown",
      "source": [
        "### Why it matters:\n",
        "\n",
        "- Departure from normality can affect the precision of parameter estimates, impacting the reliability of statistical inferences.\n",
        "- Normality is more critical for smaller sample sizes; with larger samples, the Central Limit Theorem helps mitigate this concern."
      ],
      "metadata": {
        "id": "axte_jNCNUbA"
      }
    },
    {
      "cell_type": "markdown",
      "source": [
        "### Diagnosing Normality:\n",
        "\n",
        "- Normal probability plots or Q-Q plots: Graphical tools to compare the distribution of residuals against a normal distribution.\n",
        "- Shapiro-Wilk test or Anderson-Darling test: Formal statistical tests for normality.\n",
        "\n",
        "\n",
        "### Solutions:\n",
        "\n",
        "- Transforming variables or using robust regression techniques can be considered if normality is a concern. However, for larger sample sizes, the impact of mild departures from normality may be minimal.\n"
      ],
      "metadata": {
        "id": "HI6BBqoMNuLb"
      }
    },
    {
      "cell_type": "markdown",
      "source": [
        "<img src=\"https://drive.google.com/uc?id=1t0j6Se27R4bSmSPXhoVeJANz5B8s7Och\">"
      ],
      "metadata": {
        "id": "Lw9n_fe9qpWt"
      }
    },
    {
      "cell_type": "markdown",
      "source": [
        "# Assumption 5 : Multicollinearity"
      ],
      "metadata": {
        "id": "QQUD_iWet1Pd"
      }
    },
    {
      "cell_type": "markdown",
      "source": [
        "<img src=\"https://drive.google.com/uc?id=1BodQ0h3d7hl733jiSZGbhMvd-rZIiZwf\">"
      ],
      "metadata": {
        "id": "jyoDLExnvAGV"
      }
    },
    {
      "cell_type": "markdown",
      "source": [
        "### Defination:\n",
        "- Collinearity refers to a statistical term used in the context of multiple linear regression analysis or other modeling techniques.\n",
        "- It occurs when two or more independent variables (features) in a model are highly correlated, meaning they move together in a linear fashion.\n",
        "\n",
        "- Example, if one feature (f1) can be expressed as a linear combination of another feature (f2) plus a constant term (αf2 + b), then f1 and f2 are said to be collinear."
      ],
      "metadata": {
        "id": "D4Bm9jSJuAOl"
      }
    },
    {
      "cell_type": "markdown",
      "source": [
        "<img src=\"https://drive.google.com/uc?id=1TXz3ajqIs9vSMr5lEBDvENpg21rgtwsy\">\n"
      ],
      "metadata": {
        "id": "a74eWPszvMU2"
      }
    },
    {
      "cell_type": "markdown",
      "source": [
        "- Multi-collinearity, on the other hand, is a specific type of collinearity where three or more variables are involved and correlated with each other.\n",
        "\n",
        "- when you have multi-collinearity in your data, it means that two or more factors you're looking at are so closely related that it's tough to figure out which one really matters.\n",
        "  - This can make your predictions less accurate and reliable because you can't tease apart the effects of each factor.\n",
        "\n",
        "So, in simple terms, multi-collinearity messes up your analysis by making it hard to understand the individual impact of different factors because they're all tangled up together."
      ],
      "metadata": {
        "id": "2aK3wkBauZO9"
      }
    },
    {
      "cell_type": "markdown",
      "source": [
        "# Takeaways:\n"
      ],
      "metadata": {
        "id": "r_pJAbFaON0g"
      }
    },
    {
      "cell_type": "markdown",
      "source": [
        "- while these assumptions are important, in real-world scenarios, some level of violation may be acceptable based on the context and the purpose of the analysis.\n",
        "- Clear understanding of assumptions enhances the credibility of regression models.\n",
        "- Rigorous testing and diagnosis contribute to robust and reliable analyses.\n",
        "Acknowledging and addressing violations lead to more accurate predictions."
      ],
      "metadata": {
        "id": "NtDhACMeOeEq"
      }
    }
  ]
}