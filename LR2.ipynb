{
  "nbformat": 4,
  "nbformat_minor": 0,
  "metadata": {
    "colab": {
      "provenance": []
    },
    "kernelspec": {
      "name": "python3",
      "display_name": "Python 3"
    },
    "language_info": {
      "name": "python"
    }
  },
  "cells": [
    {
      "cell_type": "markdown",
      "source": [
        "<img src='https://drive.google.com/uc?id=1FoiIHxK8gKl3ibwBeruulS_qeg5928oc' width=800>\n"
      ],
      "metadata": {
        "id": "9kQPFVNVmjNZ"
      }
    },
    {
      "cell_type": "markdown",
      "source": [
        "\n",
        "<img src='https://drive.google.com/uc?id=17uiOygxUR1QvLz1i4e8Vcr_4K5Z1MZsJ' width=800>\n"
      ],
      "metadata": {
        "id": "cPVLCA7GmeM0"
      }
    },
    {
      "cell_type": "markdown",
      "source": [
        "\n",
        "<img src='https://drive.google.com/uc?id=1aMmr5BkkG0Zj12-_srd0JW3axcu0OduV' width=800>\n",
        "<img src='https://drive.google.com/uc?id=1_2wKgT-F-p59yknRxo3YKloizAosKcfX' width=800>\n",
        "<img src='https://drive.google.com/uc?id=178hij9lUMoBW62QzdJziO5qXVugeAOcJ' width=800>"
      ],
      "metadata": {
        "id": "9kIKcCbB6LDb"
      }
    },
    {
      "cell_type": "markdown",
      "source": [
        "<img src='https://drive.google.com/uc?id=1X7Pwj8tofehUMcopYYUqVi-SnStM6o1x' width=800>"
      ],
      "metadata": {
        "id": "lmYxOqw18gCw"
      }
    },
    {
      "cell_type": "markdown",
      "source": [
        "<img src='https://drive.google.com/uc?id=1xETSzMreZyl5rfAMSg4qGIm2jJNfcz9F' width=800>\n",
        "\n"
      ],
      "metadata": {
        "id": "YcCqSGWD67Mv"
      }
    },
    {
      "cell_type": "markdown",
      "metadata": {
        "id": "lCX9l6ItKGH4"
      },
      "source": [
        "## Optimization\n",
        "\n",
        "Now, we come to our main task of training the model."
      ]
    },
    {
      "cell_type": "markdown",
      "source": [
        "If you remember,\n",
        "- our objective was to find the hyperplane in $d+1$ dimensions\n",
        "- such that this is very close to the $d+1$ dimensional points."
      ],
      "metadata": {
        "id": "bGw55a8627RA"
      }
    },
    {
      "cell_type": "markdown",
      "metadata": {
        "id": "TUXetnEdLUgZ"
      },
      "source": [
        "#### How do we write it as an optimization problem?"
      ]
    },
    {
      "cell_type": "markdown",
      "metadata": {
        "id": "64Dr73XBN4P7"
      },
      "source": [
        "#### Geometric Intuition of Minima in Loss function/ Optimization equation"
      ]
    },
    {
      "cell_type": "markdown",
      "source": [
        "<img src='https://drive.google.com/uc?id=1X7Pwj8tofehUMcopYYUqVi-SnStM6o1x' width=800>\n"
      ],
      "metadata": {
        "id": "tLGMJKXk6VUi"
      }
    },
    {
      "cell_type": "markdown",
      "source": [
        "<img src=\"https://drive.google.com/uc?id=1DY2kyzY1hKV6h8780cTVvgMgNyxhngXP\" width=800>"
      ],
      "metadata": {
        "id": "9xwR1QAfzK4I"
      }
    },
    {
      "cell_type": "markdown",
      "source": [
        "<img src='https://drive.google.com/uc?id=13OZ480BlQX4mF27-Tpr1S-NcxggGF3CT' width=800>\n",
        "\n"
      ],
      "metadata": {
        "id": "g8hZytjHSz0I"
      }
    },
    {
      "cell_type": "markdown",
      "metadata": {
        "id": "PWDZj_TxLKY1"
      },
      "source": [
        "Geometrically, we are trying to finding the global minimal of the loss function\n",
        "\n",
        "- In 2D, let's think of this like a parabola.\n",
        "- Our aim is to find the global minimal point of this parabola.\n"
      ]
    },
    {
      "cell_type": "markdown",
      "metadata": {
        "id": "Fd7B9bhzMuVv"
      },
      "source": [
        "### Solving the optimization equation"
      ]
    },
    {
      "cell_type": "markdown",
      "source": [
        "<img src='https://drive.google.com/uc?id=1oalHHCm2lzkdfyvQNNdJWIwCM9BLhoyy' width=800>\n"
      ],
      "metadata": {
        "id": "CrLfaFWCTGf5"
      }
    },
    {
      "cell_type": "markdown",
      "source": [
        "\n",
        "<img src='https://drive.google.com/uc?id=1t5Hf9HttkkIpRjLCgVmAErIUMzFK3LyR' width=800>\n"
      ],
      "metadata": {
        "id": "Yzvqx_8wTa9U"
      }
    },
    {
      "cell_type": "markdown",
      "source": [
        "\n",
        "<img src='https://drive.google.com/uc?id=1AZ7HUi8QujSTESPX6Xcz5bygNIFRVt36' width=800>\n",
        "\n"
      ],
      "metadata": {
        "id": "QCPN33DVTgtg"
      }
    },
    {
      "cell_type": "markdown",
      "source": [
        "<img src='https://drive.google.com/uc?id=1hmvE4ypAP5hImKE8ko3CQhjpUH8PyGNI' width=800>\n",
        "\n"
      ],
      "metadata": {
        "id": "tiR44epXTsJQ"
      }
    },
    {
      "cell_type": "markdown",
      "source": [
        "#### How to update the weights now?"
      ],
      "metadata": {
        "id": "igj0ZXdWFuw8"
      }
    },
    {
      "cell_type": "markdown",
      "source": [
        "<img src='https://drive.google.com/uc?id=1JmZa0MQATa1VnESj23sQSAaM4MU_Ub1w' width=800>\n"
      ],
      "metadata": {
        "id": "P7RYOGcOUFxH"
      }
    },
    {
      "cell_type": "markdown",
      "source": [
        "<img src='https://drive.google.com/uc?id=1ed96ikDxQYE9p3S8c1L5nMQE3BXc_ecB' width=800>"
      ],
      "metadata": {
        "id": "06-6xgtlUbkD"
      }
    },
    {
      "cell_type": "markdown",
      "source": [
        "\n",
        "**What is the importance of learning rate (α/η)?**\n",
        "\n",
        "α/η is considered as a step size which when iterated over will reach minima of the cost function.\n",
        "\n",
        "- Since Learning rate defines the size of a jump or step size.\n",
        "  - Too small a value -> the updates will happen very slowly.\n",
        "  - A large value -> it may overshoot the minima.\n",
        "\n",
        "- Then we have to iterate back again to reach the minimum. At times it results in oscillations back and forth.\n",
        "\n",
        "- One hack that you can do is we should decrease the value of η as iteration increases. This helps to reach minima more easily and not overshoot."
      ],
      "metadata": {
        "id": "wO-TX0YvFw0b"
      }
    },
    {
      "cell_type": "markdown",
      "source": [
        "## Implementation of weights update using gradient descent, and fit function"
      ],
      "metadata": {
        "id": "R4SPBrZi0IQk"
      }
    },
    {
      "cell_type": "code",
      "source": [
        "import numpy as np\n",
        "class LinearRegression() :\n",
        "  def __init__(self, learning_rate=0.01, iterations=5):\n",
        "    self.learning_rate = learning_rate\n",
        "    self.iterations = iterations\n"
      ],
      "metadata": {
        "id": "AupPV3V58zV3"
      },
      "execution_count": null,
      "outputs": []
    },
    {
      "cell_type": "markdown",
      "source": [
        "Next we define our predict function.\n",
        "\n",
        "It's simply $X*W + b$"
      ],
      "metadata": {
        "id": "u0vVds6C2oSK"
      }
    },
    {
      "cell_type": "code",
      "source": [
        "def predict(self, X):\n",
        "  return np.dot(X, self.W)+self.b\n",
        "\n",
        "LinearRegression.predict=predict"
      ],
      "metadata": {
        "id": "JG67iBro8_fY"
      },
      "execution_count": null,
      "outputs": []
    },
    {
      "cell_type": "code",
      "source": [
        "def update_weights(self):\n",
        "  Y_pred = self.predict(self.X)\n",
        "  # calculate gradients\n",
        "  dW = - (2*(self.X.T ).dot(self.Y - Y_pred))/self.m\n",
        "  db = - 2*np.sum(self.Y - Y_pred)/self.m\n",
        "\n",
        "  # update weights\n",
        "  self.W = self.W - self.learning_rate * dW\n",
        "  self.b = self.b - self.learning_rate * db\n",
        "\n",
        "  return(self.W ,self.b)\n",
        "  return self\n",
        "\n",
        "LinearRegression.update_weights=update_weights"
      ],
      "metadata": {
        "id": "QqcQ0J6AEhaW"
      },
      "execution_count": null,
      "outputs": []
    },
    {
      "cell_type": "markdown",
      "source": [
        "**Note:**\n",
        "- Using 1 point of updation is called stochastic gradient descent.\n",
        "- Whereas if we update the weights after m points, it's called batch gradient descent."
      ],
      "metadata": {
        "id": "J9NElsFFGutj"
      }
    },
    {
      "cell_type": "markdown",
      "source": [
        "Now finally, since we have all the required functions, </br>\n",
        "let's code the `fit` function now to fit our model to our data."
      ],
      "metadata": {
        "id": "OVUXgyLkxOrh"
      }
    },
    {
      "cell_type": "code",
      "source": [
        "def fit(self, X, Y):\n",
        "  # no_of_training_examples, no_of_features\n",
        "  self.m, self.d = X.shape\n",
        "  # weight initialization\n",
        "  self.W = np.zeros(self.d)\n",
        "  self.b = 0\n",
        "  self.X = X\n",
        "  self.Y = Y\n",
        "  self.error_list=[]\n",
        "  print(\"initial values of weight = \",self.W,self.b)\n",
        "  # gradient descent learning\n",
        "  for i in range(self.iterations):\n",
        "    self.W,self.b = self.update_weights()\n",
        "    Y_pred=X.dot(self.W)+self.b\n",
        "    print(\"wegihts = \", self.W,\"bias = \",self.b,\"predicted value = \",Y_pred[0],\"actual value =\",Y[0])\n",
        "    error=np.square(np.subtract(Y,Y_pred)).mean()\n",
        "    self.error_list.append(error)\n",
        "\n",
        "  return self\n",
        "\n",
        "LinearRegression.fit=fit"
      ],
      "metadata": {
        "id": "aSX-Z-HUJaPb"
      },
      "execution_count": null,
      "outputs": []
    },
    {
      "cell_type": "markdown",
      "source": [
        "Let's train our model now on our data"
      ],
      "metadata": {
        "id": "fodLifRpy1SL"
      }
    },
    {
      "cell_type": "code",
      "source": [
        "import numpy as np\n",
        "import pandas as pd\n",
        "import matplotlib.pyplot as plt\n",
        "\n",
        "!gdown 1G40LqY-c0KSoCkav3OwSKF6xihnipoWF"
      ],
      "metadata": {
        "colab": {
          "base_uri": "https://localhost:8080/"
        },
        "id": "cWjWL56kKiyq",
        "outputId": "3aa2c50f-6f41-498c-c6ca-dbf8f8df1a72"
      },
      "execution_count": null,
      "outputs": [
        {
          "output_type": "stream",
          "name": "stdout",
          "text": [
            "Downloading...\n",
            "From: https://drive.google.com/uc?id=1G40LqY-c0KSoCkav3OwSKF6xihnipoWF\n",
            "To: /content/Housing.csv\n",
            "\r  0% 0.00/30.0k [00:00<?, ?B/s]\r100% 30.0k/30.0k [00:00<00:00, 44.1MB/s]\n"
          ]
        }
      ]
    },
    {
      "cell_type": "code",
      "source": [
        "df = pd.read_csv('/content/Housing.csv')\n",
        "df.head()"
      ],
      "metadata": {
        "colab": {
          "base_uri": "https://localhost:8080/",
          "height": 226
        },
        "id": "GA-MEmss3oce",
        "outputId": "32c98b14-9c0c-443d-a249-a3119eb96df3"
      },
      "execution_count": null,
      "outputs": [
        {
          "output_type": "execute_result",
          "data": {
            "text/plain": [
              "      price  area  bedrooms  bathrooms  stories mainroad guestroom basement  \\\n",
              "0  13300000  7420         4          2        3      yes        no       no   \n",
              "1  12250000  8960         4          4        4      yes        no       no   \n",
              "2  12250000  9960         3          2        2      yes        no      yes   \n",
              "3  12215000  7500         4          2        2      yes        no      yes   \n",
              "4  11410000  7420         4          1        2      yes       yes      yes   \n",
              "\n",
              "  hotwaterheating airconditioning  parking prefarea furnishingstatus  \n",
              "0              no             yes        2      yes        furnished  \n",
              "1              no             yes        3       no        furnished  \n",
              "2              no              no        2      yes   semi-furnished  \n",
              "3              no             yes        3      yes        furnished  \n",
              "4              no             yes        2       no        furnished  "
            ],
            "text/html": [
              "\n",
              "  <div id=\"df-3a4da87f-93cc-4131-8285-5230fc0fbb28\" class=\"colab-df-container\">\n",
              "    <div>\n",
              "<style scoped>\n",
              "    .dataframe tbody tr th:only-of-type {\n",
              "        vertical-align: middle;\n",
              "    }\n",
              "\n",
              "    .dataframe tbody tr th {\n",
              "        vertical-align: top;\n",
              "    }\n",
              "\n",
              "    .dataframe thead th {\n",
              "        text-align: right;\n",
              "    }\n",
              "</style>\n",
              "<table border=\"1\" class=\"dataframe\">\n",
              "  <thead>\n",
              "    <tr style=\"text-align: right;\">\n",
              "      <th></th>\n",
              "      <th>price</th>\n",
              "      <th>area</th>\n",
              "      <th>bedrooms</th>\n",
              "      <th>bathrooms</th>\n",
              "      <th>stories</th>\n",
              "      <th>mainroad</th>\n",
              "      <th>guestroom</th>\n",
              "      <th>basement</th>\n",
              "      <th>hotwaterheating</th>\n",
              "      <th>airconditioning</th>\n",
              "      <th>parking</th>\n",
              "      <th>prefarea</th>\n",
              "      <th>furnishingstatus</th>\n",
              "    </tr>\n",
              "  </thead>\n",
              "  <tbody>\n",
              "    <tr>\n",
              "      <th>0</th>\n",
              "      <td>13300000</td>\n",
              "      <td>7420</td>\n",
              "      <td>4</td>\n",
              "      <td>2</td>\n",
              "      <td>3</td>\n",
              "      <td>yes</td>\n",
              "      <td>no</td>\n",
              "      <td>no</td>\n",
              "      <td>no</td>\n",
              "      <td>yes</td>\n",
              "      <td>2</td>\n",
              "      <td>yes</td>\n",
              "      <td>furnished</td>\n",
              "    </tr>\n",
              "    <tr>\n",
              "      <th>1</th>\n",
              "      <td>12250000</td>\n",
              "      <td>8960</td>\n",
              "      <td>4</td>\n",
              "      <td>4</td>\n",
              "      <td>4</td>\n",
              "      <td>yes</td>\n",
              "      <td>no</td>\n",
              "      <td>no</td>\n",
              "      <td>no</td>\n",
              "      <td>yes</td>\n",
              "      <td>3</td>\n",
              "      <td>no</td>\n",
              "      <td>furnished</td>\n",
              "    </tr>\n",
              "    <tr>\n",
              "      <th>2</th>\n",
              "      <td>12250000</td>\n",
              "      <td>9960</td>\n",
              "      <td>3</td>\n",
              "      <td>2</td>\n",
              "      <td>2</td>\n",
              "      <td>yes</td>\n",
              "      <td>no</td>\n",
              "      <td>yes</td>\n",
              "      <td>no</td>\n",
              "      <td>no</td>\n",
              "      <td>2</td>\n",
              "      <td>yes</td>\n",
              "      <td>semi-furnished</td>\n",
              "    </tr>\n",
              "    <tr>\n",
              "      <th>3</th>\n",
              "      <td>12215000</td>\n",
              "      <td>7500</td>\n",
              "      <td>4</td>\n",
              "      <td>2</td>\n",
              "      <td>2</td>\n",
              "      <td>yes</td>\n",
              "      <td>no</td>\n",
              "      <td>yes</td>\n",
              "      <td>no</td>\n",
              "      <td>yes</td>\n",
              "      <td>3</td>\n",
              "      <td>yes</td>\n",
              "      <td>furnished</td>\n",
              "    </tr>\n",
              "    <tr>\n",
              "      <th>4</th>\n",
              "      <td>11410000</td>\n",
              "      <td>7420</td>\n",
              "      <td>4</td>\n",
              "      <td>1</td>\n",
              "      <td>2</td>\n",
              "      <td>yes</td>\n",
              "      <td>yes</td>\n",
              "      <td>yes</td>\n",
              "      <td>no</td>\n",
              "      <td>yes</td>\n",
              "      <td>2</td>\n",
              "      <td>no</td>\n",
              "      <td>furnished</td>\n",
              "    </tr>\n",
              "  </tbody>\n",
              "</table>\n",
              "</div>\n",
              "    <div class=\"colab-df-buttons\">\n",
              "\n",
              "  <div class=\"colab-df-container\">\n",
              "    <button class=\"colab-df-convert\" onclick=\"convertToInteractive('df-3a4da87f-93cc-4131-8285-5230fc0fbb28')\"\n",
              "            title=\"Convert this dataframe to an interactive table.\"\n",
              "            style=\"display:none;\">\n",
              "\n",
              "  <svg xmlns=\"http://www.w3.org/2000/svg\" height=\"24px\" viewBox=\"0 -960 960 960\">\n",
              "    <path d=\"M120-120v-720h720v720H120Zm60-500h600v-160H180v160Zm220 220h160v-160H400v160Zm0 220h160v-160H400v160ZM180-400h160v-160H180v160Zm440 0h160v-160H620v160ZM180-180h160v-160H180v160Zm440 0h160v-160H620v160Z\"/>\n",
              "  </svg>\n",
              "    </button>\n",
              "\n",
              "  <style>\n",
              "    .colab-df-container {\n",
              "      display:flex;\n",
              "      gap: 12px;\n",
              "    }\n",
              "\n",
              "    .colab-df-convert {\n",
              "      background-color: #E8F0FE;\n",
              "      border: none;\n",
              "      border-radius: 50%;\n",
              "      cursor: pointer;\n",
              "      display: none;\n",
              "      fill: #1967D2;\n",
              "      height: 32px;\n",
              "      padding: 0 0 0 0;\n",
              "      width: 32px;\n",
              "    }\n",
              "\n",
              "    .colab-df-convert:hover {\n",
              "      background-color: #E2EBFA;\n",
              "      box-shadow: 0px 1px 2px rgba(60, 64, 67, 0.3), 0px 1px 3px 1px rgba(60, 64, 67, 0.15);\n",
              "      fill: #174EA6;\n",
              "    }\n",
              "\n",
              "    .colab-df-buttons div {\n",
              "      margin-bottom: 4px;\n",
              "    }\n",
              "\n",
              "    [theme=dark] .colab-df-convert {\n",
              "      background-color: #3B4455;\n",
              "      fill: #D2E3FC;\n",
              "    }\n",
              "\n",
              "    [theme=dark] .colab-df-convert:hover {\n",
              "      background-color: #434B5C;\n",
              "      box-shadow: 0px 1px 3px 1px rgba(0, 0, 0, 0.15);\n",
              "      filter: drop-shadow(0px 1px 2px rgba(0, 0, 0, 0.3));\n",
              "      fill: #FFFFFF;\n",
              "    }\n",
              "  </style>\n",
              "\n",
              "    <script>\n",
              "      const buttonEl =\n",
              "        document.querySelector('#df-3a4da87f-93cc-4131-8285-5230fc0fbb28 button.colab-df-convert');\n",
              "      buttonEl.style.display =\n",
              "        google.colab.kernel.accessAllowed ? 'block' : 'none';\n",
              "\n",
              "      async function convertToInteractive(key) {\n",
              "        const element = document.querySelector('#df-3a4da87f-93cc-4131-8285-5230fc0fbb28');\n",
              "        const dataTable =\n",
              "          await google.colab.kernel.invokeFunction('convertToInteractive',\n",
              "                                                    [key], {});\n",
              "        if (!dataTable) return;\n",
              "\n",
              "        const docLinkHtml = 'Like what you see? Visit the ' +\n",
              "          '<a target=\"_blank\" href=https://colab.research.google.com/notebooks/data_table.ipynb>data table notebook</a>'\n",
              "          + ' to learn more about interactive tables.';\n",
              "        element.innerHTML = '';\n",
              "        dataTable['output_type'] = 'display_data';\n",
              "        await google.colab.output.renderOutput(dataTable, element);\n",
              "        const docLink = document.createElement('div');\n",
              "        docLink.innerHTML = docLinkHtml;\n",
              "        element.appendChild(docLink);\n",
              "      }\n",
              "    </script>\n",
              "  </div>\n",
              "\n",
              "\n",
              "<div id=\"df-43861f23-2435-4a5e-a601-b09ca36ca540\">\n",
              "  <button class=\"colab-df-quickchart\" onclick=\"quickchart('df-43861f23-2435-4a5e-a601-b09ca36ca540')\"\n",
              "            title=\"Suggest charts\"\n",
              "            style=\"display:none;\">\n",
              "\n",
              "<svg xmlns=\"http://www.w3.org/2000/svg\" height=\"24px\"viewBox=\"0 0 24 24\"\n",
              "     width=\"24px\">\n",
              "    <g>\n",
              "        <path d=\"M19 3H5c-1.1 0-2 .9-2 2v14c0 1.1.9 2 2 2h14c1.1 0 2-.9 2-2V5c0-1.1-.9-2-2-2zM9 17H7v-7h2v7zm4 0h-2V7h2v10zm4 0h-2v-4h2v4z\"/>\n",
              "    </g>\n",
              "</svg>\n",
              "  </button>\n",
              "\n",
              "<style>\n",
              "  .colab-df-quickchart {\n",
              "      --bg-color: #E8F0FE;\n",
              "      --fill-color: #1967D2;\n",
              "      --hover-bg-color: #E2EBFA;\n",
              "      --hover-fill-color: #174EA6;\n",
              "      --disabled-fill-color: #AAA;\n",
              "      --disabled-bg-color: #DDD;\n",
              "  }\n",
              "\n",
              "  [theme=dark] .colab-df-quickchart {\n",
              "      --bg-color: #3B4455;\n",
              "      --fill-color: #D2E3FC;\n",
              "      --hover-bg-color: #434B5C;\n",
              "      --hover-fill-color: #FFFFFF;\n",
              "      --disabled-bg-color: #3B4455;\n",
              "      --disabled-fill-color: #666;\n",
              "  }\n",
              "\n",
              "  .colab-df-quickchart {\n",
              "    background-color: var(--bg-color);\n",
              "    border: none;\n",
              "    border-radius: 50%;\n",
              "    cursor: pointer;\n",
              "    display: none;\n",
              "    fill: var(--fill-color);\n",
              "    height: 32px;\n",
              "    padding: 0;\n",
              "    width: 32px;\n",
              "  }\n",
              "\n",
              "  .colab-df-quickchart:hover {\n",
              "    background-color: var(--hover-bg-color);\n",
              "    box-shadow: 0 1px 2px rgba(60, 64, 67, 0.3), 0 1px 3px 1px rgba(60, 64, 67, 0.15);\n",
              "    fill: var(--button-hover-fill-color);\n",
              "  }\n",
              "\n",
              "  .colab-df-quickchart-complete:disabled,\n",
              "  .colab-df-quickchart-complete:disabled:hover {\n",
              "    background-color: var(--disabled-bg-color);\n",
              "    fill: var(--disabled-fill-color);\n",
              "    box-shadow: none;\n",
              "  }\n",
              "\n",
              "  .colab-df-spinner {\n",
              "    border: 2px solid var(--fill-color);\n",
              "    border-color: transparent;\n",
              "    border-bottom-color: var(--fill-color);\n",
              "    animation:\n",
              "      spin 1s steps(1) infinite;\n",
              "  }\n",
              "\n",
              "  @keyframes spin {\n",
              "    0% {\n",
              "      border-color: transparent;\n",
              "      border-bottom-color: var(--fill-color);\n",
              "      border-left-color: var(--fill-color);\n",
              "    }\n",
              "    20% {\n",
              "      border-color: transparent;\n",
              "      border-left-color: var(--fill-color);\n",
              "      border-top-color: var(--fill-color);\n",
              "    }\n",
              "    30% {\n",
              "      border-color: transparent;\n",
              "      border-left-color: var(--fill-color);\n",
              "      border-top-color: var(--fill-color);\n",
              "      border-right-color: var(--fill-color);\n",
              "    }\n",
              "    40% {\n",
              "      border-color: transparent;\n",
              "      border-right-color: var(--fill-color);\n",
              "      border-top-color: var(--fill-color);\n",
              "    }\n",
              "    60% {\n",
              "      border-color: transparent;\n",
              "      border-right-color: var(--fill-color);\n",
              "    }\n",
              "    80% {\n",
              "      border-color: transparent;\n",
              "      border-right-color: var(--fill-color);\n",
              "      border-bottom-color: var(--fill-color);\n",
              "    }\n",
              "    90% {\n",
              "      border-color: transparent;\n",
              "      border-bottom-color: var(--fill-color);\n",
              "    }\n",
              "  }\n",
              "</style>\n",
              "\n",
              "  <script>\n",
              "    async function quickchart(key) {\n",
              "      const quickchartButtonEl =\n",
              "        document.querySelector('#' + key + ' button');\n",
              "      quickchartButtonEl.disabled = true;  // To prevent multiple clicks.\n",
              "      quickchartButtonEl.classList.add('colab-df-spinner');\n",
              "      try {\n",
              "        const charts = await google.colab.kernel.invokeFunction(\n",
              "            'suggestCharts', [key], {});\n",
              "      } catch (error) {\n",
              "        console.error('Error during call to suggestCharts:', error);\n",
              "      }\n",
              "      quickchartButtonEl.classList.remove('colab-df-spinner');\n",
              "      quickchartButtonEl.classList.add('colab-df-quickchart-complete');\n",
              "    }\n",
              "    (() => {\n",
              "      let quickchartButtonEl =\n",
              "        document.querySelector('#df-43861f23-2435-4a5e-a601-b09ca36ca540 button');\n",
              "      quickchartButtonEl.style.display =\n",
              "        google.colab.kernel.accessAllowed ? 'block' : 'none';\n",
              "    })();\n",
              "  </script>\n",
              "</div>\n",
              "    </div>\n",
              "  </div>\n"
            ],
            "application/vnd.google.colaboratory.intrinsic+json": {
              "type": "dataframe",
              "variable_name": "df",
              "summary": "{\n  \"name\": \"df\",\n  \"rows\": 545,\n  \"fields\": [\n    {\n      \"column\": \"price\",\n      \"properties\": {\n        \"dtype\": \"number\",\n        \"std\": 1870439,\n        \"min\": 1750000,\n        \"max\": 13300000,\n        \"num_unique_values\": 219,\n        \"samples\": [\n          3773000,\n          5285000,\n          1820000\n        ],\n        \"semantic_type\": \"\",\n        \"description\": \"\"\n      }\n    },\n    {\n      \"column\": \"area\",\n      \"properties\": {\n        \"dtype\": \"number\",\n        \"std\": 2170,\n        \"min\": 1650,\n        \"max\": 16200,\n        \"num_unique_values\": 284,\n        \"samples\": [\n          6000,\n          2684,\n          5360\n        ],\n        \"semantic_type\": \"\",\n        \"description\": \"\"\n      }\n    },\n    {\n      \"column\": \"bedrooms\",\n      \"properties\": {\n        \"dtype\": \"number\",\n        \"std\": 0,\n        \"min\": 1,\n        \"max\": 6,\n        \"num_unique_values\": 6,\n        \"samples\": [\n          4,\n          3,\n          1\n        ],\n        \"semantic_type\": \"\",\n        \"description\": \"\"\n      }\n    },\n    {\n      \"column\": \"bathrooms\",\n      \"properties\": {\n        \"dtype\": \"number\",\n        \"std\": 0,\n        \"min\": 1,\n        \"max\": 4,\n        \"num_unique_values\": 4,\n        \"samples\": [\n          4,\n          3,\n          2\n        ],\n        \"semantic_type\": \"\",\n        \"description\": \"\"\n      }\n    },\n    {\n      \"column\": \"stories\",\n      \"properties\": {\n        \"dtype\": \"number\",\n        \"std\": 0,\n        \"min\": 1,\n        \"max\": 4,\n        \"num_unique_values\": 4,\n        \"samples\": [\n          4,\n          1,\n          3\n        ],\n        \"semantic_type\": \"\",\n        \"description\": \"\"\n      }\n    },\n    {\n      \"column\": \"mainroad\",\n      \"properties\": {\n        \"dtype\": \"category\",\n        \"num_unique_values\": 2,\n        \"samples\": [\n          \"no\",\n          \"yes\"\n        ],\n        \"semantic_type\": \"\",\n        \"description\": \"\"\n      }\n    },\n    {\n      \"column\": \"guestroom\",\n      \"properties\": {\n        \"dtype\": \"category\",\n        \"num_unique_values\": 2,\n        \"samples\": [\n          \"yes\",\n          \"no\"\n        ],\n        \"semantic_type\": \"\",\n        \"description\": \"\"\n      }\n    },\n    {\n      \"column\": \"basement\",\n      \"properties\": {\n        \"dtype\": \"category\",\n        \"num_unique_values\": 2,\n        \"samples\": [\n          \"yes\",\n          \"no\"\n        ],\n        \"semantic_type\": \"\",\n        \"description\": \"\"\n      }\n    },\n    {\n      \"column\": \"hotwaterheating\",\n      \"properties\": {\n        \"dtype\": \"category\",\n        \"num_unique_values\": 2,\n        \"samples\": [\n          \"yes\",\n          \"no\"\n        ],\n        \"semantic_type\": \"\",\n        \"description\": \"\"\n      }\n    },\n    {\n      \"column\": \"airconditioning\",\n      \"properties\": {\n        \"dtype\": \"category\",\n        \"num_unique_values\": 2,\n        \"samples\": [\n          \"no\",\n          \"yes\"\n        ],\n        \"semantic_type\": \"\",\n        \"description\": \"\"\n      }\n    },\n    {\n      \"column\": \"parking\",\n      \"properties\": {\n        \"dtype\": \"number\",\n        \"std\": 0,\n        \"min\": 0,\n        \"max\": 3,\n        \"num_unique_values\": 4,\n        \"samples\": [\n          3,\n          1\n        ],\n        \"semantic_type\": \"\",\n        \"description\": \"\"\n      }\n    },\n    {\n      \"column\": \"prefarea\",\n      \"properties\": {\n        \"dtype\": \"category\",\n        \"num_unique_values\": 2,\n        \"samples\": [\n          \"no\",\n          \"yes\"\n        ],\n        \"semantic_type\": \"\",\n        \"description\": \"\"\n      }\n    },\n    {\n      \"column\": \"furnishingstatus\",\n      \"properties\": {\n        \"dtype\": \"category\",\n        \"num_unique_values\": 3,\n        \"samples\": [\n          \"furnished\",\n          \"semi-furnished\"\n        ],\n        \"semantic_type\": \"\",\n        \"description\": \"\"\n      }\n    }\n  ]\n}"
            }
          },
          "metadata": {},
          "execution_count": 47
        }
      ]
    },
    {
      "cell_type": "code",
      "source": [],
      "metadata": {
        "id": "BBXhXIWNG6ow"
      },
      "execution_count": null,
      "outputs": []
    },
    {
      "cell_type": "code",
      "source": [
        "# define X and y\n",
        "X = df[['area'\t,'bedrooms'\t,'bathrooms'\t,'stories','parking']]\n",
        "y = df[\"price\"]"
      ],
      "metadata": {
        "id": "w6pMF1xZ3oS1"
      },
      "execution_count": null,
      "outputs": []
    },
    {
      "cell_type": "code",
      "source": [
        "df.columns"
      ],
      "metadata": {
        "colab": {
          "base_uri": "https://localhost:8080/"
        },
        "id": "3a27pBOJF0Zf",
        "outputId": "7c1e8b8d-47a2-4e90-d32b-84bdbd669e22"
      },
      "execution_count": null,
      "outputs": [
        {
          "output_type": "execute_result",
          "data": {
            "text/plain": [
              "Index(['price', 'area', 'bedrooms', 'bathrooms', 'stories', 'mainroad',\n",
              "       'guestroom', 'basement', 'hotwaterheating', 'airconditioning',\n",
              "       'parking', 'prefarea', 'furnishingstatus'],\n",
              "      dtype='object')"
            ]
          },
          "metadata": {},
          "execution_count": 58
        }
      ]
    },
    {
      "cell_type": "code",
      "source": [
        "from sklearn.preprocessing import MinMaxScaler\n",
        "\n",
        "\n",
        "# Initialize the MinMaxScaler\n",
        "scaler = MinMaxScaler()\n",
        "\n",
        "# Fit and transform the features\n",
        "X_scaled = scaler.fit_transform(X)\n",
        "\n",
        "# Now X_scaled contains the scaled features\n"
      ],
      "metadata": {
        "id": "8D-pPMTkqWzP"
      },
      "execution_count": null,
      "outputs": []
    },
    {
      "cell_type": "code",
      "source": [],
      "metadata": {
        "id": "pXj4VBfhGrdr"
      },
      "execution_count": null,
      "outputs": []
    },
    {
      "cell_type": "code",
      "source": [
        "# new_data = pd.concat([X_scaled, df[[\"mainroad\",\"guestroom\",\"basement\",\"hotwaterheating\",\"airconditioning\"]]], axis=1)\n",
        "\n",
        "# new_data"
      ],
      "metadata": {
        "colab": {
          "base_uri": "https://localhost:8080/",
          "height": 356
        },
        "id": "hHI2zTm1GEIm",
        "outputId": "3284c29a-6556-4446-dfe5-58ad99b82c44"
      },
      "execution_count": null,
      "outputs": [
        {
          "output_type": "error",
          "ename": "TypeError",
          "evalue": "cannot concatenate object of type '<class 'numpy.ndarray'>'; only Series and DataFrame objs are valid",
          "traceback": [
            "\u001b[0;31m---------------------------------------------------------------------------\u001b[0m",
            "\u001b[0;31mTypeError\u001b[0m                                 Traceback (most recent call last)",
            "\u001b[0;32m<ipython-input-71-d0ea88e91f8d>\u001b[0m in \u001b[0;36m<cell line: 1>\u001b[0;34m()\u001b[0m\n\u001b[0;32m----> 1\u001b[0;31m \u001b[0mnew_data\u001b[0m \u001b[0;34m=\u001b[0m \u001b[0mpd\u001b[0m\u001b[0;34m.\u001b[0m\u001b[0mconcat\u001b[0m\u001b[0;34m(\u001b[0m\u001b[0;34m[\u001b[0m\u001b[0mX_scaled\u001b[0m\u001b[0;34m,\u001b[0m \u001b[0mdf\u001b[0m\u001b[0;34m[\u001b[0m\u001b[0;34m[\u001b[0m\u001b[0;34m\"mainroad\"\u001b[0m\u001b[0;34m,\u001b[0m\u001b[0;34m\"guestroom\"\u001b[0m\u001b[0;34m,\u001b[0m\u001b[0;34m\"basement\"\u001b[0m\u001b[0;34m,\u001b[0m\u001b[0;34m\"hotwaterheating\"\u001b[0m\u001b[0;34m,\u001b[0m\u001b[0;34m\"airconditioning\"\u001b[0m\u001b[0;34m]\u001b[0m\u001b[0;34m]\u001b[0m\u001b[0;34m]\u001b[0m\u001b[0;34m,\u001b[0m \u001b[0maxis\u001b[0m\u001b[0;34m=\u001b[0m\u001b[0;36m1\u001b[0m\u001b[0;34m)\u001b[0m\u001b[0;34m\u001b[0m\u001b[0;34m\u001b[0m\u001b[0m\n\u001b[0m\u001b[1;32m      2\u001b[0m \u001b[0;34m\u001b[0m\u001b[0m\n\u001b[1;32m      3\u001b[0m \u001b[0mnew_data\u001b[0m\u001b[0;34m\u001b[0m\u001b[0;34m\u001b[0m\u001b[0m\n",
            "\u001b[0;32m/usr/local/lib/python3.10/dist-packages/pandas/core/reshape/concat.py\u001b[0m in \u001b[0;36mconcat\u001b[0;34m(objs, axis, join, ignore_index, keys, levels, names, verify_integrity, sort, copy)\u001b[0m\n\u001b[1;32m    370\u001b[0m         \u001b[0mcopy\u001b[0m \u001b[0;34m=\u001b[0m \u001b[0;32mFalse\u001b[0m\u001b[0;34m\u001b[0m\u001b[0;34m\u001b[0m\u001b[0m\n\u001b[1;32m    371\u001b[0m \u001b[0;34m\u001b[0m\u001b[0m\n\u001b[0;32m--> 372\u001b[0;31m     op = _Concatenator(\n\u001b[0m\u001b[1;32m    373\u001b[0m         \u001b[0mobjs\u001b[0m\u001b[0;34m,\u001b[0m\u001b[0;34m\u001b[0m\u001b[0;34m\u001b[0m\u001b[0m\n\u001b[1;32m    374\u001b[0m         \u001b[0maxis\u001b[0m\u001b[0;34m=\u001b[0m\u001b[0maxis\u001b[0m\u001b[0;34m,\u001b[0m\u001b[0;34m\u001b[0m\u001b[0;34m\u001b[0m\u001b[0m\n",
            "\u001b[0;32m/usr/local/lib/python3.10/dist-packages/pandas/core/reshape/concat.py\u001b[0m in \u001b[0;36m__init__\u001b[0;34m(self, objs, axis, join, keys, levels, names, ignore_index, verify_integrity, copy, sort)\u001b[0m\n\u001b[1;32m    460\u001b[0m                     \u001b[0;34m\"only Series and DataFrame objs are valid\"\u001b[0m\u001b[0;34m\u001b[0m\u001b[0;34m\u001b[0m\u001b[0m\n\u001b[1;32m    461\u001b[0m                 )\n\u001b[0;32m--> 462\u001b[0;31m                 \u001b[0;32mraise\u001b[0m \u001b[0mTypeError\u001b[0m\u001b[0;34m(\u001b[0m\u001b[0mmsg\u001b[0m\u001b[0;34m)\u001b[0m\u001b[0;34m\u001b[0m\u001b[0;34m\u001b[0m\u001b[0m\n\u001b[0m\u001b[1;32m    463\u001b[0m \u001b[0;34m\u001b[0m\u001b[0m\n\u001b[1;32m    464\u001b[0m             \u001b[0mndims\u001b[0m\u001b[0;34m.\u001b[0m\u001b[0madd\u001b[0m\u001b[0;34m(\u001b[0m\u001b[0mobj\u001b[0m\u001b[0;34m.\u001b[0m\u001b[0mndim\u001b[0m\u001b[0;34m)\u001b[0m\u001b[0;34m\u001b[0m\u001b[0;34m\u001b[0m\u001b[0m\n",
            "\u001b[0;31mTypeError\u001b[0m: cannot concatenate object of type '<class 'numpy.ndarray'>'; only Series and DataFrame objs are valid"
          ]
        }
      ]
    },
    {
      "cell_type": "code",
      "source": [
        "X[[\"mainroad\",\"guestroom\",\"basement\",\"hotwaterheating\",\"airconditioning\"]]"
      ],
      "metadata": {
        "colab": {
          "base_uri": "https://localhost:8080/",
          "height": 304
        },
        "id": "4ylVdI-rG3cH",
        "outputId": "a99d9fe6-a8a5-4108-bcc3-91e302141ae4"
      },
      "execution_count": null,
      "outputs": [
        {
          "output_type": "error",
          "ename": "KeyError",
          "evalue": "\"None of [Index(['mainroad', 'guestroom', 'basement', 'hotwaterheating',\\n       'airconditioning'],\\n      dtype='object')] are in the [columns]\"",
          "traceback": [
            "\u001b[0;31m---------------------------------------------------------------------------\u001b[0m",
            "\u001b[0;31mKeyError\u001b[0m                                  Traceback (most recent call last)",
            "\u001b[0;32m<ipython-input-69-8db5b2a1f39d>\u001b[0m in \u001b[0;36m<cell line: 1>\u001b[0;34m()\u001b[0m\n\u001b[0;32m----> 1\u001b[0;31m \u001b[0mX\u001b[0m\u001b[0;34m[\u001b[0m\u001b[0;34m[\u001b[0m\u001b[0;34m\"mainroad\"\u001b[0m\u001b[0;34m,\u001b[0m\u001b[0;34m\"guestroom\"\u001b[0m\u001b[0;34m,\u001b[0m\u001b[0;34m\"basement\"\u001b[0m\u001b[0;34m,\u001b[0m\u001b[0;34m\"hotwaterheating\"\u001b[0m\u001b[0;34m,\u001b[0m\u001b[0;34m\"airconditioning\"\u001b[0m\u001b[0;34m]\u001b[0m\u001b[0;34m]\u001b[0m\u001b[0;34m\u001b[0m\u001b[0;34m\u001b[0m\u001b[0m\n\u001b[0m",
            "\u001b[0;32m/usr/local/lib/python3.10/dist-packages/pandas/core/frame.py\u001b[0m in \u001b[0;36m__getitem__\u001b[0;34m(self, key)\u001b[0m\n\u001b[1;32m   3765\u001b[0m             \u001b[0;32mif\u001b[0m \u001b[0mis_iterator\u001b[0m\u001b[0;34m(\u001b[0m\u001b[0mkey\u001b[0m\u001b[0;34m)\u001b[0m\u001b[0;34m:\u001b[0m\u001b[0;34m\u001b[0m\u001b[0;34m\u001b[0m\u001b[0m\n\u001b[1;32m   3766\u001b[0m                 \u001b[0mkey\u001b[0m \u001b[0;34m=\u001b[0m \u001b[0mlist\u001b[0m\u001b[0;34m(\u001b[0m\u001b[0mkey\u001b[0m\u001b[0;34m)\u001b[0m\u001b[0;34m\u001b[0m\u001b[0;34m\u001b[0m\u001b[0m\n\u001b[0;32m-> 3767\u001b[0;31m             \u001b[0mindexer\u001b[0m \u001b[0;34m=\u001b[0m \u001b[0mself\u001b[0m\u001b[0;34m.\u001b[0m\u001b[0mcolumns\u001b[0m\u001b[0;34m.\u001b[0m\u001b[0m_get_indexer_strict\u001b[0m\u001b[0;34m(\u001b[0m\u001b[0mkey\u001b[0m\u001b[0;34m,\u001b[0m \u001b[0;34m\"columns\"\u001b[0m\u001b[0;34m)\u001b[0m\u001b[0;34m[\u001b[0m\u001b[0;36m1\u001b[0m\u001b[0;34m]\u001b[0m\u001b[0;34m\u001b[0m\u001b[0;34m\u001b[0m\u001b[0m\n\u001b[0m\u001b[1;32m   3768\u001b[0m \u001b[0;34m\u001b[0m\u001b[0m\n\u001b[1;32m   3769\u001b[0m         \u001b[0;31m# take() does not accept boolean indexers\u001b[0m\u001b[0;34m\u001b[0m\u001b[0;34m\u001b[0m\u001b[0m\n",
            "\u001b[0;32m/usr/local/lib/python3.10/dist-packages/pandas/core/indexes/base.py\u001b[0m in \u001b[0;36m_get_indexer_strict\u001b[0;34m(self, key, axis_name)\u001b[0m\n\u001b[1;32m   5875\u001b[0m             \u001b[0mkeyarr\u001b[0m\u001b[0;34m,\u001b[0m \u001b[0mindexer\u001b[0m\u001b[0;34m,\u001b[0m \u001b[0mnew_indexer\u001b[0m \u001b[0;34m=\u001b[0m \u001b[0mself\u001b[0m\u001b[0;34m.\u001b[0m\u001b[0m_reindex_non_unique\u001b[0m\u001b[0;34m(\u001b[0m\u001b[0mkeyarr\u001b[0m\u001b[0;34m)\u001b[0m\u001b[0;34m\u001b[0m\u001b[0;34m\u001b[0m\u001b[0m\n\u001b[1;32m   5876\u001b[0m \u001b[0;34m\u001b[0m\u001b[0m\n\u001b[0;32m-> 5877\u001b[0;31m         \u001b[0mself\u001b[0m\u001b[0;34m.\u001b[0m\u001b[0m_raise_if_missing\u001b[0m\u001b[0;34m(\u001b[0m\u001b[0mkeyarr\u001b[0m\u001b[0;34m,\u001b[0m \u001b[0mindexer\u001b[0m\u001b[0;34m,\u001b[0m \u001b[0maxis_name\u001b[0m\u001b[0;34m)\u001b[0m\u001b[0;34m\u001b[0m\u001b[0;34m\u001b[0m\u001b[0m\n\u001b[0m\u001b[1;32m   5878\u001b[0m \u001b[0;34m\u001b[0m\u001b[0m\n\u001b[1;32m   5879\u001b[0m         \u001b[0mkeyarr\u001b[0m \u001b[0;34m=\u001b[0m \u001b[0mself\u001b[0m\u001b[0;34m.\u001b[0m\u001b[0mtake\u001b[0m\u001b[0;34m(\u001b[0m\u001b[0mindexer\u001b[0m\u001b[0;34m)\u001b[0m\u001b[0;34m\u001b[0m\u001b[0;34m\u001b[0m\u001b[0m\n",
            "\u001b[0;32m/usr/local/lib/python3.10/dist-packages/pandas/core/indexes/base.py\u001b[0m in \u001b[0;36m_raise_if_missing\u001b[0;34m(self, key, indexer, axis_name)\u001b[0m\n\u001b[1;32m   5936\u001b[0m                 \u001b[0;32mif\u001b[0m \u001b[0muse_interval_msg\u001b[0m\u001b[0;34m:\u001b[0m\u001b[0;34m\u001b[0m\u001b[0;34m\u001b[0m\u001b[0m\n\u001b[1;32m   5937\u001b[0m                     \u001b[0mkey\u001b[0m \u001b[0;34m=\u001b[0m \u001b[0mlist\u001b[0m\u001b[0;34m(\u001b[0m\u001b[0mkey\u001b[0m\u001b[0;34m)\u001b[0m\u001b[0;34m\u001b[0m\u001b[0;34m\u001b[0m\u001b[0m\n\u001b[0;32m-> 5938\u001b[0;31m                 \u001b[0;32mraise\u001b[0m \u001b[0mKeyError\u001b[0m\u001b[0;34m(\u001b[0m\u001b[0;34mf\"None of [{key}] are in the [{axis_name}]\"\u001b[0m\u001b[0;34m)\u001b[0m\u001b[0;34m\u001b[0m\u001b[0;34m\u001b[0m\u001b[0m\n\u001b[0m\u001b[1;32m   5939\u001b[0m \u001b[0;34m\u001b[0m\u001b[0m\n\u001b[1;32m   5940\u001b[0m             \u001b[0mnot_found\u001b[0m \u001b[0;34m=\u001b[0m \u001b[0mlist\u001b[0m\u001b[0;34m(\u001b[0m\u001b[0mensure_index\u001b[0m\u001b[0;34m(\u001b[0m\u001b[0mkey\u001b[0m\u001b[0;34m)\u001b[0m\u001b[0;34m[\u001b[0m\u001b[0mmissing_mask\u001b[0m\u001b[0;34m.\u001b[0m\u001b[0mnonzero\u001b[0m\u001b[0;34m(\u001b[0m\u001b[0;34m)\u001b[0m\u001b[0;34m[\u001b[0m\u001b[0;36m0\u001b[0m\u001b[0;34m]\u001b[0m\u001b[0;34m]\u001b[0m\u001b[0;34m.\u001b[0m\u001b[0munique\u001b[0m\u001b[0;34m(\u001b[0m\u001b[0;34m)\u001b[0m\u001b[0;34m)\u001b[0m\u001b[0;34m\u001b[0m\u001b[0;34m\u001b[0m\u001b[0m\n",
            "\u001b[0;31mKeyError\u001b[0m: \"None of [Index(['mainroad', 'guestroom', 'basement', 'hotwaterheating',\\n       'airconditioning'],\\n      dtype='object')] are in the [columns]\""
          ]
        }
      ]
    },
    {
      "cell_type": "code",
      "source": [
        "from sklearn.model_selection import train_test_split\n",
        "X_train, X_test, y_train, y_test = train_test_split(X_scaled, y, test_size=0.2, random_state=10)"
      ],
      "metadata": {
        "id": "_2zVamTby5s_"
      },
      "execution_count": null,
      "outputs": []
    },
    {
      "cell_type": "code",
      "source": [
        "lr = LinearRegression(iterations=200)\n",
        "lr.fit(X_train, y_train)"
      ],
      "metadata": {
        "colab": {
          "base_uri": "https://localhost:8080/"
        },
        "id": "_YiKi0tmKs3h",
        "outputId": "76c1ded8-51f3-4b90-ac49-9f9f9555fd8c"
      },
      "execution_count": null,
      "outputs": [
        {
          "output_type": "stream",
          "name": "stdout",
          "text": [
            "initial values of weight =  [0. 0. 0. 0.] 0\n",
            "wegihts =  [25786.50258615 40189.62275229 12360.23608563 31206.00642202] bias =  96140.31834862386 predicted value =  116948.1235942157 actual value = 13300000\n",
            "wegihts =  [50948.63144814 79331.493456   24448.42257323 61631.06993345] bias =  189719.8373777317 predicted value =  230801.77125267716 actual value = 13300000\n",
            "wegihts =  [ 75502.77617505 117453.13661582  36271.66742889  91295.63691287] bias =  280805.90102149395 predicted value =  341642.3042855125 actual value = 13300000\n",
            "wegihts =  [ 99464.89559676 154581.3533337   47836.89184668 120219.61648893] bias =  369464.0831707141 predicted value =  449548.9455518461 actual value = 13300000\n",
            "wegihts =  [122850.5291055  190742.24032185  59150.83515753 148422.39466063] bias =  455758.23419462726 predicted value =  554598.835664375 actual value = 13300000\n",
            "wegihts =  [145674.80767985 225961.20841608  70220.05960902 175922.84804634] bias =  539750.5262399752 predicted value =  656867.0877167296 actual value = 13300000\n",
            "wegihts =  [167952.46461904 260263.00060251  81050.95501957 202739.35727157] bias =  621501.4973394943 predicted value =  756426.8405724469 actual value = 13300000\n",
            "wegihts =  [189697.84599502 293671.70957054  91649.74331032 228889.82000477] bias =  701070.0943611079 predicted value =  853349.3107533591 actual value = 13300000\n",
            "wegihts =  [210924.92082996 326210.79480439 102022.48291785 254391.66365063] bias =  778513.7148282944 predicted value =  947703.8429642092 actual value = 13300000\n",
            "wegihts =  [231647.29100611 357903.09922555 112175.07309098 279261.85770965] bias =  853888.2476412966 predicted value =  1039557.9592893377 actual value = 13300000\n",
            "wegihts =  [251878.20091533 388770.86539768 122113.25807458 303516.92581295] bias =  927248.1127280651 predicted value =  1128977.4070963436 actual value = 13300000\n",
            "wegihts =  [271630.5468549  418835.75130576 131842.63118347 327172.95744073] bias =  998646.299653062 predicted value =  1216026.2056806998 actual value = 13300000\n",
            "wegihts =  [290916.88617647 448118.84572035 141368.63876924 350245.61933272] bias =  1068134.4052113171 predicted value =  1300766.6916844188 actual value = 13300000\n",
            "wegihts =  [309749.44619447 476640.68315817 150696.58408275 372750.16659882] bias =  1135762.6700344067 predicted value =  1383259.563320988 actual value = 13300000\n",
            "wegihts =  [328140.13286042 504421.25844938 159831.6310352  394701.4535376 ] bias =  1201580.0142343245 predicted value =  1463563.9234379493 actual value = 13300000\n",
            "wegihts =  [346100.53920931 531480.04092209 168778.8078603  416113.94417053] bias =  1265634.0721105305 predicted value =  1541737.3214476714 actual value = 13300000\n",
            "wegihts =  [363641.95358384 557835.98821392 177543.01068016 437001.72249937] bias =  1327971.225944802 predicted value =  1617835.7941560668 actual value = 13300000\n",
            "wegihts =  [380775.36764268 583507.55972073 186129.00697755 457378.50249386] bias =  1388636.6389078603 predicted value =  1691913.905518212 actual value = 13300000\n",
            "wegihts =  [397511.48415809 608512.7296917  194541.43897679 477257.63781706] bias =  1447674.2871011188 predicted value =  1764024.7853490794 actual value = 13300000\n",
            "wegihts =  [413860.72460873 632868.99998039 202784.82693587 496652.1312949 ] bias =  1505126.9907562842 predicted value =  1834220.167016845 actual value = 13300000\n",
            "wegihts =  [429833.23657281 656593.41246053 210863.572352   515574.64413701] bias =  1561036.4446149431 predicted value =  1902550.424145504 actual value = 13300000\n",
            "wegihts =  [445438.90092698 679702.56111561 218781.96108288 534037.50491512] bias =  1615443.2475096898 predicted value =  1969064.6063528445 actual value = 13300000\n",
            "wegihts =  [460687.338856   702212.60381067 226544.16638605 552052.71830544] bias =  1668386.9311677765 predicted value =  2033810.4740491235 actual value = 13300000\n",
            "wegihts =  [475587.91867818 724139.27375462 234154.25187819 569631.97360138] bias =  1719905.9882577243 predicted value =  2096834.532321136 actual value = 13300000\n",
            "wegihts =  [490149.76249143 745497.89066145 241616.17441679 586786.65300245] bias =  1770037.8996987897 predicted value =  2158182.063925717 actual value = 13300000\n",
            "wegihts =  [504381.75264461 766303.37161798 248933.786906   603527.83968532] bias =  1818819.161252661 predicted value =  2217897.16141608 actual value = 13300000\n",
            "wegihts =  [518292.5380388  786570.24166598 256110.84102877 619866.32566274] bias =  1866285.3094162506 predicted value =  2276022.7584237843 actual value = 13300000\n",
            "wegihts =  [531890.54026303 806312.64410624 263150.98990714 635812.61943597] bias =  1912470.9466339524 predicted value =  2332600.6601185286 actual value = 13300000\n",
            "wegihts =  [545183.95956861 825544.35053171 270057.79069266 651376.95344599] bias =  1957409.7658472492 predicted value =  2387671.5728673693 actual value = 13300000\n",
            "wegihts =  [558180.78068654 844278.77059707 276834.70708871 666569.29132892] bias =  2001134.5743990873 predicted value =  2441275.1331144148 actual value = 13300000\n",
            "wegihts =  [570888.77849201 862528.96153139 283485.11180649 681399.33498079] bias =  2043677.3173099777 predicted value =  2493449.9355014805 actual value = 13300000\n",
            "wegihts =  [583315.52351999 880307.63740087 290012.28895653 695876.53143651] bias =  2085069.099942335 predicted value =  2544233.5602496513 actual value = 13300000\n",
            "wegihts =  [595468.38733584 897627.17812811 296419.43637729 710010.07956818] bias =  2125340.2100691344 predicted value =  2593662.5998211843 actual value = 13300000\n",
            "wegihts =  [607354.54776485 914499.63827429 302709.66790257 723808.93660724] bias =  2164520.1393625415 predicted value =  2641772.6848806543 actual value = 13300000\n",
            "wegihts =  [618980.99398424 930936.75559056 308886.0155693  737281.82449526] bias =  2202637.604317761 predicted value =  2688598.509573775 actual value = 13300000\n",
            "wegihts =  [630354.53148135 946949.9593447  314951.43176741 750437.23606781] bias =  2239720.5666269483 predicted value =  2734173.8561418173 actual value = 13300000\n",
            "wegihts =  [641481.78688159 962550.37842884 320908.79133304 763283.44107577] bias =  2275796.2530176356 predicted value =  2778531.618889093 actual value = 13300000\n",
            "wegihts =  [652369.21264937 977748.84925424 326760.89358686 775828.49204841] bias =  2310891.1745697497 predicted value =  2821703.827520504 actual value = 13300000\n",
            "wegihts =  [663023.09166558 992555.92343839 332510.46431874 788080.23000235] bias =  2345031.145524924 predicted value =  2863721.6698657162 actual value = 13300000\n",
            "wegihts =  [ 673449.54168472 1006981.87529024  338160.15772031  800046.29000053] bias =  2378241.3016014486 predicted value =  2904615.51400608 actual value = 13300000\n",
            "wegihts =  [ 683654.5196749  1021036.70909856  343712.55826671  811734.10656496] bias =  2410546.1178278513 predicted value =  2944414.9298199876 actual value = 13300000\n",
            "wegihts =  [ 693643.82604372 1034730.16622885  349170.18254884  823150.91894736] bias =  2441969.425907764 predicted value =  2983148.709961965 actual value = 13300000\n",
            "wegihts =  [ 703423.10875319 1048071.73203364  354535.48105753  834303.77626113] bias =  2472534.4311283887 predicted value =  3020844.8902903683 actual value = 13300000\n",
            "wegihts =  [ 712997.86732635 1061070.64258125  359810.83992075  845199.54247854] bias =  2502263.7288245633 predicted value =  3057530.769758186 actual value = 13300000\n",
            "wegihts =  [ 722373.45674875 1073735.89120758  364998.58259521  855844.90129653] bias =  2531179.3204101045 predicted value =  3093232.9297810523 actual value = 13300000\n",
            "wegihts =  [ 731555.09126725 1086076.23489586  370100.97151346  866246.36087462] bias =  2559302.6289878027 predicted value =  3127977.253096218 actual value = 13300000\n",
            "wegihts =  [ 740547.84808903 1098100.20048857  375120.20968774  876410.25844833] bias =  2586654.5145491413 predicted value =  3161788.942125854 actual value = 13300000\n",
            "wegihts =  [ 749356.67098344 1109816.09073618  380058.44227164  886342.76482132] bias =  2613255.288774525 predicted value =  3194692.53685771 actual value = 13300000\n",
            "wegihts =  [ 757986.37378904 1121231.99018691  384917.75808072  896049.88873946] bias =  2639124.7294445164 predicted value =  3226711.932255827 actual value = 13300000\n",
            "wegihts =  [ 766441.64382861 1132355.77092166  389700.19107321  905537.48114996] bias =  2664282.094472305 predicted value =  3257870.3952136417 actual value = 13300000\n",
            "wegihts =  [ 774727.04523434 1143195.09813819  394407.7217917   914811.23934855] bias =  2688746.1355673624 predicted value =  3288190.581061519 actual value = 13300000\n",
            "wegihts =  [ 782847.02218559 1153757.43558864  399042.27876706  923876.71101765] bias =  2712535.1115399795 predicted value =  3317694.549640419 actual value = 13300000\n",
            "wegihts =  [ 790805.90206164 1164050.05087396  403605.73988536  932739.2981584 ] bias =  2735666.8012561216 predicted value =  3346403.7809530986 actual value = 13300000\n",
            "wegihts =  [ 798607.89851147 1174080.02059939  408099.9337189   941404.2609194 ] bias =  2758158.516251794 predicted value =  3374339.190403964 actual value = 13300000\n",
            "wegihts =  [ 806257.11444298 1183854.23539427  412526.64082227  949876.72132472] bias =  2780027.113015867 predicted value =  3401521.1436383687 actual value = 13300000\n",
            "wegihts =  [ 813757.54493353 1193379.40480001  416887.59499434  958161.66690404] bias =  2801289.0049500726 predicted value =  3427969.470991899 actual value = 13300000\n",
            "wegihts =  [ 821113.08006406 1202662.06202955  421184.48450703  966263.95422729] bias =  2821960.1740146605 predicted value =  3453703.4815598866 actual value = 13300000\n",
            "wegihts =  [ 828327.50767868 1211708.56860177  425418.9533019   974188.31234647] bias =  2842056.1820679707 predicted value =  3478741.9768971386 actual value = 13300000\n",
            "wegihts =  [ 835404.51607176 1220525.11885403  429592.60215515  981939.34614691] bias =  2861592.1819079723 predicted value =  3503103.2643575985 actual value = 13300000\n",
            "wegihts =  [ 842347.69660434 1229117.74433618  433706.98981212  989521.53961054] bias =  2880582.928023599 predicted value =  3526805.1700834027 actual value = 13300000\n",
            "wegihts =  [ 849160.54625188 1237492.318089    437763.63409191  996939.25899338] bias =  2899042.7870635097 predicted value =  3549865.051652549 actual value = 13300000\n",
            "wegihts =  [ 855846.47008492 1245654.55881031  441764.01296296 1004196.75591945] bias =  2916985.7480296986 predicted value =  3572299.8103941493 actual value = 13300000\n",
            "wegihts =  [ 862408.78368465 1253610.03491144  445709.5655904  1011298.17039343] bias =  2934425.432203191 predicted value =  3594125.903380001 actual value = 13300000\n",
            "wegihts =  [ 868850.7154949  1261364.16846719  449601.69335584 1018247.53373413] bias =  2951375.1028088615 predicted value =  3615359.3551009856 actual value = 13300000\n",
            "wegihts =  [ 875175.40911239 1268922.23906194  453441.76085041 1025048.77143082] bias =  2967847.6744262357 predicted value =  3636015.7688365835 actual value = 13300000\n",
            "wegihts =  [ 881385.92551675 1276289.38753467  457231.0968416  1031705.70592457] bias =  2983855.722152948 predicted value =  3656110.3377255592 actual value = 13300000\n",
            "wegihts =  [ 887485.24524192 1283470.61962555  460970.99521479 1038222.05931637] bias =  2999411.4905273574 predicted value =  3675657.855545682 actual value = 13300000\n",
            "wegihts =  [ 893476.2704905  1290470.8095267   464662.71588999 1044601.45600419] bias =  3014526.902216654 predicted value =  3694672.727210125 actual value = 13300000\n",
            "wegihts =  [ 899361.82719252 1297294.70333959  468307.48571449 1050847.42525066] bias =  3029213.5664766147 predicted value =  3713168.978987986 actual value = 13300000\n",
            "wegihts =  [ 905144.66701009 1303946.92244166  471906.49933202 1056963.40368329] bias =  3043482.787389016 predicted value =  3731160.2684561913 actual value = 13300000\n",
            "wegihts =  [ 910827.46928941 1310431.96676431  475460.92002914 1062952.73772896] bias =  3057345.5718825394 predicted value =  3748659.8941898234 actual value = 13300000\n",
            "wegihts =  [ 916412.84296138 1316754.21798487  478971.88055931 1068818.68598445] bias =  3070812.6375428713 predicted value =  3765680.805197774 actual value = 13300000\n",
            "wegihts =  [ 921903.32839238 1322917.94263463  482440.48394532 1074564.42152468] bias =  3083894.420217525 predicted value =  3782235.6101103895 actual value = 13300000\n",
            "wegihts =  [ 927301.39918628 1328927.29512513  485867.80426067 1080193.0341502 ] bias =  3096601.081420792 predicted value =  3798336.5861256467 actual value = 13300000\n",
            "wegihts =  [ 932609.46393918 1334786.32069503  489254.88739038 1085707.5325757 ] bias =  3108942.515544063 predicted value =  3813995.687720193 actual value = 13300000\n",
            "wegihts =  [ 937829.86794802 1340498.95827937  492602.75177178 1091110.84656097] bias =  3120928.3568766518 predicted value =  3829224.55513144 actual value = 13300000\n",
            "wegihts =  [ 942964.89487422 1346069.04330358  495912.38911587 1096405.82898586] bias =  3132567.986442082 predicted value =  3844034.5226167208 actual value = 13300000\n",
            "wegihts =  [ 948016.76836367 1351500.31040391  499184.76510972 1101595.25787066] bias =  3143870.538654703 predicted value =  3858436.6264953734 actual value = 13300000\n",
            "wegihts =  [ 952987.65362409 1356796.39607649  502420.82010039 1106681.83834344] bias =  3154844.907801348 predicted value =  3872441.6129794572 actual value = 13300000\n",
            "wegihts =  [ 957879.65896096 1361960.84125667  505621.46976089 1111668.20455565] bias =  3165499.7543526366 predicted value =  3886059.9457986555 actual value = 13300000\n",
            "wegihts =  [ 962694.83727309 1366997.09383059  508787.60573859 1116556.92154738] bias =  3175843.511108401 predicted value =  3899301.813624773 actual value = 13300000\n",
            "wegihts =  [ 967435.18750884 1371908.5110808   511920.09628668 1121350.48706359] bias =  3185884.38918159 predicted value =  3912177.137301099 actual value = 13300000\n",
            "wegihts =  [ 972102.6560841  1376698.36206748  515019.78687895 1126051.33332263] bias =  3195630.3838248984 predicted value =  3924695.5768817575 actual value = 13300000\n",
            "wegihts =  [ 976699.138263   1381369.82994723  518087.50080843 1130661.82873824] bias =  3205089.2801042586 predicted value =  3936866.53848605 actual value = 13300000\n",
            "wegihts =  [ 981226.47950232 1385926.01423075  521124.03977036 1135184.27959631] bias =  3214268.6584232175 predicted value =  3948699.1809726423 actual value = 13300000\n",
            "wegihts =  [ 985686.47676059 1390369.93298132  524130.18442972 1139620.93168759] bias =  3223175.8999021123 predicted value =  3960202.422438335 actual value = 13300000\n",
            "wegihts =  [ 990080.87977272 1394704.52495544  527106.69497396 1143973.97189746] bias =  3231818.1916158726 predicted value =  3971384.946546031 actual value = 13300000\n",
            "wegihts =  [ 994411.39229121 1398932.65168718  530054.31165113 1148245.52975391] bias =  3240202.531694153 predicted value =  3982255.2086863816 actual value = 13300000\n",
            "wegihts =  [ 998679.6732947  1403057.09951781  532973.75529388 1152437.67893486] bias =  3248335.734287422 predicted value =  3992821.4419774916 actual value = 13300000\n",
            "wegihts =  [1002887.33816473 1407080.58157203  535865.72782974 1156552.43873589] bias =  3256224.43440253 predicted value =  4003091.6631069314 actual value = 13300000\n",
            "wegihts =  [1007035.95983162 1411005.73968229  538730.91277789 1160591.77549929] bias =  3263875.09261118 predicted value =  4013073.6780202086 actual value = 13300000\n",
            "wegihts =  [1011127.06989018 1414835.14626255  541569.97573296 1164557.60400568] bias =  3271293.9996346505 predicted value =  4022775.0874597253 actual value = 13300000\n",
            "wegihts =  [1015162.15968619 1418571.30613273  544383.56483609 1168451.78882897] bias =  3278487.280808017 predicted value =  4032203.292358161 actual value = 13300000\n",
            "wegihts =  [1019142.68137417 1422216.65829526  547172.31123359 1172276.14565573] bias =  3285460.900427042 predicted value =  4041365.499090098 actual value = 13300000\n",
            "wegihts =  [1023070.04894754 1425773.57766495  549936.82952356 1176032.4425699 ] bias =  3292220.6659808164 predicted value =  4050268.724585624 actual value = 13300000\n",
            "wegihts =  [1026945.6392415  1429244.37675334  552677.71819076 1179722.4013037 ] bias =  3298772.2322731535 predicted value =  4058919.8013095288 actual value = 13300000\n",
            "wegihts =  [1030770.79290975 1432631.30730881  555395.56003008 1183347.69845572] bias =  3305121.105435663 predicted value =  4067325.3821096383 actual value = 13300000\n",
            "wegihts =  [1034546.81537539 1435936.56191361  558090.92255885 1186909.96667689] bias =  3311272.6468353486 predicted value =  4075491.9449377195 actual value = 13300000\n",
            "wegihts =  [1038274.97775687 1439162.27553885  560764.35841832 1190410.79582545] bias =  3317232.0768795046 predicted value =  4083425.797446304 actual value = 13300000\n",
            "wegihts =  [1041956.51776968 1442310.52705868  563416.40576462 1193851.73409138] bias =  3323004.478720607 predicted value =  4091133.081464698 actual value = 13300000\n",
            "wegihts =  [1045592.6406042  1445383.34072465  566047.58864936 1197234.28909137] bias =  3328594.8018638296 predicted value =  4098619.777357349 actual value = 13300000\n",
            "wegihts =  [1049184.51978062 1448382.68760135  568658.41739033 1200559.92893506] bias =  3334007.8656797474 predicted value =  4105891.708267658 actual value = 13300000\n",
            "wegihts =  [1052733.29798127 1451310.48696421  571249.38893241 1203830.08326312] bias =  3339248.3628247124 predicted value =  4112954.544250261 actual value = 13300000\n",
            "wegihts =  [1056240.08786118 1454168.60766074  573820.98719896 1207046.14425821] bias =  3344320.8625713335 predicted value =  4119813.8062946913 actual value = 13300000\n",
            "wegihts =  [1059705.97283724 1456958.86943581  576373.68343404 1210209.46762919] bias =  3349229.814051423 predicted value =  4126474.8702433007 actual value = 13300000\n",
            "wegihts =  [1063132.00785667 1459683.04422222  578907.93653561 1213321.37356965] bias =  3353979.549413708 predicted value =  4132942.970606194 actual value = 13300000\n",
            "wegihts =  [1066519.22014534 1462342.85739734  581424.19337992 1216383.14769107] bias =  3358574.286898548 predicted value =  4139223.204275908 actual value = 13300000\n",
            "wegihts =  [1069868.60993628 1464939.98900663  583922.8891375  1219396.04193162] bias =  3363018.133831841 predicted value =  4145320.5341444504 actual value = 13300000\n",
            "wegihts =  [1073181.1511792  1467476.07495512  586404.44758067 1222361.27544092] bias =  3367315.0895402418 predicted value =  4151239.7926252745 actual value = 13300000\n",
            "wegihts =  [1076457.79223126 1469952.70816747  588869.28138316 1225280.03544168] bias =  3371469.0481897574 predicted value =  4156985.685082688 actual value = 13300000\n",
            "wegihts =  [1079699.45652973 1472371.43971766  591317.79241169 1228153.47806858] bias =  3375483.80154974 predicted value =  4162562.7931711264 actual value = 13300000\n",
            "wegihts =  [1082907.04324696 1474733.77992886  593750.37201    1230982.72918521] bias =  3379363.04168423 predicted value =  4167975.5780866593 actual value = 13300000\n",
            "wegihts =  [1086081.4279281  1477041.19944448  596167.40127533 1233768.88517945] bias =  3383110.363572566 predicted value =  4173228.3837330407 actual value = 13300000\n",
            "wegihts =  [1089223.46311215 1479295.13027103  598569.25132773 1236513.01373797] bias =  3386729.267661116 predicted value =  4178325.439804543 actual value = 13300000\n",
            "wegihts =  [1092333.97893657 1481496.96679361  600956.28357216 1239216.15460043] bias =  3390223.1623479445 predicted value =  4183270.864787768 actual value = 13300000\n",
            "wegihts =  [1095413.78372611 1483648.06676462  603328.84995387 1241879.32029377] bias =  3393595.3664021706 predicted value =  4188068.668884564 actual value = 13300000\n",
            "wegihts =  [1098463.66456606 1485749.75226664  605687.2932069  1244503.49684726] bias =  3396849.1113197436 predicted value =  4192722.7568581123 actual value = 13300000\n",
            "wegihts =  [1101484.38786054 1487803.31064984  608031.94709616 1247089.64448875] bias =  3399987.543617298 predicted value =  4197236.930804219 actual value = 13300000\n",
            "wegihts =  [1104476.69987602 1489809.99544482  610363.1366531  1249638.69832259] bias =  3403013.7270657225 predicted value =  4201614.892849764 actual value = 13300000\n",
            "wegihts =  [1107441.3272706  1491771.02725151  612681.17840521 1252151.56898977] bias =  3405930.644865023 predicted value =  4205860.247780232 actual value = 13300000\n",
            "wegihts =  [1110378.97760942 1493687.59460462  614986.38059946 1254629.14331068] bias =  3408741.2017620234 predicted value =  4209976.505598178 actual value = 13300000\n",
            "wegihts =  [1113290.33986642 1495560.8548164   617279.04341991 1257072.28491102] bias =  3411448.226112408 predicted value =  4213967.084014453 actual value = 13300000\n",
            "wegihts =  [1116176.084913   1497391.9347972   619559.45919955 1259481.8348312 ] bias =  3414054.4718885683 predicted value =  4217835.3108739555 actual value = 13300000\n",
            "wegihts =  [1119036.86599381 1499181.93185453  621827.9126266  1261858.61211974] bias =  3416562.6206346755 predicted value =  4221584.426517622 actual value = 13300000\n",
            "wegihts =  [1121873.31919005 1500931.91447108  624084.68094538 1264203.41441116] bias =  3418975.2833703705 predicted value =  4225217.586082338 actual value = 13300000\n",
            "wegihts =  [1124686.06387053 1502642.92306226  626330.03415194 1266517.01848852] bias =  3421295.002444418 predicted value =  4228737.861740411 actual value = 13300000\n",
            "wegihts =  [1127475.70313096 1504315.97071391  628564.23518447 1268800.18083133] bias =  3423524.2533396427 predicted value =  4232148.244880167 actual value = 13300000\n",
            "wegihts =  [1130242.82422163 1505952.04390054  630787.54010877 1271053.63814896] bias =  3425665.4464304233 predicted value =  4235451.648229246 actual value = 13300000\n",
            "wegihts =  [1132987.99896391 1507552.10318473  633000.19829884 1273278.10790009] bias =  3427720.9286939995 predicted value =  4238650.907922092 actual value = 13300000\n",
            "wegihts =  [1135711.78415572 1509117.08389818  635202.45261266 1275474.28879847] bias =  3429692.985376796 predicted value =  4241748.7855130965 actual value = 13300000\n",
            "wegihts =  [1138414.72196645 1510647.89680478  637394.53956345 1277642.86130537] bias =  3431583.841616955 predicted value =  4244747.969936836 actual value = 13300000\n",
            "wegihts =  [1141097.34032138 1512145.42874634  639576.68948636 1279784.4881092 ] bias =  3433395.66402422 predicted value =  4247651.079416785 actual value = 13300000\n",
            "wegihts =  [1143760.1532761  1513610.54327128  641749.12670078 1281899.81459235] bias =  3435130.5622182977 predicted value =  4250460.663323868 actual value = 13300000\n",
            "wegihts =  [1146403.66138103 1515044.08124682  643912.06966843 1283989.46928592] bias =  3436790.5903267893 predicted value =  4253179.20398616 actual value = 13300000\n",
            "wegihts =  [1149028.35203637 1516446.86145511  646065.73114722 1286054.06431239] bias =  3438377.748443746 predicted value =  4255809.11845102 actual value = 13300000\n",
            "wegihts =  [1151634.69983776 1517819.68117362  648210.31834118 1288094.19581673] bias =  3439893.9840498967 predicted value =  4258352.760200915 actual value = 13300000\n",
            "wegihts =  [1154223.16691278 1519163.31674039  650346.03304631 1290110.44438613] bias =  3441341.193395542 predicted value =  4260812.420824148 actual value = 13300000\n",
            "wegihts =  [1156794.20324869 1520478.52410429  652473.07179272 1292103.3754587 ] bias =  3442721.2228471055 predicted value =  4263190.331641672 actual value = 13300000\n",
            "wegihts =  [1159348.24701146 1521766.0393609   654591.62598296 1294073.53972147] bias =  3444035.8701982917 predicted value =  4265488.6652911445 actual value = 13300000\n",
            "wegihts =  [1161885.72485652 1523026.57927431  656701.88202671 1296021.47349791] bias =  3445286.885946784 predicted value =  4267709.537269353 actual value = 13300000\n",
            "wegihts =  [1164407.05223128 1524260.84178516  658804.02147204 1297947.69912523] bias =  3446475.974537388 predicted value =  4269855.007434099 actual value = 13300000\n",
            "wegihts =  [1166912.6336697  1525469.50650536  660898.22113303 1299852.72532181] bias =  3447604.795572498 predicted value =  4271927.081466608 actual value = 13300000\n",
            "wegihts =  [1169402.86307913 1526653.2351998   662984.65321422 1301737.04754496] bias =  3448674.964990754 predicted value =  4273927.712295504 actual value = 13300000\n",
            "wegihts =  [1171878.1240196  1527812.67225539  665063.48543169 1303601.14833924] bias =  3449688.0562147168 predicted value =  4275858.801483359 actual value = 13300000\n",
            "wegihts =  [1174338.78997582 1528948.4451378   667134.88113096 1305445.49767573] bias =  3450645.601268378 predicted value =  4277722.200576792 actual value = 13300000\n",
            "wegihts =  [1176785.22462194 1530061.16483612  669198.99940184 1307270.55328224] bias =  3451549.091865303 predicted value =  4279519.712421098 actual value = 13300000\n",
            "wegihts =  [1179217.78207943 1531151.42629598  671255.99519023 1309076.76096495] bias =  3452399.980468169 predicted value =  4281253.092440312 actual value = 13300000\n",
            "wegihts =  [1181636.80716815 1532219.80884111  673306.01940694 1310864.55492154] bias =  3453199.681320459 predicted value =  4282924.049883635 actual value = 13300000\n",
            "wegihts =  [1184042.63565082 1533266.87658394  675349.21903376 1312634.35804615] bias =  3453949.5714510395 predicted value =  4284534.249039098 actual value = 13300000\n",
            "wegihts =  [1186435.59447108 1534293.1788254   677385.73722663 1314386.58222624] bias =  3454650.991652333 predicted value =  4286085.310415329 actual value = 13300000\n",
            "wegihts =  [1188816.00198525 1535299.25044413  679415.71341616 1316121.62863171] bias =  3455305.2474327832 predicted value =  4287578.8118922645 actual value = 13300000\n",
            "wegihts =  [1191184.16818808 1536285.61227556  681439.28340549 1317839.88799643] bias =  3455913.6099442854 predicted value =  4289016.289841601 actual value = 13300000\n",
            "wegihts =  [1193540.3949325  1537252.77148096  683456.57946559 1319541.74089231] bias =  3456477.3168852422 predicted value =  4290399.240217817 actual value = 13300000\n",
            "wegihts =  [1195884.97614358 1538201.22190683  685467.73042803 1321227.55799622] bias =  3456997.5733798845 predicted value =  4291729.119620511 actual value = 13300000\n",
            "wegihts =  [1198218.19802694 1539131.44443482  687472.86177534 1322897.70034988] bias =  3457475.5528344787 predicted value =  4293007.3463288145 actual value = 13300000\n",
            "wegihts =  [1200540.33927162 1540043.90732246  689472.09572899 1324552.51961291] bias =  3457912.3977710344 predicted value =  4294235.3013086235 actual value = 13300000\n",
            "wegihts =  [1202851.67124766 1540939.06653491  691465.55133503 1326192.35830925] bias =  3458309.220639097 predicted value =  4295414.3291933555 actual value = 13300000\n",
            "wegihts =  [1205152.45819845 1541817.36606809  693453.34454752 1327817.55006707] bias =  3458667.104606204 predicted value =  4296545.73923893 actual value = 13300000\n",
            "wegihts =  [1207442.95742802 1542679.23826317  695435.58830973 1329428.41985243] bias =  3458987.1043275683 predicted value =  4297630.8062536465 actual value = 13300000\n",
            "wegihts =  [1209723.41948347 1543525.10411288  697412.39263323 1331025.28419672] bias =  3459270.246695528 predicted value =  4298670.7715036245 actual value = 13300000\n",
            "wegihts =  [1211994.08833255 1544355.37355979  699383.86467491 1332608.45141821] bias =  3459517.5315693016 predicted value =  4299666.843594448 actual value = 13300000\n",
            "wegihts =  [1214255.20153656 1545170.4457867   701350.10881194 1334178.2218377 ] bias =  3459729.9324855623 predicted value =  4300620.199329633 actual value = 13300000\n",
            "wegihts =  [1216506.99041878 1545970.70949941  703311.22671479 1335734.88798856] bias =  3459908.3973503355 predicted value =  4301531.984546536 actual value = 13300000\n",
            "wegihts =  [1218749.68022837 1546756.54320207  705267.31741832 1337278.73482122] bias =  3460053.8491127123 predicted value =  4302403.314930291 actual value = 13300000\n",
            "wegihts =  [1220983.49030006 1547528.31546527  707218.47739101 1338810.03990229] bias =  3460167.186420855 predicted value =  4303235.276806354 actual value = 13300000\n",
            "wegihts =  [1223208.63420958 1548286.38518713  709164.80060233 1340329.07360845] bias =  3460249.2842607605 predicted value =  4304028.927912216 actual value = 13300000\n",
            "wegihts =  [1225425.31992504 1549031.10184748  711106.37858842 1341836.09931524] bias =  3460300.9945782362 predicted value =  4304785.298148834 actual value = 13300000\n",
            "wegihts =  [1227633.7499543  1549762.80575538  713043.30051599 1343331.37358093] bias =  3460323.1468845285 predicted value =  4305505.390312315 actual value = 13300000\n",
            "wegihts =  [1229834.12148847 1550481.82829013  714975.6532445  1344815.14632544] bias =  3460316.548846032 predicted value =  4306190.180806363 actual value = 13300000\n",
            "wegihts =  [1232026.62654172 1551188.49213596  716903.5213868  1346287.66100471] bias =  3460281.986858501 predicted value =  4306840.620336005 actual value = 13300000\n",
            "wegihts =  [1234211.45208724 1551883.11151052  718826.98736812 1347749.1547804 ] bias =  3460220.226606169 predicted value =  4307457.634583086 actual value = 13300000\n",
            "wegihts =  [1236388.78018983 1552565.99238739  720746.13148351 1349199.85868512] bias =  3460132.01360617 predicted value =  4308042.124864002 actual value = 13300000\n",
            "wegihts =  [1238558.78813485 1553237.43271276  722661.03195379 1350639.99778336] bias =  3460018.073738657 predicted value =  4308594.968770156 actual value = 13300000\n",
            "wegihts =  [1240721.64855388 1553897.72261635  724571.76498    1352069.79132817] bias =  3459879.1137629794 predicted value =  4309117.020791572 actual value = 13300000\n",
            "wegihts =  [1242877.529547   1554547.14461686  726478.40479646 1353489.45291374] bias =  3459715.8218203 predicted value =  4309609.112924123 actual value = 13300000\n",
            "wegihts =  [1245026.59480191 1555185.97382199  728381.02372241 1354899.19062392] bias =  3459528.867923 predicted value =  4310072.055260805 actual value = 13300000\n",
            "wegihts =  [1247169.00370989 1555814.47812316  730279.69221227 1356299.20717692] bias =  3459318.9044312174 predicted value =  4310506.636567453 actual value = 13300000\n",
            "wegihts =  [1249304.91147876 1556432.91838521  732174.47890465 1357689.70006612] bias =  3459086.5665168674 predicted value =  4310913.624843344 actual value = 13300000\n",
            "wegihts =  [1251434.46924279 1557041.54863101  734065.45066999 1359070.86169724] bias =  3458832.4726154604 predicted value =  4311293.767867059 actual value = 13300000\n",
            "wegihts =  [1253557.8241698  1557640.61622129  735952.672657   1360442.87952187] bias =  3458557.2248660484 predicted value =  4311647.793727993 actual value = 13300000\n",
            "wegihts =  [1255675.11956539 1558230.36202971  737836.20833786 1361805.93616751] bias =  3458261.4095396074 predicted value =  4311976.411343903 actual value = 13300000\n",
            "wegihts =  [1257786.49497446 1558811.02061334  739716.11955226 1363160.20956421] bias =  3457945.59745616 predicted value =  4312280.31096485 actual value = 13300000\n",
            "wegihts =  [1259892.08628005 1559382.82037866  741592.46655021 1364505.87306783] bias =  3457610.344390937 predicted value =  4312560.164663895 actual value = 13300000\n",
            "wegihts =  [1261992.0257996  1559945.98374319  743465.30803382 1365843.09558008] bias =  3457256.1914698603 predicted value =  4312816.626814899 actual value = 13300000\n",
            "wegihts =  [1264086.44237866 1560500.72729288  745334.70119793 1367172.04166546] bias =  3456883.6655546334 predicted value =  4313050.334557766 actual value = 13300000\n",
            "wegihts =  [1266175.46148213 1561047.26193534  747200.70176965 1368492.87166504] bias =  3456493.279617712 predicted value =  4313261.908251456 actual value = 13300000\n",
            "wegihts =  [1268259.20528312 1561585.7930491   749063.36404692 1369805.74180732] bias =  3456085.533107415 predicted value =  4313451.951915093 actual value = 13300000\n",
            "wegihts =  [1270337.79274949 1562116.52062888  750922.74093601 1371110.80431613] bias =  3455660.912303443 predicted value =  4313621.05365748 actual value = 13300000\n",
            "wegihts =  [1272411.33972808 1562639.63942706  752778.88398805 1372408.20751571] bias =  3455219.890663053 predicted value =  4313769.786095319 actual value = 13300000\n",
            "wegihts =  [1274479.95902672 1563155.33909149  754631.84343462 1373698.09593306] bias =  3454762.9291581293 predicted value =  4313898.706760453 actual value = 13300000\n",
            "wegihts =  [1276543.76049414 1563663.80429958  756481.66822236 1374980.61039752] bias =  3454290.4766034023 predicted value =  4314008.358496387 actual value = 13300000\n",
            "wegihts =  [1278602.85109775 1564165.21488894  758328.40604671 1376255.88813785] bias =  3453802.9699760354 predicted value =  4314099.269844395 actual value = 13300000\n",
            "wegihts =  [1280657.33499931 1564659.74598458  760172.10338474 1377524.06287664] bias =  3453300.834726814 predicted value =  4314171.955419489 actual value = 13300000\n",
            "wegihts =  [1282707.31362877 1565147.5681227   762012.80552713 1378785.26492231] bias =  3452784.4850831563 predicted value =  4314226.916276486 actual value = 13300000\n",
            "wegihts =  [1284752.88575597 1565628.84737134  763850.55660931 1380039.62125868] bias =  3452254.3243441572 predicted value =  4314264.640266468 actual value = 13300000\n",
            "wegihts =  [1286794.14756064 1566103.74544773  765685.39964177 1381287.25563217] bias =  3451710.745167882 predicted value =  4314285.602383873 actual value = 13300000\n",
            "wegihts =  [1288831.19270042 1566572.41983267  767517.3765396  1382528.28863674] bias =  3451154.1298511056 predicted value =  4314290.265104458 actual value = 13300000\n",
            "wegihts =  [1290864.11237717 1567035.02388185  769346.52815119 1383762.83779655] bias =  3450584.8506016987 predicted value =  4314279.078714375 actual value = 13300000\n",
            "wegihts =  [1292892.99540155 1567491.70693422  771172.89428627 1384991.01764647] bias =  3450003.269803859 predicted value =  4314252.481630617 actual value = 13300000\n",
            "wegihts =  [1294917.92825581 1567942.61441757  772996.51374313 1386212.93981053] bias =  3449409.7402763655 predicted value =  4314210.900713016 actual value = 13300000\n"
          ]
        },
        {
          "output_type": "execute_result",
          "data": {
            "text/plain": [
              "<__main__.LinearRegression at 0x7814d3336e00>"
            ]
          },
          "metadata": {},
          "execution_count": 53
        }
      ]
    },
    {
      "cell_type": "code",
      "source": [
        "13300000 -  4181374"
      ],
      "metadata": {
        "colab": {
          "base_uri": "https://localhost:8080/"
        },
        "id": "f7DBsRLaDyCB",
        "outputId": "c6daa2e3-6f2a-43e3-e8e8-2d7b0786a4bd"
      },
      "execution_count": null,
      "outputs": [
        {
          "output_type": "execute_result",
          "data": {
            "text/plain": [
              "9118626"
            ]
          },
          "metadata": {},
          "execution_count": 22
        }
      ]
    },
    {
      "cell_type": "code",
      "source": [
        "13300000 -  116948"
      ],
      "metadata": {
        "colab": {
          "base_uri": "https://localhost:8080/"
        },
        "id": "k6zEh66ED1JP",
        "outputId": "7215472e-c0b8-4167-fe18-01afa4331bfb"
      },
      "execution_count": null,
      "outputs": [
        {
          "output_type": "execute_result",
          "data": {
            "text/plain": [
              "13183052"
            ]
          },
          "metadata": {},
          "execution_count": 20
        }
      ]
    },
    {
      "cell_type": "code",
      "source": [
        "lr.predict(X_test)"
      ],
      "metadata": {
        "colab": {
          "base_uri": "https://localhost:8080/"
        },
        "id": "WNgU6R5yLFkW",
        "outputId": "45c6e0d2-da76-42b0-a8c0-44a684a6103b"
      },
      "execution_count": null,
      "outputs": [
        {
          "output_type": "execute_result",
          "data": {
            "text/plain": [
              "array([4672154.45961486, 4437773.97495455, 5363555.51135057,\n",
              "       5185988.0229503 , 6421194.16485887, 5246652.11708873,\n",
              "       4301434.92748618, 4712203.46770524, 4898670.73568115,\n",
              "       3947223.70037565, 4463727.19758379, 3939658.88773636,\n",
              "       4571141.96143133, 4769162.05698935, 5002514.27746266,\n",
              "       3851106.08095873, 5432657.51021963, 5396768.93703312,\n",
              "       5364445.48930813, 5279435.70849453, 3939213.89875758,\n",
              "       3875135.48581296, 5344087.81757577, 4189297.7048331 ,\n",
              "       5499576.54583381, 4537150.37908283, 4264372.13508942,\n",
              "       4644248.86110943, 3972143.08318745, 4745132.65213511,\n",
              "       4582711.67487966, 4916470.29483244, 4663972.23803572,\n",
              "       5425248.23167517, 5439777.33388015, 4221336.91130541,\n",
              "       4437027.85885687, 3856445.94870411, 4517125.87503764,\n",
              "       4283207.26522234, 4840360.29359448, 6148221.03940773,\n",
              "       4605406.11279755, 4774791.37961868, 4801490.7183456 ,\n",
              "       5903338.81484817, 6976083.74916516, 5096990.22719388,\n",
              "       3928712.15885832, 4974318.86207411, 4658804.79025139,\n",
              "       4954366.46995844, 5608899.97275432, 4673222.43316393,\n",
              "       4038891.43000476, 4648842.61275713, 4250132.4877684 ,\n",
              "       4465507.15349892, 4043341.31979258, 4903120.62546897,\n",
              "       3997062.46599925, 4044676.28672893, 4694403.90855396,\n",
              "       4744242.67417755, 4980531.82191083, 4495766.4040561 ,\n",
              "       3976592.97297527, 4178934.25116327, 3899164.89066719,\n",
              "       6063106.74409715, 4187089.64580542, 5897542.28588905,\n",
              "       5032595.53242833, 4182177.88117258, 4016641.98106566,\n",
              "       4674824.39348755, 4839487.20150314, 4639942.83318149,\n",
              "       6908473.98249146, 5117637.71580937, 5139392.88733602,\n",
              "       5488152.42540955, 4662008.71089862, 4538657.76598024,\n",
              "       4973428.88411654, 4188724.00869647, 5081727.89131632,\n",
              "       7199958.64945995, 4216887.02151759, 3891155.08904911,\n",
              "       4912737.96304112, 4701523.73221447, 5381783.17361441,\n",
              "       5762722.29755303, 4680164.26123293, 3949893.63424835,\n",
              "       4007742.20149002, 4589214.08960033, 4932489.89806859,\n",
              "       4868839.58823653, 4150138.67470028, 3899609.87964597,\n",
              "       4807258.68920354, 4364049.66633661, 5698933.33949237,\n",
              "       4754922.40966832, 4270285.69897143, 4003292.31170219,\n",
              "       4972682.76801886])"
            ]
          },
          "metadata": {},
          "execution_count": 54
        }
      ]
    },
    {
      "cell_type": "code",
      "source": [
        "lr.W"
      ],
      "metadata": {
        "colab": {
          "base_uri": "https://localhost:8080/"
        },
        "id": "1qRLVwYELhco",
        "outputId": "3c4ce4cf-197c-44b2-895f-a9c81784a77a"
      },
      "execution_count": null,
      "outputs": [
        {
          "output_type": "execute_result",
          "data": {
            "text/plain": [
              "array([1041956.51776968, 1442310.52705868,  563416.40576462,\n",
              "       1193851.73409138])"
            ]
          },
          "metadata": {},
          "execution_count": 14
        }
      ]
    },
    {
      "cell_type": "code",
      "source": [
        "lr.b"
      ],
      "metadata": {
        "colab": {
          "base_uri": "https://localhost:8080/"
        },
        "id": "SWPkPzBihOjh",
        "outputId": "85318657-dc9a-4040-f865-5f6188380454"
      },
      "execution_count": null,
      "outputs": [
        {
          "output_type": "execute_result",
          "data": {
            "text/plain": [
              "3323004.478720607"
            ]
          },
          "metadata": {},
          "execution_count": 15
        }
      ]
    },
    {
      "cell_type": "code",
      "source": [
        "lr.error_list"
      ],
      "metadata": {
        "colab": {
          "base_uri": "https://localhost:8080/"
        },
        "id": "CS1OSQqXEKDM",
        "outputId": "4dd5d8fd-293e-403e-d74e-9377746ed716"
      },
      "execution_count": null,
      "outputs": [
        {
          "output_type": "execute_result",
          "data": {
            "text/plain": [
              "[25513160007326.477,\n",
              " 24329490066055.22,\n",
              " 23207157518453.293,\n",
              " 22142980621401.445,\n",
              " 21133942683846.688,\n",
              " 20177183504755.15,\n",
              " 19269991255219.707,\n",
              " 18409794781681.875,\n",
              " 17594156308422.812,\n",
              " 16820764518611.29,\n",
              " 16087427994271.238,\n",
              " 15392068996549.758,\n",
              " 14732717568632.76,\n",
              " 14107505944570.807,\n",
              " 13514663248146.197,\n",
              " 12952510466735.406,\n",
              " 12419455685901.564,\n",
              " 11913989571191.668,\n",
              " 11434681084314.752,\n",
              " 10980173421542.629,\n",
              " 10549180162805.398,\n",
              " 10140481620551.957,\n",
              " 9752921378012.758,\n",
              " 9385403007039.62,\n",
              " 9036886956207.018,\n",
              " 8706387600342.594,\n",
              " 8392970443112.798,\n",
              " 8095749464723.887,\n",
              " 7813884607210.504,\n",
              " 7546579390174.492,\n",
              " 7293078650206.84,\n",
              " 7052666397576.7295,\n",
              " 6824663784104.487,\n",
              " 6608427176450.769,\n",
              " 6403346329353.542,\n",
              " 6208842653628.094,\n",
              " 6024367574014.241,\n",
              " 5849400972209.934,\n",
              " 5683449710672.231,\n",
              " 5526046232995.85,\n",
              " 5376747236896.823,\n",
              " 5235132416034.926,\n",
              " 5100803267103.831,\n",
              " 4973381958803.271,\n",
              " 4852510259483.07,\n",
              " 4737848520415.452,\n",
              " 4629074711809.935,\n",
              " 4525883508834.784,\n",
              " 4427985425050.939,\n",
              " 4335105990798.918,\n",
              " 4246984974206.742,\n",
              " 4163375642607.966,\n",
              " 4084044062273.4966,\n",
              " 4008768434469.716,\n",
              " 3937338465958.47,\n",
              " 3869554772152.2627,\n",
              " 3805228311230.6724,\n",
              " 3744179847611.878,\n",
              " 3686239443256.51,\n",
              " 3631245975360.022,\n",
              " 3579046679064.6914,\n",
              " 3529496713893.351,\n",
              " 3482458752674.2954,\n",
              " 3437802591790.6416,\n",
              " 3395404781647.9277,\n",
              " 3355148276311.1426,\n",
              " 3316922101316.782,\n",
              " 3280621038717.0757,\n",
              " 3246145328462.5127,\n",
              " 3213400385275.078,\n",
              " 3182296530208.649,\n",
              " 3152748736134.644,\n",
              " 3124676386430.559,\n",
              " 3098003046186.494,\n",
              " 3072656245280.3027,\n",
              " 3048567272705.6655,\n",
              " 3025670981569.3794,\n",
              " 3003905604204.3584,\n",
              " 2983212576873.6226,\n",
              " 2963536373567.734,\n",
              " 2944824348423.961,\n",
              " 2927026586319.9165,\n",
              " 2910095761217.626,\n",
              " 2893987001855.9736,\n",
              " 2878657764410.319,\n",
              " 2864067711757.8804,\n",
              " 2850178599006.201,\n",
              " 2836954164959.8037,\n",
              " 2824360029216.992,\n",
              " 2812363594604.736,\n",
              " 2800933954674.727,\n",
              " 2790041805998.066,\n",
              " 2779659365009.631,\n",
              " 2769760289166.14,\n",
              " 2760319602194.124,\n",
              " 2751313623215.634,\n",
              " 2742719899550.5522,\n",
              " 2734517143004.7627,\n",
              " 2726685169463.358,\n",
              " 2719204841617.4414,\n",
              " 2712058014661.9604,\n",
              " 2705227484810.4536,\n",
              " 2698696940480.587,\n",
              " 2692450916011.9277,\n",
              " 2686474747784.598,\n",
              " 2680754532614.2676,\n",
              " 2675277088305.3906,\n",
              " 2670029916250.7397,\n",
              " 2665001165971.0796,\n",
              " 2660179601494.3354,\n",
              " 2655554569478.833,\n",
              " 2651115968990.1455,\n",
              " 2646854222845.7456,\n",
              " 2642760250446.161,\n",
              " 2638825442015.4976,\n",
              " 2635041634178.2334,\n",
              " 2631401086802.956,\n",
              " 2627896461047.331,\n",
              " 2624520798541.9756,\n",
              " 2621267501654.1675,\n",
              " 2618130314775.3657,\n",
              " 2615103306579.438,\n",
              " 2612180853201.2363,\n",
              " 2609357622287.7783,\n",
              " 2606628557876.7705,\n",
              " 2603988866059.552,\n",
              " 2601434001387.7686,\n",
              " 2598959653985.198,\n",
              " 2596561737328.1445,\n",
              " 2594236376659.7144,\n",
              " 2591979898005.1123,\n",
              " 2589788817756.747,\n",
              " 2587659832799.6216,\n",
              " 2585589811148.9517,\n",
              " 2583575783073.469,\n",
              " 2581614932679.182,\n",
              " 2579704589929.742,\n",
              " 2577842223080.739,\n",
              " 2576025431506.467,\n",
              " 2574251938898.803,\n",
              " 2572519586818.8853,\n",
              " 2570826328583.2935,\n",
              " 2569170223467.388,\n",
              " 2567549431209.343,\n",
              " 2565962206799.2783,\n",
              " 2564406895538.706,\n",
              " 2562881928356.2627,\n",
              " 2561385817366.4385,\n",
              " 2559917151658.69,\n",
              " 2558474593304.9937,\n",
              " 2557056873574.5034,\n",
              " 2555662789344.5703,\n",
              " 2554291199697.9395,\n",
              " 2552941022696.461,\n",
              " 2551611232322.168,\n",
              " 2550300855577.0273,\n",
              " 2549008969733.145,\n",
              " 2547734699725.6084,\n",
              " 2546477215680.5776,\n",
              " 2545235730571.6006,\n",
              " 2544009497997.5093,\n",
              " 2542797810075.579,\n",
              " 2541599995443.9844,\n",
              " 2540415417367.872,\n",
              " 2539243471943.678,\n",
              " 2538083586396.5967,\n",
              " 2536935217466.3647,\n",
              " 2535797849876.779,\n",
              " 2534670994884.6094,\n",
              " 2533554188903.784,\n",
              " 2532446992200.94,\n",
              " 2531348987658.64,\n",
              " 2530259779602.7544,\n",
              " 2529178992690.6553,\n",
              " 2528106270857.098,\n",
              " 2527041276314.774,\n",
              " 2525983688606.7114,\n",
              " 2524933203707.83,\n",
              " 2523889533173.103,\n",
              " 2522852403329.901,\n",
              " 2521821554512.2344,\n",
              " 2520796740334.7217,\n",
              " 2519777727004.2095,\n",
              " 2518764292667.107,\n",
              " 2517756226790.575,\n",
              " 2516753329575.814,\n",
              " 2515755411401.781,\n",
              " 2514762292297.7686,\n",
              " 2513773801443.339,\n",
              " 2512789776694.1978,\n",
              " 2511810064132.66,\n",
              " 2510834517641.4355,\n",
              " 2509862998499.522,\n",
              " 2508895374999.058,\n",
              " 2507931522082.0522,\n",
              " 2506971320995.9546,\n",
              " 2506014658967.092,\n",
              " 2505061428891.043,\n",
              " 2504111529039.0767,\n",
              " 2503164862779.81]"
            ]
          },
          "metadata": {},
          "execution_count": 55
        }
      ]
    },
    {
      "cell_type": "code",
      "source": [
        "%matplotlib inline\n",
        "fig = plt.figure()\n",
        "plt.plot(lr.error_list)\n",
        "plt.title(\"Reduction in error over time\")\n",
        "plt.xlabel(\"iteration\")\n",
        "plt.ylabel(\"Error\")\n",
        "plt.show()"
      ],
      "metadata": {
        "colab": {
          "base_uri": "https://localhost:8080/",
          "height": 472
        },
        "id": "BovEEioYi-CV",
        "outputId": "53645aea-1d5d-4413-fd69-9e06104d3918"
      },
      "execution_count": null,
      "outputs": [
        {
          "output_type": "display_data",
          "data": {
            "text/plain": [
              "<Figure size 640x480 with 1 Axes>"
            ],
            "image/png": "[encoded data removed]"
          },
          "metadata": {}
        }
      ]
    },
    {
      "cell_type": "code",
      "source": [],
      "metadata": {
        "id": "ybRCVQR6Eb43"
      },
      "execution_count": null,
      "outputs": []
    },
    {
      "cell_type": "code",
      "source": [
        "from sklearn.linear_model import LinearRegression as LRM # import my LR model\n",
        "from sklearn.metrics import mean_squared_error, r2_score # metrics\n",
        "\n",
        "\n",
        "model = LRM()\n",
        "\n",
        "print(X_train)\n",
        "\n",
        "model.fit(X_train, y_train)\n",
        "\n",
        "y_pred = model.predict(X_test)\n",
        "mse = mean_squared_error(y_test, y_pred)\n",
        "\n",
        "print(f\"Mean Squared Error: {mse}\")\n"
      ],
      "metadata": {
        "colab": {
          "base_uri": "https://localhost:8080/"
        },
        "id": "JdIQKjs2EcJx",
        "outputId": "33bf5829-b4b8-47be-9d4f-aea6399ede3b"
      },
      "execution_count": null,
      "outputs": [
        {
          "output_type": "stream",
          "name": "stdout",
          "text": [
            "[[0.18350515 0.4        0.         0.        ]\n",
            " [0.25773196 0.4        0.         0.        ]\n",
            " [0.08020619 0.6        0.33333333 0.33333333]\n",
            " ...\n",
            " [0.01278351 0.2        0.         0.        ]\n",
            " [0.95876289 0.4        0.         0.        ]\n",
            " [0.08453608 0.4        0.         0.33333333]]\n",
            "Mean Squared Error: 1196779871953.912\n"
          ]
        }
      ]
    },
    {
      "cell_type": "code",
      "source": [
        "sum(lr.error_list)/len(lr.error_list)"
      ],
      "metadata": {
        "colab": {
          "base_uri": "https://localhost:8080/"
        },
        "id": "skvgPI6vFF0Q",
        "outputId": "f8a15231-2731-4087-cce5-31c1b27ff39d"
      },
      "execution_count": null,
      "outputs": [
        {
          "output_type": "execute_result",
          "data": {
            "text/plain": [
              "4801946752380.246"
            ]
          },
          "metadata": {},
          "execution_count": 57
        }
      ]
    }
  ]
}