{
  "cells": [
    {
      "cell_type": "markdown",
      "source": [
        "## **Sensitivity**"
      ],
      "metadata": {
        "id": "MqBofoOklzIP"
      }
    },
    {
      "cell_type": "markdown",
      "source": [
        "Suppose you are a Data Scientist working on Cancer hospital data:\n",
        "\n",
        "- 100 patients are Cancerous (Class1)\n",
        "- 900 patients are not-Cancerous (Class0)"
      ],
      "metadata": {
        "id": "RTsQYSj8VCwz"
      }
    },
    {
      "cell_type": "markdown",
      "source": [
        "<img src=\"https://drive.google.com/uc?id=1zc2mQMepk6v2cTRf2-ZncU4oErAHkZp0\" >\n",
        "\n"
      ],
      "metadata": {
        "id": "GpnxAa3JzImr"
      }
    },
    {
      "cell_type": "markdown",
      "source": [
        "\n",
        "\n",
        "<br>\n",
        "\n",
        "In medical instituitons, test are conducted\n",
        "- in order to identify whether a patient suffers with cancer or not\n",
        "\n",
        "<br>\n",
        "\n"
      ],
      "metadata": {
        "id": "jalb7JMtmejC"
      }
    },
    {
      "cell_type": "markdown",
      "source": [
        "#### How would we want the test to perform like for cancerious patients?"
      ],
      "metadata": {
        "id": "2IZ4KVjEVOez"
      }
    },
    {
      "cell_type": "markdown",
      "source": [
        "\n",
        "Ans: We want the test to:\n",
        "- Correctly predict Cancer patients (TP ⇑)\n",
        "- and misclassification of Cancer patients low (FN ⇓)\n",
        "\n",
        "<br>\n",
        "\n",
        "**note:** This want of having **TP greater** and **FN low** from a  test, is called **sensitivity**\n",
        "\n",
        "\n"
      ],
      "metadata": {
        "id": "Gp88KHohVJrk"
      }
    },
    {
      "cell_type": "markdown",
      "source": [
        "#### Importance of Sensitivity"
      ],
      "metadata": {
        "id": "r2XFy3YTVZgS"
      }
    },
    {
      "cell_type": "markdown",
      "source": [
        "<img src=\"https://drive.google.com/uc?id=1HrzeUxJlfbEbft6CJQgLPPHxl5BSLeAQ\">\n"
      ],
      "metadata": {
        "id": "A5G7QwsozXqL"
      }
    },
    {
      "cell_type": "markdown",
      "source": [
        "\n",
        "\n",
        "Ans: conside a case if the test fails to identify 95 cancer patients:\n",
        "\n",
        "- Due to **lack of treatments**, the cancer shall spread\n",
        "- and make the **conditions for the patient worse**\n",
        "\n",
        "<br>\n",
        "\n",
        "Hence **high Sensitivity** of the test  becomes **important**\n"
      ],
      "metadata": {
        "id": "zTsmYF5PVXtO"
      }
    },
    {
      "cell_type": "markdown",
      "source": [
        "\n",
        "#### Calculate Sensitivity using Confusion Matrix?"
      ],
      "metadata": {
        "id": "eXTiassOVaw_"
      }
    },
    {
      "cell_type": "markdown",
      "source": [
        "\n",
        "\n",
        "For high Sensitivity,\n",
        "- TP ⇑\n",
        "- FN ⇓\n",
        "\n",
        "hence sensitivity can be interpreted as:\n",
        "- $Sensitivity = \\frac{TP}{TP+FN}$\n",
        "\n",
        "\n",
        "**observe:**\n",
        "\n",
        "The equation of **Sensitivity is same as Recall**\n",
        "\n",
        "<br>\n",
        "\n",
        "**note:** Since **Sensitivity tracks the rate of TP**, it is also called as **True Positive Rate (TPR)**\n",
        "\n",
        "\n"
      ],
      "metadata": {
        "id": "0XTK7YpynMZR"
      }
    },
    {
      "cell_type": "markdown",
      "source": [
        "#### What if a model is \"in-sensitive\"?\n",
        "\n"
      ],
      "metadata": {
        "id": "VqszJE4SwQaS"
      }
    },
    {
      "cell_type": "markdown",
      "source": [
        "<img src=\"https://drive.google.com/uc?id=1wKZXfLDSpPoHJA17vrJKROQ_n0hHnm01\" >"
      ],
      "metadata": {
        "id": "Nta2LgUEzjYL"
      }
    },
    {
      "cell_type": "markdown",
      "source": [
        "Ans: It will cause  **FN to increase**:\n",
        "- And as discussed worsen Cancer patient condition due to lack of treatment\n",
        "\n",
        "\n",
        "<br>\n"
      ],
      "metadata": {
        "id": "YFu28IPQVlkY"
      }
    },
    {
      "cell_type": "markdown",
      "source": [
        "\n",
        "#### way to measure the rate of change in FN.\n"
      ],
      "metadata": {
        "id": "MoL0KZQFVvvr"
      }
    },
    {
      "cell_type": "markdown",
      "source": [
        "\n",
        "ans: It is calculated using **False Negative Rate (FNR)**:\n",
        "\n",
        " - $FNR  = 1 - Specificity  = 1  - \\frac{TP}{TP+FN} = \\frac{FN}{TP+FN}$\n",
        "\n",
        "\n",
        "<br>\n",
        "\n",
        "**note:** As these patients are missed by the model/screening test,  **FNR** is called **Miss Rate**\n",
        "\n",
        "\n"
      ],
      "metadata": {
        "id": "7vVy4DGyVuYc"
      }
    },
    {
      "cell_type": "markdown",
      "source": [
        "## **Specificity**"
      ],
      "metadata": {
        "id": "ZyHkRUc5zt8B"
      }
    },
    {
      "cell_type": "markdown",
      "source": [
        "<img src=\"https://drive.google.com/uc?id=1IbzBlx-pw7lrP5zvOkYVUl4rKQ9c_09Y\" >"
      ],
      "metadata": {
        "id": "Q_dZQu1ZzvXH"
      }
    },
    {
      "cell_type": "markdown",
      "source": [
        "\n",
        "#### We talked how model have high TP but what about TN and FP ?\n",
        "Ans: We would want the model to:\n",
        "- Correctly predict as many Non-Cancer patients (TN ⇑)\n",
        "- While keeping the misclassification of Non-Cancer patients low (FP ⇓)\n",
        "\n",
        "**note:** This want of having **TN high** and **FP low** from a screeing test, is called **specificity**\n",
        "\n",
        "<br>\n",
        "\n",
        "\n"
      ],
      "metadata": {
        "id": "Fi8ZYsqgzt2l"
      }
    },
    {
      "cell_type": "markdown",
      "source": [
        "#### Why is high Specificity important ?"
      ],
      "metadata": {
        "id": "qd_k_sd5WEyI"
      }
    },
    {
      "cell_type": "markdown",
      "source": [
        "\n",
        "<img src=\"https://drive.google.com/uc?id=1PGiXss6WT25iTwisfaA4DpOA3clhtnc9\" >"
      ],
      "metadata": {
        "id": "9MGXr21Gz6Vq"
      }
    },
    {
      "cell_type": "markdown",
      "source": [
        "\n",
        "\n",
        "ans: Imagine if the screening test identifies 600  Non-cancer patients as cancerous:\n",
        "\n",
        "- This will cause fruitless treatments on these patients which are quite expensive\n",
        "- Also will create a social Stigma, anxiousness, Stress to these patients\n",
        "\n",
        "Hence, **Specificity becomes crucial**:\n",
        "- In order to avoid unnecessary expensive treatments, medications , social stigma and anxiety for the patient\n",
        "\n",
        "\n",
        "<br>\n",
        "\n",
        "**observe**\n",
        "\n",
        "**Specificity is basically Sensitivity** defined **for Negative Class (Class0)**"
      ],
      "metadata": {
        "id": "Rge_djE73IYd"
      }
    },
    {
      "cell_type": "markdown",
      "source": [
        "\n",
        "#### How to calculate Specificity using Confusion Matrix ?"
      ],
      "metadata": {
        "id": "kcdysF91WKPv"
      }
    },
    {
      "cell_type": "markdown",
      "source": [
        "\n",
        "\n",
        "Ans: As to have high Specificity:\n",
        "- TN ⇑\n",
        "- FP ⇓\n",
        "\n",
        "Hence we can define Specificity as:\n",
        "\n",
        "$Specificity = \\frac{TN}{TN + FP}$\n",
        "\n",
        "**Note:** As Sensitivity measures the rate of TP ,\n",
        "- Specificity measures the rate of TN, hence also called as **True Negative Rate (TNR)**\n",
        "\n",
        "\n",
        "\n"
      ],
      "metadata": {
        "id": "OX4ba-MHWI0a"
      }
    },
    {
      "cell_type": "markdown",
      "source": [
        "#### What will happen if a model/Screeing test is \"not-specific\"?"
      ],
      "metadata": {
        "id": "juayyHbwWZw-"
      }
    },
    {
      "cell_type": "markdown",
      "source": [
        "<img src=\"https://drive.google.com/uc?id=1g5JCqXbX5S_GXyOEzMdOHK8XcXvTorYr\" >"
      ],
      "metadata": {
        "id": "N6wkYcAb0J9G"
      }
    },
    {
      "cell_type": "markdown",
      "source": [
        "\n",
        "\n",
        "Ans: It will cause  **FP to increase**:\n",
        "- And as discussed, resulting in more Non-Cancer patients(class0) to undego\n",
        " - irrelevant expensive treatments, anxiety and social stigma\n",
        "\n",
        "\n",
        "<br>\n"
      ],
      "metadata": {
        "id": "o9MWO2iJztuu"
      }
    },
    {
      "cell_type": "markdown",
      "source": [
        "#### How to measure the rate of change in FP ?"
      ],
      "metadata": {
        "id": "LjZrOxfFWczw"
      }
    },
    {
      "cell_type": "markdown",
      "source": [
        "\n",
        "\n",
        "\n",
        "ans: As **FNR** is used to measure change in FN , rate of change in FP  is calculated using **False Positive Rate (FPR)**:\n",
        "\n",
        " - $FPR  = 1 - Specificity  = 1  - \\frac{TN}{TN+FP} = \\frac{FP}{TN+FP}$\n",
        "\n",
        "\n",
        "\n",
        "\n",
        "\n",
        "\n"
      ],
      "metadata": {
        "id": "STxMrEXYWbuv"
      }
    },
    {
      "cell_type": "markdown",
      "source": [
        "# ROC"
      ],
      "metadata": {
        "id": "2iP-KaflUaQG"
      }
    },
    {
      "cell_type": "markdown",
      "source": [
        "<img src=\"https://drive.google.com/uc?id=1_w6SNkRdRM1uHnay4ni7mwfjKuUKTN1M\">\n"
      ],
      "metadata": {
        "id": "lsgtIFPDUcUN"
      }
    },
    {
      "cell_type": "markdown",
      "metadata": {
        "id": "F4Hmn9SIPiDk"
      },
      "source": [
        "- Now, we plot TPR (Y-axis) vs FPR (X-axis) for each threshold\n",
        "- We select the one ***threshold***  based on our problem\n",
        "\n",
        "<br>\n",
        "\n",
        "\n",
        "**Note:** Since in our Spam classifier problem, we want FPR $\\approx 0$\n",
        "- We **pick that threshold** which has **high TPR and low FPR**\n",
        "\n",
        "lets say 0.65\n",
        "<br>\n",
        "\n",
        "\n",
        "\n",
        "\n",
        "\n",
        "\n",
        "\n",
        "\n"
      ]
    },
    {
      "cell_type": "markdown",
      "source": [
        "<img src=\"https://drive.google.com/uc?id=1yIiV2UHJPNXGwfOCKXl9NVUziKMTj3od\">"
      ],
      "metadata": {
        "id": "7SFF3f5zfUFh"
      }
    },
    {
      "cell_type": "markdown",
      "source": [
        "**Observe**\n",
        "\n",
        "The **plot TPR (Y-axis) vs FPR (X-axis)** for each threshold will **look like a curve**. This is called as **ROC (Reciever Operating Characteristic) curve**\n",
        "\n",
        "- ROC term comes from electronics and radio engineering\n",
        "- usually used in signal procressing"
      ],
      "metadata": {
        "id": "-baxWZbZfRPb"
      }
    },
    {
      "cell_type": "markdown",
      "source": [
        "<img src=\" https://drive.google.com/uc?id=1MbFiEUvsZFQ5zsIpJODI3vzYa4QAvSdU\">"
      ],
      "metadata": {
        "id": "ulvIFCUneN59"
      }
    },
    {
      "cell_type": "markdown",
      "metadata": {
        "id": "flbHvWnzQnOW"
      },
      "source": [
        "## **AU-ROC (Area Under ROC Curve)/ AUC**"
      ]
    },
    {
      "cell_type": "markdown",
      "source": [
        "<img src=\"https://drive.google.com/uc?id=1E8vgwii_KwFqv5ijBnlw0jG9OJaM3DO_\">"
      ],
      "metadata": {
        "id": "1B-_l_ZGd6e3"
      }
    },
    {
      "cell_type": "markdown",
      "metadata": {
        "id": "yChr5_h4QlXG"
      },
      "source": [
        "Imagine we have two models: Model A , Model B and their plot look like:\n",
        "\n",
        "#### According to the plot which model is better Model A or Model B ?"
      ]
    },
    {
      "cell_type": "markdown",
      "metadata": {
        "id": "pGwQEWgZsrKN"
      },
      "source": [
        "\n",
        "\n",
        "Ans: Since TPR value of Model B is greater than Model A at the same FPR value\n",
        "\n",
        "- Hence Model B better than Model A\n",
        "\n"
      ]
    },
    {
      "cell_type": "markdown",
      "metadata": {
        "id": "upNxIOzEC1IC"
      },
      "source": [
        "We see intitutively, Model B better than Model A, but\n",
        "\n",
        "<br>\n",
        "\n",
        "#### How to mathematically show Model B better than Model A ?\n"
      ]
    },
    {
      "cell_type": "markdown",
      "metadata": {
        "id": "BPGfSFz-SG6f"
      },
      "source": [
        "Ans: Lets consider area under the ROC curve (AU-ROC/ AUC):\n",
        "\n",
        "- Then AUC of Model B > AUC of Model A,\n",
        "\n",
        "Hence Model B is better than Model A"
      ]
    },
    {
      "cell_type": "markdown",
      "source": [
        "<img src=\"https://drive.google.com/uc?id=15POwpbnJFkJeISbaoj8CSGXvAraRn6xS\">"
      ],
      "metadata": {
        "id": "GxghGit8eV1P"
      }
    },
    {
      "cell_type": "markdown",
      "metadata": {
        "id": "FKYjM3shRycu"
      },
      "source": [
        "#### What will be the AU-ROC for a Bad model ?"
      ]
    },
    {
      "cell_type": "markdown",
      "source": [
        "<img src=\"https://drive.google.com/uc?id=1pQq0jOr8Uqa_UZodOuuQiX_EG1UzZWVA\" >"
      ],
      "metadata": {
        "id": "jiN0eNs_3nQU"
      }
    },
    {
      "cell_type": "markdown",
      "metadata": {
        "id": "4oIa4c2dRxww"
      },
      "source": [
        "\n",
        "\n",
        "\n",
        "Ans: Clearly we can say, the curve for the Bad model will have\n",
        "1. Line starting from $(0,0)$ to $(1,0)$\n",
        "2. and another line starting from $(1,0)$ to $(1,1)$\n",
        "\n",
        "Hence AU-ROC $ = 0 $\n",
        "\n",
        "#### What does AU-ROC $= 0$ really mean ?\n",
        "\n",
        "ans: It means that\n",
        "- **the bad model probabilities ($p$) misclassifies every $y$ of the data.**\n"
      ]
    },
    {
      "cell_type": "markdown",
      "metadata": {
        "id": "rE_brV57R9Oh"
      },
      "source": [
        "#### Would doing $(1-p)$ on every model probability fix the Bad model ?"
      ]
    },
    {
      "cell_type": "markdown",
      "metadata": {
        "id": "Z09lETC6foN-"
      },
      "source": [
        "\n",
        "\n",
        "\n",
        "\n",
        "Ans: **Yes**, as now the model AUC becomes:\n",
        "- $AUC_{new} = 1 - AUC_{old} = 1 - 0  = 1 $\n",
        "\n",
        "<br>\n",
        "\n",
        "**Note:** Therefore, **any bad model** which has a curve below the random model $= 0.5$ , **can be fixed**\n",
        "- By doing a simple hack of reversing the probabilities\n"
      ]
    },
    {
      "cell_type": "markdown",
      "metadata": {
        "id": "FSw0WqCaFDQO"
      },
      "source": [
        "#### How is AU-ROC curve  different from Precision, Recall or F1-score?"
      ]
    },
    {
      "cell_type": "markdown",
      "source": [
        "<img src =\" https://drive.google.com/uc?id=1-bqrcGCZBvfEpSGQFkwi-zNjUIcKk_r0\" >"
      ],
      "metadata": {
        "id": "MAtCx5jhLrHP"
      }
    },
    {
      "cell_type": "markdown",
      "metadata": {
        "id": "c6oJ8ZNijfqC"
      },
      "source": [
        "Ans: In Precision, Recall or F1 score:\n",
        "\n",
        "- We used a certrain threshold on  which we found $\\hat{y^{(i)}}$\n",
        "\n",
        "\n",
        "While in AU-ROC curve:\n",
        "- we find **AUC metric on every possible threshold**\n"
      ]
    },
    {
      "cell_type": "markdown",
      "metadata": {
        "id": "_EN5cL3alrQ2"
      },
      "source": [
        "Suppose we have a label $y = [1,1,0,1,1]$ and there are 2 models, such that:\n",
        "\n",
        "1. $P_{M1} $: $[0.95, 0.92, 0.80, 0.76, 0.71]$\n",
        "\n",
        "2. $P_{M2} $: $[0.2, 0.1, 0.08, 0.06, 0.02]$"
      ]
    },
    {
      "cell_type": "markdown",
      "metadata": {
        "id": "PbX1_zN8lNw0"
      },
      "source": [
        "\n",
        "#### What will be $\\hat{y^{(i)}}$ for M1 when threshold = $0.95$ ?\n",
        "\n",
        "Ans: $\\hat{y^{(i)}}_{M1} = [1, 0 , 0 , 0, 0 ]$\n",
        "\n"
      ]
    },
    {
      "cell_type": "markdown",
      "source": [
        "\n",
        "#### What will be $\\hat{y^{(i)}}$ for M2 when threshold = $0.2$ ?\n",
        "\n",
        "Ans: $\\hat{y^{(i)}}_{M2} = [1, 0 , 0 , 0, 0 ]$\n",
        "\n",
        "<br>\n",
        "\n",
        "Similarly, when threshold = $0.92$, for M1:\n",
        "- $\\hat{y^{(i)}}_{M1} = [1, 1 , 0 , 0, 0 ]$\n",
        "\n",
        "And threshold = $0.1$, for M2:\n",
        "- $\\hat{y^{(i)}}_{M2} = [1, 1 , 0 , 0, 0 ]$"
      ],
      "metadata": {
        "id": "CgwEM2qz4ci0"
      }
    },
    {
      "cell_type": "markdown",
      "metadata": {
        "id": "vDsFFgktSOPS"
      },
      "source": [
        "\n",
        "**observe**\n",
        "\n",
        "As the **ordering of the threshold of 2 models are same**:\n",
        "- Hence $[[TPR^{(1)}_{M1}, FPR^{(1)}_{M1}],...,[TPR^{(n)}_{M1}, FPR^{(n)}_{M1}] ] =  [[TPR^{(1)}_{M2}, FPR^{(1)}_{M2}],...,[TPR^{(n)}_{M2}, FPR^{(n)}_{M2}] ] $\n",
        "\n",
        "- Meaning the $AUC_{M1} = AUC_{M2}$\n",
        "\n",
        "\n",
        "\n",
        "\n"
      ]
    },
    {
      "cell_type": "markdown",
      "source": [
        "# Hyperparameters"
      ],
      "metadata": {
        "id": "tH2dsh_kccP0"
      }
    },
    {
      "cell_type": "markdown",
      "source": [
        "\n",
        "<img src='https://drive.google.com/uc?id=16qQ_TONWsZ1B-2cz46q6RMmNUOUY624F' width=800>\n"
      ],
      "metadata": {
        "id": "SeLVPSt-oZWB"
      }
    },
    {
      "cell_type": "markdown",
      "source": [
        "#### What do you mean by parameters and hyperparameters then?"
      ],
      "metadata": {
        "id": "9QEsHDqxcgZq"
      }
    },
    {
      "cell_type": "markdown",
      "source": [
        "\n",
        "<img src='https://drive.google.com/uc?id=1Wk8xCW4znBBocvWvwaNzl2RGh14JZ_Vb' width=800>\n"
      ],
      "metadata": {
        "id": "0cM3-p1Qquet"
      }
    },
    {
      "cell_type": "markdown",
      "source": [
        "Any kind of value which the data scientist sets from their side.\n",
        "\n",
        "E.g.:\n",
        "  - Degree of the model\n",
        "  - Regularization Rate, lamdba, $λ$\n",
        "\n",
        "and so on."
      ],
      "metadata": {
        "id": "lkX5JMuYc2aw"
      }
    },
    {
      "cell_type": "markdown",
      "source": [
        "#### How do we choose the hyperparameter values?"
      ],
      "metadata": {
        "id": "9aVSxDQjdItD"
      }
    },
    {
      "cell_type": "markdown",
      "source": [
        "\n",
        "<img src='https://drive.google.com/uc?id=1VhPB8ey2LoOwtyppuc1-1gTz1cyrhvB-' width=800>\n",
        "\n"
      ],
      "metadata": {
        "id": "yrDvsJ39slGW"
      }
    },
    {
      "cell_type": "markdown",
      "source": [
        "\n",
        "<img src='https://drive.google.com/uc?id=1Zcxeos6kjGkN1d0ZMFl3b2PA0PAXPnoE' width=800>\n",
        "\n"
      ],
      "metadata": {
        "id": "wRpHnC2Msw6D"
      }
    },
    {
      "cell_type": "markdown",
      "source": [
        "<!-- In some cases, we also use performance metric instead of error to find the optimal value (as we did earlier) -->\n",
        "\n",
        "#### What would the plot between $λ$ and $adj. R^2$ score look like?\n"
      ],
      "metadata": {
        "id": "HFkoVL5ilbqZ"
      }
    },
    {
      "cell_type": "markdown",
      "source": [
        "\n",
        "<img src='https://drive.google.com/uc?id=1c99u89yD4cnswn2S_GlZg1Utm1iM31EL' width=800>\n"
      ],
      "metadata": {
        "id": "oGjB64U8nQTp"
      }
    },
    {
      "cell_type": "markdown",
      "source": [
        "Let's use the code to create X and Y as we did in last lecture"
      ],
      "metadata": {
        "id": "rfjmuUg-jvL4"
      }
    },
    {
      "cell_type": "code",
      "source": [
        "import numpy as np\n",
        "import pandas as pd\n",
        "import matplotlib.pyplot as plt"
      ],
      "metadata": {
        "id": "d0ElToyxjvL4"
      },
      "execution_count": null,
      "outputs": []
    },
    {
      "cell_type": "code",
      "source": [
        "\n",
        "def sigmoid(x):\n",
        "    return 1 / (1 + np.exp(-x))"
      ],
      "metadata": {
        "id": "e2XMTkbSMLqM"
      },
      "execution_count": null,
      "outputs": []
    },
    {
      "cell_type": "code",
      "source": [
        "num_samples = 1000\n",
        "\n",
        "age = np.random.randint(20, 80, num_samples)\n",
        "blood_sugar = np.random.normal(loc=100, scale=20, size=num_samples)\n",
        "tumor_size = np.random.uniform(1, 10, num_samples)\n",
        "tumor_stage = np.random.choice([1, 2, 3, 4], num_samples)\n",
        "smoking_status = np.random.choice([1, 0], num_samples)\n",
        "cancer_type = np.random.choice([1,2,3,0], num_samples)\n",
        "\n",
        "# Create DataFrame\n",
        "X = pd.DataFrame({\n",
        "    'Age': age,\n",
        "    'Blood Sugar': blood_sugar,\n",
        "    'Tumor Size': tumor_size,\n",
        "    'Tumor Stage': tumor_stage,\n",
        "    'Smoking Status': smoking_status,\n",
        "    'Cancer Type': cancer_type\n",
        "})\n",
        "\n",
        "y = sigmoid(0.7*(X['Age']**5) - \\\n",
        "    2.1*(X['Blood Sugar']**4) + \\\n",
        "    2.3*(X['Tumor Size']**3) + \\\n",
        "    0.2*(X['Smoking Status']**2) + \\\n",
        "    0.3* X['Cancer Type'] + \\\n",
        "    0.4*X['Tumor Stage'])\n"
      ],
      "metadata": {
        "id": "XEraxP1UjvL5",
        "colab": {
          "base_uri": "https://localhost:8080/"
        },
        "outputId": "81df042c-4491-4081-e5e0-c572c0ad5407"
      },
      "execution_count": null,
      "outputs": [
        {
          "output_type": "stream",
          "name": "stderr",
          "text": [
            "/usr/local/lib/python3.10/dist-packages/pandas/core/arraylike.py:396: RuntimeWarning: overflow encountered in exp\n",
            "  result = getattr(ufunc, method)(*inputs, **kwargs)\n"
          ]
        }
      ]
    },
    {
      "cell_type": "code",
      "source": [
        "X"
      ],
      "metadata": {
        "colab": {
          "base_uri": "https://localhost:8080/",
          "height": 423
        },
        "id": "kvoxUzpMVQAh",
        "outputId": "4534b03d-91da-4f4d-f4f6-281a31fd7a9e"
      },
      "execution_count": null,
      "outputs": [
        {
          "output_type": "execute_result",
          "data": {
            "text/plain": [
              "     Age  Blood Sugar  Tumor Size  Tumor Stage  Smoking Status  Cancer Type\n",
              "0     62    59.804701    1.854389            3               0            3\n",
              "1     41    80.318039    2.511483            2               1            1\n",
              "2     76    93.157158    4.342450            3               1            3\n",
              "3     76   127.163474    1.007949            4               1            3\n",
              "4     26   126.115235    2.934524            2               0            3\n",
              "..   ...          ...         ...          ...             ...          ...\n",
              "995   27   131.598392    7.836162            3               1            1\n",
              "996   47   119.469191    8.510408            1               1            1\n",
              "997   35   102.928833    8.951818            2               1            0\n",
              "998   74    68.636126    8.960181            2               1            2\n",
              "999   23    83.984238    6.500722            2               1            2\n",
              "\n",
              "[1000 rows x 6 columns]"
            ],
            "text/html": [
              "\n",
              "  <div id=\"df-3673a37c-03be-4031-a7c0-999adea04cc0\" class=\"colab-df-container\">\n",
              "    <div>\n",
              "<style scoped>\n",
              "    .dataframe tbody tr th:only-of-type {\n",
              "        vertical-align: middle;\n",
              "    }\n",
              "\n",
              "    .dataframe tbody tr th {\n",
              "        vertical-align: top;\n",
              "    }\n",
              "\n",
              "    .dataframe thead th {\n",
              "        text-align: right;\n",
              "    }\n",
              "</style>\n",
              "<table border=\"1\" class=\"dataframe\">\n",
              "  <thead>\n",
              "    <tr style=\"text-align: right;\">\n",
              "      <th></th>\n",
              "      <th>Age</th>\n",
              "      <th>Blood Sugar</th>\n",
              "      <th>Tumor Size</th>\n",
              "      <th>Tumor Stage</th>\n",
              "      <th>Smoking Status</th>\n",
              "      <th>Cancer Type</th>\n",
              "    </tr>\n",
              "  </thead>\n",
              "  <tbody>\n",
              "    <tr>\n",
              "      <th>0</th>\n",
              "      <td>62</td>\n",
              "      <td>59.804701</td>\n",
              "      <td>1.854389</td>\n",
              "      <td>3</td>\n",
              "      <td>0</td>\n",
              "      <td>3</td>\n",
              "    </tr>\n",
              "    <tr>\n",
              "      <th>1</th>\n",
              "      <td>41</td>\n",
              "      <td>80.318039</td>\n",
              "      <td>2.511483</td>\n",
              "      <td>2</td>\n",
              "      <td>1</td>\n",
              "      <td>1</td>\n",
              "    </tr>\n",
              "    <tr>\n",
              "      <th>2</th>\n",
              "      <td>76</td>\n",
              "      <td>93.157158</td>\n",
              "      <td>4.342450</td>\n",
              "      <td>3</td>\n",
              "      <td>1</td>\n",
              "      <td>3</td>\n",
              "    </tr>\n",
              "    <tr>\n",
              "      <th>3</th>\n",
              "      <td>76</td>\n",
              "      <td>127.163474</td>\n",
              "      <td>1.007949</td>\n",
              "      <td>4</td>\n",
              "      <td>1</td>\n",
              "      <td>3</td>\n",
              "    </tr>\n",
              "    <tr>\n",
              "      <th>4</th>\n",
              "      <td>26</td>\n",
              "      <td>126.115235</td>\n",
              "      <td>2.934524</td>\n",
              "      <td>2</td>\n",
              "      <td>0</td>\n",
              "      <td>3</td>\n",
              "    </tr>\n",
              "    <tr>\n",
              "      <th>...</th>\n",
              "      <td>...</td>\n",
              "      <td>...</td>\n",
              "      <td>...</td>\n",
              "      <td>...</td>\n",
              "      <td>...</td>\n",
              "      <td>...</td>\n",
              "    </tr>\n",
              "    <tr>\n",
              "      <th>995</th>\n",
              "      <td>27</td>\n",
              "      <td>131.598392</td>\n",
              "      <td>7.836162</td>\n",
              "      <td>3</td>\n",
              "      <td>1</td>\n",
              "      <td>1</td>\n",
              "    </tr>\n",
              "    <tr>\n",
              "      <th>996</th>\n",
              "      <td>47</td>\n",
              "      <td>119.469191</td>\n",
              "      <td>8.510408</td>\n",
              "      <td>1</td>\n",
              "      <td>1</td>\n",
              "      <td>1</td>\n",
              "    </tr>\n",
              "    <tr>\n",
              "      <th>997</th>\n",
              "      <td>35</td>\n",
              "      <td>102.928833</td>\n",
              "      <td>8.951818</td>\n",
              "      <td>2</td>\n",
              "      <td>1</td>\n",
              "      <td>0</td>\n",
              "    </tr>\n",
              "    <tr>\n",
              "      <th>998</th>\n",
              "      <td>74</td>\n",
              "      <td>68.636126</td>\n",
              "      <td>8.960181</td>\n",
              "      <td>2</td>\n",
              "      <td>1</td>\n",
              "      <td>2</td>\n",
              "    </tr>\n",
              "    <tr>\n",
              "      <th>999</th>\n",
              "      <td>23</td>\n",
              "      <td>83.984238</td>\n",
              "      <td>6.500722</td>\n",
              "      <td>2</td>\n",
              "      <td>1</td>\n",
              "      <td>2</td>\n",
              "    </tr>\n",
              "  </tbody>\n",
              "</table>\n",
              "<p>1000 rows × 6 columns</p>\n",
              "</div>\n",
              "    <div class=\"colab-df-buttons\">\n",
              "\n",
              "  <div class=\"colab-df-container\">\n",
              "    <button class=\"colab-df-convert\" onclick=\"convertToInteractive('df-3673a37c-03be-4031-a7c0-999adea04cc0')\"\n",
              "            title=\"Convert this dataframe to an interactive table.\"\n",
              "            style=\"display:none;\">\n",
              "\n",
              "  <svg xmlns=\"http://www.w3.org/2000/svg\" height=\"24px\" viewBox=\"0 -960 960 960\">\n",
              "    <path d=\"M120-120v-720h720v720H120Zm60-500h600v-160H180v160Zm220 220h160v-160H400v160Zm0 220h160v-160H400v160ZM180-400h160v-160H180v160Zm440 0h160v-160H620v160ZM180-180h160v-160H180v160Zm440 0h160v-160H620v160Z\"/>\n",
              "  </svg>\n",
              "    </button>\n",
              "\n",
              "  <style>\n",
              "    .colab-df-container {\n",
              "      display:flex;\n",
              "      gap: 12px;\n",
              "    }\n",
              "\n",
              "    .colab-df-convert {\n",
              "      background-color: #E8F0FE;\n",
              "      border: none;\n",
              "      border-radius: 50%;\n",
              "      cursor: pointer;\n",
              "      display: none;\n",
              "      fill: #1967D2;\n",
              "      height: 32px;\n",
              "      padding: 0 0 0 0;\n",
              "      width: 32px;\n",
              "    }\n",
              "\n",
              "    .colab-df-convert:hover {\n",
              "      background-color: #E2EBFA;\n",
              "      box-shadow: 0px 1px 2px rgba(60, 64, 67, 0.3), 0px 1px 3px 1px rgba(60, 64, 67, 0.15);\n",
              "      fill: #174EA6;\n",
              "    }\n",
              "\n",
              "    .colab-df-buttons div {\n",
              "      margin-bottom: 4px;\n",
              "    }\n",
              "\n",
              "    [theme=dark] .colab-df-convert {\n",
              "      background-color: #3B4455;\n",
              "      fill: #D2E3FC;\n",
              "    }\n",
              "\n",
              "    [theme=dark] .colab-df-convert:hover {\n",
              "      background-color: #434B5C;\n",
              "      box-shadow: 0px 1px 3px 1px rgba(0, 0, 0, 0.15);\n",
              "      filter: drop-shadow(0px 1px 2px rgba(0, 0, 0, 0.3));\n",
              "      fill: #FFFFFF;\n",
              "    }\n",
              "  </style>\n",
              "\n",
              "    <script>\n",
              "      const buttonEl =\n",
              "        document.querySelector('#df-3673a37c-03be-4031-a7c0-999adea04cc0 button.colab-df-convert');\n",
              "      buttonEl.style.display =\n",
              "        google.colab.kernel.accessAllowed ? 'block' : 'none';\n",
              "\n",
              "      async function convertToInteractive(key) {\n",
              "        const element = document.querySelector('#df-3673a37c-03be-4031-a7c0-999adea04cc0');\n",
              "        const dataTable =\n",
              "          await google.colab.kernel.invokeFunction('convertToInteractive',\n",
              "                                                    [key], {});\n",
              "        if (!dataTable) return;\n",
              "\n",
              "        const docLinkHtml = 'Like what you see? Visit the ' +\n",
              "          '<a target=\"_blank\" href=https://colab.research.google.com/notebooks/data_table.ipynb>data table notebook</a>'\n",
              "          + ' to learn more about interactive tables.';\n",
              "        element.innerHTML = '';\n",
              "        dataTable['output_type'] = 'display_data';\n",
              "        await google.colab.output.renderOutput(dataTable, element);\n",
              "        const docLink = document.createElement('div');\n",
              "        docLink.innerHTML = docLinkHtml;\n",
              "        element.appendChild(docLink);\n",
              "      }\n",
              "    </script>\n",
              "  </div>\n",
              "\n",
              "\n",
              "<div id=\"df-dafaf048-adc4-431c-ba9f-c22229b013ff\">\n",
              "  <button class=\"colab-df-quickchart\" onclick=\"quickchart('df-dafaf048-adc4-431c-ba9f-c22229b013ff')\"\n",
              "            title=\"Suggest charts\"\n",
              "            style=\"display:none;\">\n",
              "\n",
              "<svg xmlns=\"http://www.w3.org/2000/svg\" height=\"24px\"viewBox=\"0 0 24 24\"\n",
              "     width=\"24px\">\n",
              "    <g>\n",
              "        <path d=\"M19 3H5c-1.1 0-2 .9-2 2v14c0 1.1.9 2 2 2h14c1.1 0 2-.9 2-2V5c0-1.1-.9-2-2-2zM9 17H7v-7h2v7zm4 0h-2V7h2v10zm4 0h-2v-4h2v4z\"/>\n",
              "    </g>\n",
              "</svg>\n",
              "  </button>\n",
              "\n",
              "<style>\n",
              "  .colab-df-quickchart {\n",
              "      --bg-color: #E8F0FE;\n",
              "      --fill-color: #1967D2;\n",
              "      --hover-bg-color: #E2EBFA;\n",
              "      --hover-fill-color: #174EA6;\n",
              "      --disabled-fill-color: #AAA;\n",
              "      --disabled-bg-color: #DDD;\n",
              "  }\n",
              "\n",
              "  [theme=dark] .colab-df-quickchart {\n",
              "      --bg-color: #3B4455;\n",
              "      --fill-color: #D2E3FC;\n",
              "      --hover-bg-color: #434B5C;\n",
              "      --hover-fill-color: #FFFFFF;\n",
              "      --disabled-bg-color: #3B4455;\n",
              "      --disabled-fill-color: #666;\n",
              "  }\n",
              "\n",
              "  .colab-df-quickchart {\n",
              "    background-color: var(--bg-color);\n",
              "    border: none;\n",
              "    border-radius: 50%;\n",
              "    cursor: pointer;\n",
              "    display: none;\n",
              "    fill: var(--fill-color);\n",
              "    height: 32px;\n",
              "    padding: 0;\n",
              "    width: 32px;\n",
              "  }\n",
              "\n",
              "  .colab-df-quickchart:hover {\n",
              "    background-color: var(--hover-bg-color);\n",
              "    box-shadow: 0 1px 2px rgba(60, 64, 67, 0.3), 0 1px 3px 1px rgba(60, 64, 67, 0.15);\n",
              "    fill: var(--button-hover-fill-color);\n",
              "  }\n",
              "\n",
              "  .colab-df-quickchart-complete:disabled,\n",
              "  .colab-df-quickchart-complete:disabled:hover {\n",
              "    background-color: var(--disabled-bg-color);\n",
              "    fill: var(--disabled-fill-color);\n",
              "    box-shadow: none;\n",
              "  }\n",
              "\n",
              "  .colab-df-spinner {\n",
              "    border: 2px solid var(--fill-color);\n",
              "    border-color: transparent;\n",
              "    border-bottom-color: var(--fill-color);\n",
              "    animation:\n",
              "      spin 1s steps(1) infinite;\n",
              "  }\n",
              "\n",
              "  @keyframes spin {\n",
              "    0% {\n",
              "      border-color: transparent;\n",
              "      border-bottom-color: var(--fill-color);\n",
              "      border-left-color: var(--fill-color);\n",
              "    }\n",
              "    20% {\n",
              "      border-color: transparent;\n",
              "      border-left-color: var(--fill-color);\n",
              "      border-top-color: var(--fill-color);\n",
              "    }\n",
              "    30% {\n",
              "      border-color: transparent;\n",
              "      border-left-color: var(--fill-color);\n",
              "      border-top-color: var(--fill-color);\n",
              "      border-right-color: var(--fill-color);\n",
              "    }\n",
              "    40% {\n",
              "      border-color: transparent;\n",
              "      border-right-color: var(--fill-color);\n",
              "      border-top-color: var(--fill-color);\n",
              "    }\n",
              "    60% {\n",
              "      border-color: transparent;\n",
              "      border-right-color: var(--fill-color);\n",
              "    }\n",
              "    80% {\n",
              "      border-color: transparent;\n",
              "      border-right-color: var(--fill-color);\n",
              "      border-bottom-color: var(--fill-color);\n",
              "    }\n",
              "    90% {\n",
              "      border-color: transparent;\n",
              "      border-bottom-color: var(--fill-color);\n",
              "    }\n",
              "  }\n",
              "</style>\n",
              "\n",
              "  <script>\n",
              "    async function quickchart(key) {\n",
              "      const quickchartButtonEl =\n",
              "        document.querySelector('#' + key + ' button');\n",
              "      quickchartButtonEl.disabled = true;  // To prevent multiple clicks.\n",
              "      quickchartButtonEl.classList.add('colab-df-spinner');\n",
              "      try {\n",
              "        const charts = await google.colab.kernel.invokeFunction(\n",
              "            'suggestCharts', [key], {});\n",
              "      } catch (error) {\n",
              "        console.error('Error during call to suggestCharts:', error);\n",
              "      }\n",
              "      quickchartButtonEl.classList.remove('colab-df-spinner');\n",
              "      quickchartButtonEl.classList.add('colab-df-quickchart-complete');\n",
              "    }\n",
              "    (() => {\n",
              "      let quickchartButtonEl =\n",
              "        document.querySelector('#df-dafaf048-adc4-431c-ba9f-c22229b013ff button');\n",
              "      quickchartButtonEl.style.display =\n",
              "        google.colab.kernel.accessAllowed ? 'block' : 'none';\n",
              "    })();\n",
              "  </script>\n",
              "</div>\n",
              "    </div>\n",
              "  </div>\n"
            ],
            "application/vnd.google.colaboratory.intrinsic+json": {
              "type": "dataframe",
              "variable_name": "X",
              "summary": "{\n  \"name\": \"X\",\n  \"rows\": 1000,\n  \"fields\": [\n    {\n      \"column\": \"Age\",\n      \"properties\": {\n        \"dtype\": \"number\",\n        \"std\": 17,\n        \"min\": 20,\n        \"max\": 79,\n        \"num_unique_values\": 60,\n        \"samples\": [\n          62,\n          37,\n          28\n        ],\n        \"semantic_type\": \"\",\n        \"description\": \"\"\n      }\n    },\n    {\n      \"column\": \"Blood Sugar\",\n      \"properties\": {\n        \"dtype\": \"number\",\n        \"std\": 20.473131081895723,\n        \"min\": 39.71758807779555,\n        \"max\": 162.20731953470144,\n        \"num_unique_values\": 1000,\n        \"samples\": [\n          134.45898930261032,\n          122.03386523483235,\n          88.75489793596454\n        ],\n        \"semantic_type\": \"\",\n        \"description\": \"\"\n      }\n    },\n    {\n      \"column\": \"Tumor Size\",\n      \"properties\": {\n        \"dtype\": \"number\",\n        \"std\": 2.578836433772411,\n        \"min\": 1.0079487035433532,\n        \"max\": 9.972085111647184,\n        \"num_unique_values\": 1000,\n        \"samples\": [\n          8.639326330504915,\n          9.553863686980307,\n          9.365614051190844\n        ],\n        \"semantic_type\": \"\",\n        \"description\": \"\"\n      }\n    },\n    {\n      \"column\": \"Tumor Stage\",\n      \"properties\": {\n        \"dtype\": \"number\",\n        \"std\": 1,\n        \"min\": 1,\n        \"max\": 4,\n        \"num_unique_values\": 4,\n        \"samples\": [\n          2,\n          1,\n          3\n        ],\n        \"semantic_type\": \"\",\n        \"description\": \"\"\n      }\n    },\n    {\n      \"column\": \"Smoking Status\",\n      \"properties\": {\n        \"dtype\": \"number\",\n        \"std\": 0,\n        \"min\": 0,\n        \"max\": 1,\n        \"num_unique_values\": 2,\n        \"samples\": [\n          1,\n          0\n        ],\n        \"semantic_type\": \"\",\n        \"description\": \"\"\n      }\n    },\n    {\n      \"column\": \"Cancer Type\",\n      \"properties\": {\n        \"dtype\": \"number\",\n        \"std\": 1,\n        \"min\": 0,\n        \"max\": 3,\n        \"num_unique_values\": 4,\n        \"samples\": [\n          1,\n          0\n        ],\n        \"semantic_type\": \"\",\n        \"description\": \"\"\n      }\n    }\n  ]\n}"
            }
          },
          "metadata": {},
          "execution_count": 15
        }
      ]
    },
    {
      "cell_type": "code",
      "source": [
        "y"
      ],
      "metadata": {
        "colab": {
          "base_uri": "https://localhost:8080/"
        },
        "id": "gtO89Z_1VQ5g",
        "outputId": "7d561f17-8c65-4a8e-a84b-0b3f362d67fc"
      },
      "execution_count": null,
      "outputs": [
        {
          "output_type": "execute_result",
          "data": {
            "text/plain": [
              "0      0.0\n",
              "1      0.0\n",
              "2      0.0\n",
              "3      1.0\n",
              "4      0.0\n",
              "      ... \n",
              "995    0.0\n",
              "996    1.0\n",
              "997    0.0\n",
              "998    1.0\n",
              "999    1.0\n",
              "Length: 1000, dtype: float64"
            ]
          },
          "metadata": {},
          "execution_count": 5
        }
      ]
    },
    {
      "cell_type": "markdown",
      "source": [
        "Now we divide our data into train and test"
      ],
      "metadata": {
        "id": "yN8jbM0jjvL5"
      }
    },
    {
      "cell_type": "code",
      "source": [
        "#0.8, 0.2 split\n",
        "from sklearn.model_selection import train_test_split\n",
        "X_train, X_test, y_train, y_test = train_test_split(X, y, test_size=0.2, random_state=1)"
      ],
      "metadata": {
        "id": "pgACRlsujvL5"
      },
      "execution_count": null,
      "outputs": []
    },
    {
      "cell_type": "code",
      "source": [
        "X_train.shape, X_test.shape"
      ],
      "metadata": {
        "colab": {
          "base_uri": "https://localhost:8080/"
        },
        "id": "H5dce_Iodc4U",
        "outputId": "aac9d92e-ae47-4ab7-a7de-ca1cc85352c3"
      },
      "execution_count": null,
      "outputs": [
        {
          "output_type": "execute_result",
          "data": {
            "text/plain": [
              "((800, 6), (200, 6))"
            ]
          },
          "metadata": {},
          "execution_count": 17
        }
      ]
    },
    {
      "cell_type": "markdown",
      "source": [
        "If you remember, we had already seen how to find the optimal value of degree for polynomial regression in the last lecture\n",
        "\n",
        "Let's use L2/Ridge regression model to tune our hyperparameters-degree and regularization rate"
      ],
      "metadata": {
        "id": "AoS-fo_GcLcV"
      }
    },
    {
      "cell_type": "code",
      "source": [
        "from sklearn.preprocessing import PolynomialFeatures\n",
        "from sklearn.preprocessing import StandardScaler\n",
        "from sklearn.linear_model import Ridge\n",
        "from sklearn.pipeline import make_pipeline"
      ],
      "metadata": {
        "id": "URl0mtAicIc_"
      },
      "execution_count": null,
      "outputs": []
    },
    {
      "cell_type": "code",
      "source": [
        "# Defining our performance metric\n",
        "def adj_r2(X, y, r2_score):\n",
        "  return 1 - ((1-r2_score)*(len(y)-1))/(len(y)-X.shape[1]-1)"
      ],
      "metadata": {
        "id": "202DaKr7c5u1"
      },
      "execution_count": null,
      "outputs": []
    },
    {
      "cell_type": "code",
      "source": [
        "# Same as last lecture\n",
        "max_degree = 10 # max polynomial degree\n",
        "train_scores = []\n",
        "test_scores = []\n",
        "\n",
        "scaler = StandardScaler()\n",
        "\n",
        "for degree in range(1, max_degree):\n",
        "  polyreg_scaled = make_pipeline(PolynomialFeatures(degree), scaler, Ridge())\n",
        "  polyreg_scaled.fit(X_train, y_train)\n",
        "  train_score = adj_r2(X_train, y_train, polyreg_scaled.score(X_train, y_train))\n",
        "  test_score= adj_r2(X_test, y_test, polyreg_scaled.score(X_test, y_test))\n",
        "  train_scores.append(train_score)\n",
        "  test_scores.append(test_score)\n",
        "\n",
        "plt.figure()\n",
        "plt.plot(list(range(1, 10)), train_scores, label=\"train\")\n",
        "plt.plot(list(range(1, 10)), test_scores, label=\"test\")\n",
        "plt.legend(loc='lower right')\n",
        "plt.xlabel(\"degree\")\n",
        "plt.ylabel(\"adj. R-score\")\n",
        "plt.grid()\n",
        "plt.show()"
      ],
      "metadata": {
        "id": "4XRpqulkct_R",
        "colab": {
          "base_uri": "https://localhost:8080/",
          "height": 449
        },
        "outputId": "50d5ecdd-18a5-4f8b-f4cd-af96e6c70468"
      },
      "execution_count": null,
      "outputs": [
        {
          "output_type": "display_data",
          "data": {
            "text/plain": [
              "<Figure size 640x480 with 1 Axes>"
            ],
            "image/png": "[encoded data removed]"
          },
          "metadata": {}
        }
      ]
    },
    {
      "cell_type": "markdown",
      "source": [
        "\n",
        "Based on this, the optimal degree would be somewhere around 3.\n",
        "\n",
        "Now let's see how to optimize our regularization rate."
      ],
      "metadata": {
        "id": "PpL8zvPskRVt"
      }
    },
    {
      "cell_type": "code",
      "source": [
        "train_scores = []\n",
        "test_scores = []\n",
        "rate_list = [0.01, 0.1, 1,5, 10]\n",
        "scaler = StandardScaler()\n",
        "for rate in rate_list:\n",
        "  polyreg_scaled = make_pipeline(PolynomialFeatures(4), scaler, Ridge(alpha=rate))\n",
        "  polyreg_scaled.fit(X_train, y_train)\n",
        "  train_score = adj_r2(X_train, y_train, polyreg_scaled.score(X_train, y_train))\n",
        "  test_score= adj_r2(X_test, y_test, polyreg_scaled.score(X_test, y_test))\n",
        "  train_scores.append(train_score)\n",
        "  test_scores.append(test_score)"
      ],
      "metadata": {
        "id": "xaDg450Vc8Rx"
      },
      "execution_count": null,
      "outputs": []
    },
    {
      "cell_type": "code",
      "source": [
        "plt.figure()\n",
        "plt.plot(rate_list, train_scores, label=\"train\")\n",
        "plt.plot(rate_list, test_scores, label=\"test\")\n",
        "plt.legend(loc='lower right')\n",
        "plt.xlabel(\"lambda\")\n",
        "plt.ylabel(\"adj. R-score\")\n",
        "plt.grid()\n",
        "plt.show()"
      ],
      "metadata": {
        "colab": {
          "base_uri": "https://localhost:8080/",
          "height": 449
        },
        "id": "5CIAE1Zheq-M",
        "outputId": "2b7f2e1c-c886-4bca-fbbf-cce912792bc5"
      },
      "execution_count": null,
      "outputs": [
        {
          "output_type": "display_data",
          "data": {
            "text/plain": [
              "<Figure size 640x480 with 1 Axes>"
            ],
            "image/png": "[encoded data removed]"
          },
          "metadata": {}
        }
      ]
    },
    {
      "cell_type": "code",
      "source": [
        "test_scores"
      ],
      "metadata": {
        "colab": {
          "base_uri": "https://localhost:8080/"
        },
        "id": "3q7omitkeuEa",
        "outputId": "f3d2b705-d552-47b5-d1c9-78d9deb9a894"
      },
      "execution_count": null,
      "outputs": [
        {
          "output_type": "execute_result",
          "data": {
            "text/plain": [
              "[0.8307018556685556,\n",
              " 0.825101679905983,\n",
              " 0.7843366983629068,\n",
              " 0.7498991068635685,\n",
              " 0.7407546175206421]"
            ]
          },
          "metadata": {},
          "execution_count": 14
        }
      ]
    },
    {
      "cell_type": "markdown",
      "source": [
        "Our optimal lambda value comes out to be around 1 based on the test"
      ],
      "metadata": {
        "id": "4uI6qoBzkpDI"
      }
    },
    {
      "cell_type": "markdown",
      "source": [
        "## Cross-Validation"
      ],
      "metadata": {
        "id": "QILUVvYlntIV"
      }
    },
    {
      "cell_type": "markdown",
      "source": [
        "\n",
        "<img src='https://drive.google.com/uc?id=1N4X7eg7L1Jwu4jNmDYvWvmUuJs_vws7P' width=800>\n",
        "\n"
      ],
      "metadata": {
        "id": "FTDDaHuqZ2PQ"
      }
    },
    {
      "cell_type": "markdown",
      "source": [
        "\n",
        "<img src='https://drive.google.com/uc?id=1InQYYYV80X742hCfOnucQHszulnZoh4i' width=800>\n"
      ],
      "metadata": {
        "id": "45AKkr2tpy9y"
      }
    },
    {
      "cell_type": "markdown",
      "source": [
        "#### So how do we perform cross validation?"
      ],
      "metadata": {
        "id": "Xa5ZJRIjrUZ9"
      }
    },
    {
      "cell_type": "code",
      "source": [
        "# lets generate a dataset of 100 points\n",
        "np.random.seed(2)\n",
        "X = np.random.rand(1000,1)\n",
        "y = 0.7*(X**5) - \\\n",
        "    2.1*(X**4) + \\\n",
        "    2.3*(X**3) + \\\n",
        "    0.2*(X**2) + \\\n",
        "    0.3* X + \\\n",
        "    0.4*np.random.rand(1000,1)\n"
      ],
      "metadata": {
        "id": "_g9CnmZqnm1-"
      },
      "execution_count": null,
      "outputs": []
    },
    {
      "cell_type": "markdown",
      "source": [
        "Now we divide our data into train, test and validation"
      ],
      "metadata": {
        "id": "hu1HqFHnC5Q3"
      }
    },
    {
      "cell_type": "code",
      "source": [
        "#0.6, 0.2, 0.2 split\n",
        "from sklearn.model_selection import train_test_split\n",
        "X_tr_cv, X_test, y_tr_cv, y_test = train_test_split(X, y, test_size=0.2, random_state=1)\n",
        "X_train, X_val, y_train, y_val = train_test_split(X_tr_cv, y_tr_cv, test_size=0.25,random_state=1)"
      ],
      "metadata": {
        "id": "R-nZTEtKC55o"
      },
      "execution_count": null,
      "outputs": []
    },
    {
      "cell_type": "code",
      "source": [
        "X_train.shape, X_val.shape, X_test.shape"
      ],
      "metadata": {
        "colab": {
          "base_uri": "https://localhost:8080/"
        },
        "id": "PvQN5v7wDxug",
        "outputId": "285a4755-d15b-4606-aa96-ee67d9bba7d5"
      },
      "execution_count": null,
      "outputs": [
        {
          "output_type": "execute_result",
          "data": {
            "text/plain": [
              "((600, 1), (200, 1), (200, 1))"
            ]
          },
          "metadata": {},
          "execution_count": 26
        }
      ]
    },
    {
      "cell_type": "markdown",
      "source": [
        "Let's visualize our data"
      ],
      "metadata": {
        "id": "XUNhJarf_Xsn"
      }
    },
    {
      "cell_type": "code",
      "source": [
        "plt.figure(figsize=(18,5))\n",
        "data_labels = [\"Training Data\", \"Validation Data\", \"Test Data\" ]\n",
        "x_labels = [X_train, X_val, X_test]\n",
        "y_labels = [y_train, y_val, y_test]\n",
        "for i in range(3):\n",
        "  plt.subplot(1, 3, i+1)\n",
        "  plt.scatter(x_labels[i], y_labels[i])\n",
        "  plt.xlabel(\"x\")\n",
        "  plt.ylabel(\"y\")\n",
        "  plt.title(data_labels[i])"
      ],
      "metadata": {
        "colab": {
          "base_uri": "https://localhost:8080/",
          "height": 316
        },
        "id": "HIhTH7yz_ZbN",
        "outputId": "3a1be64b-78af-495c-ecb4-7da7d9a4b0ec"
      },
      "execution_count": null,
      "outputs": [
        {
          "output_type": "display_data",
          "data": {
            "text/plain": [
              "<Figure size 1800x500 with 3 Axes>"
            ],
            "image/png": "[encoded data removed]"
          },
          "metadata": {}
        }
      ]
    },
    {
      "cell_type": "markdown",
      "source": [
        "The statistics of our type of data is similar, so we are good to go."
      ],
      "metadata": {
        "id": "qMvxos6z7Ra6"
      }
    },
    {
      "cell_type": "markdown",
      "source": [
        "#### Steps to do cross-validation on our data\n",
        "\n"
      ],
      "metadata": {
        "id": "KMx20eiYqPUt"
      }
    },
    {
      "cell_type": "markdown",
      "source": [
        "Now if you remember, in the last lecture we saw how the performance was increasing with increase in degree of the polynomial model\n",
        "\n",
        "But how do we find the optimal degree in this case?\n",
        "\n",
        "Let's"
      ],
      "metadata": {
        "id": "zTb5G4KMW3bW"
      }
    },
    {
      "cell_type": "markdown",
      "source": [
        "Let's try to find the optimal value of `degree` for our polynomial regression model"
      ],
      "metadata": {
        "id": "Ime0l_99W1EG"
      }
    },
    {
      "cell_type": "markdown",
      "source": [
        "1. First we take degrees from 1 to 25, and train the model on data for each of these degrees to find the best degree"
      ],
      "metadata": {
        "id": "6KGZm8tQDTxo"
      }
    },
    {
      "cell_type": "code",
      "source": [
        "# Same as we did earlier and in the last lecture\n",
        "max_degree = 10 # max polynomial degree\n",
        "train_scores = []\n",
        "val_scores = []\n",
        "scaler = StandardScaler()\n",
        "for degree in range(1, max_degree):\n",
        "  polyreg_scaled = make_pipeline(PolynomialFeatures(degree), scaler, Ridge())\n",
        "  polyreg_scaled.fit(X_train, y_train)\n",
        "  train_score = adj_r2(X_train, y_train, polyreg_scaled.score(X_train, y_train))\n",
        "  val_score= adj_r2(X_val, y_val, polyreg_scaled.score(X_val, y_val))\n",
        "  train_scores.append(train_score)\n",
        "  val_scores.append(val_score)\n",
        "plt.figure()\n",
        "plt.plot(list(range(1, 10)), train_scores, label=\"train\")\n",
        "plt.plot(list(range(1, 10)), val_scores, label=\"val\")\n",
        "plt.legend(loc='lower right')\n",
        "plt.xlabel(\"degree\")\n",
        "plt.ylabel(\"adj. R-score\")\n",
        "plt.grid()\n",
        "plt.show()"
      ],
      "metadata": {
        "id": "KHuRfcbZEgIB",
        "colab": {
          "base_uri": "https://localhost:8080/",
          "height": 449
        },
        "outputId": "e282f37b-db35-4f0e-ca6b-ef7d5f8f1aee"
      },
      "execution_count": null,
      "outputs": [
        {
          "output_type": "display_data",
          "data": {
            "text/plain": [
              "<Figure size 640x480 with 1 Axes>"
            ],
            "image/png": "[encoded data removed]"
          },
          "metadata": {}
        }
      ]
    },
    {
      "cell_type": "markdown",
      "source": [
        "Taking degree=2, we now find the best regularization rate by the same process"
      ],
      "metadata": {
        "id": "g4Tvpu_hmvwd"
      }
    },
    {
      "cell_type": "code",
      "source": [
        "train_scores = []\n",
        "val_scores = []\n",
        "rate_list = [0.01, 0.1, 1,5, 10]\n",
        "for rate in rate_list:\n",
        "  polyreg_scaled = make_pipeline(PolynomialFeatures(2), scaler, Ridge(alpha=rate))\n",
        "  polyreg_scaled.fit(X_train, y_train)\n",
        "  train_score = adj_r2(X_train, y_train, polyreg_scaled.score(X_train, y_train))\n",
        "  val_score= adj_r2(X_val, y_val, polyreg_scaled.score(X_val, y_val))\n",
        "  train_scores.append(train_score)\n",
        "  val_scores.append(val_score)"
      ],
      "metadata": {
        "id": "M3B44v1JnE-G"
      },
      "execution_count": null,
      "outputs": []
    },
    {
      "cell_type": "code",
      "source": [
        "plt.figure()\n",
        "plt.plot(rate_list, train_scores, label=\"train\")\n",
        "plt.plot(rate_list, val_scores, label=\"val\")\n",
        "plt.legend(loc='lower right')\n",
        "plt.xlabel(\"lambda\")\n",
        "plt.ylabel(\"adj. R-score\")\n",
        "plt.grid()\n",
        "plt.show()"
      ],
      "metadata": {
        "colab": {
          "base_uri": "https://localhost:8080/",
          "height": 449
        },
        "outputId": "c81d7eaa-3650-4bd1-d155-a5ca25338ff8",
        "id": "kvN1IWydnE-G"
      },
      "execution_count": null,
      "outputs": [
        {
          "output_type": "display_data",
          "data": {
            "text/plain": [
              "<Figure size 640x480 with 1 Axes>"
            ],
            "image/png": "[encoded data removed]"
          },
          "metadata": {}
        }
      ]
    },
    {
      "cell_type": "markdown",
      "source": [
        "We take the optimal value of lambda as 0.01"
      ],
      "metadata": {
        "id": "ZmZX4huQF4Eg"
      }
    },
    {
      "cell_type": "markdown",
      "source": [
        "2. Now finally, we measure our model's performance on test data, which our model hasn't seen till now"
      ],
      "metadata": {
        "id": "ZIPEVxjhGKqC"
      }
    },
    {
      "cell_type": "code",
      "source": [
        "polyreg_scaled = make_pipeline(PolynomialFeatures(3), scaler, Ridge(alpha=0.01))\n",
        "polyreg_scaled.fit(X_train, y_train)\n",
        "train_score = adj_r2(X_train, y_train, polyreg_scaled.score(X_train, y_train))\n",
        "print(f'Training Score = {train_score}')\n",
        "val_score = adj_r2(X_val, y_val, polyreg_scaled.score(X_val, y_val))\n",
        "print(f'Validation Score = {val_score}')"
      ],
      "metadata": {
        "colab": {
          "base_uri": "https://localhost:8080/"
        },
        "id": "w1svueDEF2_R",
        "outputId": "d73c3d1c-9aa5-4190-de81-7d8c746f9332"
      },
      "execution_count": null,
      "outputs": [
        {
          "output_type": "stream",
          "name": "stdout",
          "text": [
            "Training Score = 0.9261212571628987\n",
            "Validation Score = 0.9191482611247953\n"
          ]
        }
      ]
    },
    {
      "cell_type": "code",
      "source": [
        "# Reporting this as the final score\n",
        "test_score = adj_r2(X_test, y_test, polyreg_scaled.score(X_test, y_test))\n",
        "print(f'Testing Score = {test_score}')"
      ],
      "metadata": {
        "colab": {
          "base_uri": "https://localhost:8080/"
        },
        "id": "VQTLT84YHJdB",
        "outputId": "5c6575e4-4a2d-422d-8443-85efcce723da"
      },
      "execution_count": null,
      "outputs": [
        {
          "output_type": "stream",
          "name": "stdout",
          "text": [
            "Testing Score = 0.9143625261065258\n"
          ]
        }
      ]
    },
    {
      "cell_type": "markdown",
      "source": [
        "Observe, the test results are lower than training and validation.\n",
        "\n",
        "This is because, our model hasn't seen the test data at all, and this can be said as the true result of our model."
      ],
      "metadata": {
        "id": "_xE7qIcso0b3"
      }
    },
    {
      "cell_type": "markdown",
      "source": [
        "#### Try for yourself\n",
        "\n",
        "- Try to use Linear Regression, Lasso and ElasticNet and see how do the results vary?"
      ],
      "metadata": {
        "id": "y9t-1s1zHW0W"
      }
    },
    {
      "cell_type": "markdown",
      "source": [
        "But there is one issue with cross validation when there are less number of data points"
      ],
      "metadata": {
        "id": "gjc99NyLHvcK"
      }
    },
    {
      "cell_type": "markdown",
      "source": [
        "## K-Fold Cross Validation"
      ],
      "metadata": {
        "id": "rMUEy_TMIBmi"
      }
    },
    {
      "cell_type": "markdown",
      "source": [
        "\n",
        "<img src='https://drive.google.com/uc?id=1uFT-vh43EUTRNVzQROYLmP2-z8cBBbsN' width=800>\n"
      ],
      "metadata": {
        "id": "FmHX0RSMuqyh"
      }
    },
    {
      "cell_type": "markdown",
      "source": [
        "#### How do we validate our data in case of lesser number of data points?"
      ],
      "metadata": {
        "id": "d4vkwZLYPRTZ"
      }
    },
    {
      "cell_type": "markdown",
      "source": [
        "We use **K-Fold Cross Validation**"
      ],
      "metadata": {
        "id": "239HPHAUPWkb"
      }
    },
    {
      "cell_type": "markdown",
      "source": [
        "This is useful only for small datasets"
      ],
      "metadata": {
        "id": "krv8YeJ2Pcpi"
      }
    },
    {
      "cell_type": "markdown",
      "source": [
        "#### What is k-fold cross validation?\n"
      ],
      "metadata": {
        "id": "nnyrB0wwPr6u"
      }
    },
    {
      "cell_type": "markdown",
      "source": [
        "\n",
        "<img src='https://drive.google.com/uc?id=16zNVii4SIoGQhPmaH6Xl3WX6FaKRQt8t' width=800>\n"
      ],
      "metadata": {
        "id": "zHtYGZFhvIIV"
      }
    },
    {
      "cell_type": "markdown",
      "source": [
        "#### How to implement K-Fold Cross validation?"
      ],
      "metadata": {
        "id": "Ybj8JrbxSoUA"
      }
    },
    {
      "cell_type": "markdown",
      "source": [
        "\n",
        "<img src='https://drive.google.com/uc?id=1AeSSmEOP5qP6NsYSW3C0nBQno20h2ZMI' width=800>\n"
      ],
      "metadata": {
        "id": "sjq4hGmfOywr"
      }
    },
    {
      "cell_type": "markdown",
      "source": [
        "Let's look at the implementation."
      ],
      "metadata": {
        "id": "5J5SbY8pQvOL"
      }
    },
    {
      "cell_type": "code",
      "source": [
        "# Creating a small dataset of 100 data points\n",
        "np.random.seed(2)\n",
        "X = np.random.rand(100,1)\n",
        "y = 0.7*(X**5) - \\\n",
        "    2.1*(X**4) + \\\n",
        "    2.3*(X**3) + \\\n",
        "    0.2*(X**2) + \\\n",
        "    0.3* X + \\\n",
        "    0.4*np.random.rand(100,1)"
      ],
      "metadata": {
        "id": "kaP9URYzRIfw"
      },
      "execution_count": null,
      "outputs": []
    },
    {
      "cell_type": "code",
      "source": [
        "from sklearn.model_selection import KFold\n",
        "from sklearn.linear_model import LinearRegression\n",
        "\n",
        "kf = KFold(n_splits=10)"
      ],
      "metadata": {
        "id": "pB9xOCM_HQ7_"
      },
      "execution_count": null,
      "outputs": []
    },
    {
      "cell_type": "code",
      "source": [
        "# Performing k-fold cross validation\n",
        "degrees = 15 # number of degrees\n",
        "train_scores = []\n",
        "val_scores = []\n",
        "\n",
        "for degree in range(1, degrees):\n",
        "    fold_train_scores = []\n",
        "    fold_val_scores = []\n",
        "\n",
        "    for train_index, val_index in kf.split(X): #iterating through the K-folds\n",
        "\n",
        "        X_train, X_val = X[train_index], X[val_index]\n",
        "        y_train, y_val = y[train_index], y[val_index]\n",
        "\n",
        "        polyreg_scaled = make_pipeline(PolynomialFeatures(degree), scaler, LinearRegression())\n",
        "        polyreg_scaled.fit(X_train, y_train) #training model\n",
        "\n",
        "        train_score = adj_r2(X_train, y_train, polyreg_scaled.score(X_train, y_train))\n",
        "        val_score= adj_r2(X_val, y_val, polyreg_scaled.score(X_val, y_val))\n",
        "\n",
        "        fold_train_scores.append(train_score)\n",
        "        fold_val_scores.append(val_score)\n",
        "\n",
        "    train_score = np.mean(fold_train_scores)\n",
        "    val_score = np.mean(fold_val_scores)\n",
        "\n",
        "    train_scores.append(train_score)\n",
        "    val_scores.append(val_score)"
      ],
      "metadata": {
        "id": "UO7n1IAIQ3bi"
      },
      "execution_count": null,
      "outputs": []
    },
    {
      "cell_type": "code",
      "source": [
        "plt.figure()\n",
        "plt.plot(list(range(1, 15)), train_scores, label=\"train\")\n",
        "plt.plot(list(range(1, 15)), val_scores, label=\"val\")\n",
        "plt.legend(loc='lower right')\n",
        "plt.xlabel(\"degree\")\n",
        "plt.ylabel(\"Average R2 score\")\n",
        "plt.show()"
      ],
      "metadata": {
        "colab": {
          "base_uri": "https://localhost:8080/",
          "height": 449
        },
        "id": "1Uv-TLbIQ-O9",
        "outputId": "83bd1525-b6ab-496f-821b-9dd4881323d4"
      },
      "execution_count": null,
      "outputs": [
        {
          "output_type": "display_data",
          "data": {
            "text/plain": [
              "<Figure size 640x480 with 1 Axes>"
            ],
            "image/png": "[encoded data removed]"
          },
          "metadata": {}
        }
      ]
    },
    {
      "cell_type": "markdown",
      "source": [
        "Note:\n",
        "\n",
        "- K-Fold Cross Validation can be computationally expensive\n",
        "- Hence it's only used for Small datasets\n",
        "- For large datasets, we have enough datapoints to train the model, hence only cross validation is sufficient"
      ],
      "metadata": {
        "id": "eUtfg017SLx0"
      }
    }
  ],
  "metadata": {
    "colab": {
      "provenance": []
    },
    "kernelspec": {
      "display_name": "Python 3 (ipykernel)",
      "language": "python",
      "name": "python3"
    },
    "language_info": {
      "codemirror_mode": {
        "name": "ipython",
        "version": 3
      },
      "file_extension": ".py",
      "mimetype": "text/x-python",
      "name": "python",
      "nbconvert_exporter": "python",
      "pygments_lexer": "ipython3",
      "version": "3.9.12"
    }
  },
  "nbformat": 4,
  "nbformat_minor": 0
}