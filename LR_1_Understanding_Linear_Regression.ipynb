{
  "cells": [
    {
      "cell_type": "markdown",
      "metadata": {
        "id": "B8q9ipsHa_3V"
      },
      "source": [
        "\n",
        "\n",
        "#  Understanding Linear Regression\n",
        "\n"
      ]
    },
    {
      "cell_type": "markdown",
      "metadata": {
        "id": "_UF_EHLGsi3Z"
      },
      "source": [
        "<img src='https://drive.google.com/uc?id=1TqjNpeGTxnrHhTbGNmbfeTqAN6jwwCL0'>\n"
      ]
    },
    {
      "cell_type": "markdown",
      "metadata": {
        "id": "CVqG-N3PbEny"
      },
      "source": [
        "## Definition and Purpose:\n",
        "\n",
        "- Linear Regression is a fundamental supervised learning algorithm used for predictive modeling.\n",
        "- In essence, it models the relationship between a dependent variable (the output we want to predict) and one or more independent variables (features or inputs).\n",
        "- Purpose: Predict the value of the dependent variable based on the input features, assuming a linear relationship.\n"
      ]
    },
    {
      "cell_type": "markdown",
      "metadata": {
        "id": "mDqokr35cdoE"
      },
      "source": [
        "# Derivation from Scratch\n",
        "\n"
      ]
    },
    {
      "cell_type": "markdown",
      "source": [
        "\n",
        "\n",
        "\n",
        "<img src=\"https://drive.google.com/uc?id=15F_1y47PNk7763X3hT33fLYg7bCVdonA\">\n",
        "<img src=\"https://drive.google.com/uc?id=18BU4fxMkOT_D2CRvBksWsqO6mbayxPWm\">\n",
        "<img src=\"https://drive.google.com/uc?id=1L6Rs92FKG-hmX7amN86teeqZEtyI-qUY\">\n",
        "<img src=\"https://drive.google.com/uc?id=1HlWfrol4RcFNmge92uelF774B-ReVgtA\">"
      ],
      "metadata": {
        "id": "oy83cIznhB_s"
      }
    },
    {
      "cell_type": "markdown",
      "metadata": {
        "id": "wWQDzEOvY9yL"
      },
      "source": [
        "<img src=\"https://drive.google.com/uc?id=1AvvA-Kljm6He_TP32uOKuUYtxQKvaPGD\">\n",
        "\n",
        "<img src=\"https://drive.google.com/uc?id=1kdLNK6AYKZ0tF-vRaVlcL8t0ofyYO6ox\">\n",
        "<img src=\"https://drive.google.com/uc?id=1PFOnt9Y7U7Yw3SxhlvfAxy_k1wVLs3zC\">\n"
      ]
    },
    {
      "cell_type": "markdown",
      "metadata": {
        "id": "VuSamBkg6Xd6"
      },
      "source": [
        "#Coding Linear Regression\n",
        "\n"
      ]
    },
    {
      "cell_type": "markdown",
      "metadata": {
        "id": "GvratSo2Y9yL"
      },
      "source": [
        "<img src=\"https://drive.google.com/uc?id=1gNbgse1bibd7z7Emm8ENvUxl8R_BztgI\">\n",
        "<img src=\"https://drive.google.com/uc?id=1IShT0mEiR-qO5MyWIsn0HS0qrzx7WhiN\">\n",
        "<img src=\"https://drive.google.com/uc?id=18kvK6jxMuWNKHdyKXp23hn43QEH4jC8H\">\n",
        "<img src=\"https://drive.google.com/uc?id=18kJ3mq8VS1IzmxPlk_jvnBS-n7JiTn3A\">\n"
      ]
    },
    {
      "cell_type": "code",
      "execution_count": null,
      "metadata": {
        "id": "upMgbEt-M0QP"
      },
      "outputs": [],
      "source": [
        "import numpy as np\n",
        "import pandas as pd\n",
        "import matplotlib.pyplot as plt\n",
        "from sklearn.model_selection import train_test_split\n",
        "from sklearn.linear_model import LinearRegression\n",
        "from sklearn.metrics import mean_squared_error, r2_score\n"
      ]
    },
    {
      "cell_type": "markdown",
      "metadata": {
        "id": "O0TZcMIqNO7x"
      },
      "source": [
        "###  Step-by-Step Code:\n",
        "Step 1: Loading and Preparing Data:\n",
        "  - Load a dataset and prepare it for training."
      ]
    },
    {
      "cell_type": "code",
      "execution_count": null,
      "metadata": {
        "id": "OHabNjofNhHs"
      },
      "outputs": [],
      "source": [
        "data = pd.read_csv(\"Housing.csv\")# Example: Loading a dataset\n",
        "X = data['area']  # Features\n",
        "y = data['price']  # Target variable\n"
      ]
    },
    {
      "cell_type": "markdown",
      "metadata": {
        "id": "fHJvkVedNlGy"
      },
      "source": [
        "Step 2: Splitting Data:\n",
        "- Split the data into training and testing sets."
      ]
    },
    {
      "cell_type": "code",
      "execution_count": null,
      "metadata": {
        "id": "xZqDz4H1Y9yN",
        "outputId": "1ee2e4e3-8aea-48c2-fa48-fb9532d0ae64",
        "colab": {
          "base_uri": "https://localhost:8080/"
        }
      },
      "outputs": [
        {
          "output_type": "execute_result",
          "data": {
            "text/plain": [
              "0    7420\n",
              "1    8960\n",
              "2    9960\n",
              "3    7500\n",
              "4    7420\n",
              "Name: area, dtype: int64"
            ]
          },
          "metadata": {},
          "execution_count": 5
        }
      ],
      "source": [
        "X.head()"
      ]
    },
    {
      "cell_type": "code",
      "execution_count": null,
      "metadata": {
        "id": "9E4ScqtsNyYI"
      },
      "outputs": [],
      "source": [
        "X_train, X_test, y_train, y_test = train_test_split(X, y, test_size=0.2, random_state=42)\n"
      ]
    },
    {
      "cell_type": "markdown",
      "metadata": {
        "id": "8BwX6bw4N18p"
      },
      "source": [
        "Step 3: Creating and Training the Model:\n",
        "- Create a Linear Regression model and train it on the training data.\n"
      ]
    },
    {
      "cell_type": "code",
      "execution_count": null,
      "metadata": {
        "colab": {
          "base_uri": "https://localhost:8080/"
        },
        "id": "IsnIU5IQFK0Z",
        "outputId": "ab072389-9bbf-4335-9500-81e87fcea1fc"
      },
      "outputs": [
        {
          "output_type": "execute_result",
          "data": {
            "text/plain": [
              "(436,)"
            ]
          },
          "metadata": {},
          "execution_count": 7
        }
      ],
      "source": [
        "np.array(X_train).shape"
      ]
    },
    {
      "cell_type": "code",
      "execution_count": null,
      "metadata": {
        "colab": {
          "base_uri": "https://localhost:8080/",
          "height": 74
        },
        "id": "MO1sHWHcODaK",
        "outputId": "19e8ec20-2af9-46c7-ee06-0bd567eec361"
      },
      "outputs": [
        {
          "output_type": "execute_result",
          "data": {
            "text/plain": [
              "LinearRegression()"
            ],
            "text/html": [
              "<style>#sk-container-id-1 {color: black;background-color: white;}#sk-container-id-1 pre{padding: 0;}#sk-container-id-1 div.sk-toggleable {background-color: white;}#sk-container-id-1 label.sk-toggleable__label {cursor: pointer;display: block;width: 100%;margin-bottom: 0;padding: 0.3em;box-sizing: border-box;text-align: center;}#sk-container-id-1 label.sk-toggleable__label-arrow:before {content: \"▸\";float: left;margin-right: 0.25em;color: #696969;}#sk-container-id-1 label.sk-toggleable__label-arrow:hover:before {color: black;}#sk-container-id-1 div.sk-estimator:hover label.sk-toggleable__label-arrow:before {color: black;}#sk-container-id-1 div.sk-toggleable__content {max-height: 0;max-width: 0;overflow: hidden;text-align: left;background-color: #f0f8ff;}#sk-container-id-1 div.sk-toggleable__content pre {margin: 0.2em;color: black;border-radius: 0.25em;background-color: #f0f8ff;}#sk-container-id-1 input.sk-toggleable__control:checked~div.sk-toggleable__content {max-height: 200px;max-width: 100%;overflow: auto;}#sk-container-id-1 input.sk-toggleable__control:checked~label.sk-toggleable__label-arrow:before {content: \"▾\";}#sk-container-id-1 div.sk-estimator input.sk-toggleable__control:checked~label.sk-toggleable__label {background-color: #d4ebff;}#sk-container-id-1 div.sk-label input.sk-toggleable__control:checked~label.sk-toggleable__label {background-color: #d4ebff;}#sk-container-id-1 input.sk-hidden--visually {border: 0;clip: rect(1px 1px 1px 1px);clip: rect(1px, 1px, 1px, 1px);height: 1px;margin: -1px;overflow: hidden;padding: 0;position: absolute;width: 1px;}#sk-container-id-1 div.sk-estimator {font-family: monospace;background-color: #f0f8ff;border: 1px dotted black;border-radius: 0.25em;box-sizing: border-box;margin-bottom: 0.5em;}#sk-container-id-1 div.sk-estimator:hover {background-color: #d4ebff;}#sk-container-id-1 div.sk-parallel-item::after {content: \"\";width: 100%;border-bottom: 1px solid gray;flex-grow: 1;}#sk-container-id-1 div.sk-label:hover label.sk-toggleable__label {background-color: #d4ebff;}#sk-container-id-1 div.sk-serial::before {content: \"\";position: absolute;border-left: 1px solid gray;box-sizing: border-box;top: 0;bottom: 0;left: 50%;z-index: 0;}#sk-container-id-1 div.sk-serial {display: flex;flex-direction: column;align-items: center;background-color: white;padding-right: 0.2em;padding-left: 0.2em;position: relative;}#sk-container-id-1 div.sk-item {position: relative;z-index: 1;}#sk-container-id-1 div.sk-parallel {display: flex;align-items: stretch;justify-content: center;background-color: white;position: relative;}#sk-container-id-1 div.sk-item::before, #sk-container-id-1 div.sk-parallel-item::before {content: \"\";position: absolute;border-left: 1px solid gray;box-sizing: border-box;top: 0;bottom: 0;left: 50%;z-index: -1;}#sk-container-id-1 div.sk-parallel-item {display: flex;flex-direction: column;z-index: 1;position: relative;background-color: white;}#sk-container-id-1 div.sk-parallel-item:first-child::after {align-self: flex-end;width: 50%;}#sk-container-id-1 div.sk-parallel-item:last-child::after {align-self: flex-start;width: 50%;}#sk-container-id-1 div.sk-parallel-item:only-child::after {width: 0;}#sk-container-id-1 div.sk-dashed-wrapped {border: 1px dashed gray;margin: 0 0.4em 0.5em 0.4em;box-sizing: border-box;padding-bottom: 0.4em;background-color: white;}#sk-container-id-1 div.sk-label label {font-family: monospace;font-weight: bold;display: inline-block;line-height: 1.2em;}#sk-container-id-1 div.sk-label-container {text-align: center;}#sk-container-id-1 div.sk-container {/* jupyter's `normalize.less` sets `[hidden] { display: none; }` but bootstrap.min.css set `[hidden] { display: none !important; }` so we also need the `!important` here to be able to override the default hidden behavior on the sphinx rendered scikit-learn.org. See: https://github.com/scikit-learn/scikit-learn/issues/21755 */display: inline-block !important;position: relative;}#sk-container-id-1 div.sk-text-repr-fallback {display: none;}</style><div id=\"sk-container-id-1\" class=\"sk-top-container\"><div class=\"sk-text-repr-fallback\"><pre>LinearRegression()</pre><b>In a Jupyter environment, please rerun this cell to show the HTML representation or trust the notebook. <br />On GitHub, the HTML representation is unable to render, please try loading this page with nbviewer.org.</b></div><div class=\"sk-container\" hidden><div class=\"sk-item\"><div class=\"sk-estimator sk-toggleable\"><input class=\"sk-toggleable__control sk-hidden--visually\" id=\"sk-estimator-id-1\" type=\"checkbox\" checked><label for=\"sk-estimator-id-1\" class=\"sk-toggleable__label sk-toggleable__label-arrow\">LinearRegression</label><div class=\"sk-toggleable__content\"><pre>LinearRegression()</pre></div></div></div></div></div>"
            ]
          },
          "metadata": {},
          "execution_count": 8
        }
      ],
      "source": [
        "model = LinearRegression()\n",
        "model.fit(np.array(X_train).reshape(-1,1), np.array(y_train))\n"
      ]
    },
    {
      "cell_type": "markdown",
      "metadata": {
        "id": "_uhfjx35OHNM"
      },
      "source": [
        "Step 4: Making Predictions:\n",
        "\n",
        "- Use the trained model to make predictions on the test set."
      ]
    },
    {
      "cell_type": "code",
      "execution_count": null,
      "metadata": {
        "id": "uAxqI4LgOGLK"
      },
      "outputs": [],
      "source": [
        "y_pred = model.predict(np.array(X_test).reshape(-1,1))\n"
      ]
    },
    {
      "cell_type": "markdown",
      "metadata": {
        "id": "-YInLU8cY9yO"
      },
      "source": [
        "<img src=\"https://drive.google.com/uc?id=1DOr2G2vkoG5H6AUHBsplB8O-Mxmvck_2\">\n",
        "<img src=\"https://drive.google.com/uc?id=12X3wFMNPO1F66Wl1AZTTzKhUKkpyM9mv\">\n",
        "\n",
        "\n",
        "\n",
        "<img src=\"https://drive.google.com/uc?id=1Cuuvjvfxw4YUnIXl5fRcxjL1FwT1u26_\">\n",
        "\n",
        "## Building Blocks:\n",
        "\n",
        "Cost Function:\n",
        "\n",
        "- The cost function measures how well the model predicts the target variable.\n",
        "In Linear Regression, the most common cost function is the Mean Squared Error (MSE), which is the average of the squared differences between the actual and predicted values.\n",
        "\n",
        "- Cost Function Formula: $J(m,b)=\\frac{1}{2m}​\\sum_{i=1}^m(y_i​−(mx_i​+b))^2$\n",
        "where $m$ is the number of data points.\n",
        "\n",
        "\n",
        "Objective:\n",
        "\n",
        "- The goal is to minimize the cost function.\n",
        "Achieving the minimum corresponds to finding the optimal values for the slope ($m$) and intercept ($b$).\n",
        "<img src=\"https://drive.google.com/uc?id=11OwQNM0U2CL1N1uhUv7VGXm51nAfES9C\">\n"
      ]
    },
    {
      "cell_type": "markdown",
      "metadata": {
        "id": "WKGlisQROSNf"
      },
      "source": [
        "Step 5: Evaluating the Model:\n",
        "\n",
        "- Calculate and print evaluation metrics.\n"
      ]
    },
    {
      "cell_type": "code",
      "execution_count": null,
      "metadata": {
        "colab": {
          "base_uri": "https://localhost:8080/"
        },
        "id": "wfpgxbFPOR-g",
        "outputId": "9cc15471-3b2a-446e-b95c-8e5c16b5c09d"
      },
      "outputs": [
        {
          "output_type": "stream",
          "name": "stdout",
          "text": [
            "Mean Squared Error: 3675286604768.185\n"
          ]
        }
      ],
      "source": [
        "mse = mean_squared_error(y_test, y_pred)\n",
        "\n",
        "print(f\"Mean Squared Error: {mse}\")\n",
        "\n"
      ]
    },
    {
      "cell_type": "markdown",
      "metadata": {
        "id": "0rNjYRTDOfAn"
      },
      "source": [
        "Step 6: Visualization:\n",
        "\n",
        "- Optionally, visualize the regression line along with the data points."
      ]
    },
    {
      "cell_type": "code",
      "execution_count": null,
      "metadata": {
        "colab": {
          "base_uri": "https://localhost:8080/",
          "height": 472
        },
        "id": "4PoYv6vnOkiK",
        "outputId": "55ae5c1f-bda1-437b-beee-1007d99213af"
      },
      "outputs": [
        {
          "output_type": "display_data",
          "data": {
            "text/plain": [
              "<Figure size 640x480 with 1 Axes>"
            ],
            "image/png": "[encoded data removed]"
          },
          "metadata": {}
        }
      ],
      "source": [
        "plt.scatter(X_test, y_test, color='black')\n",
        "plt.plot(X_test, y_pred, color='blue', linewidth=3)\n",
        "plt.xlabel(\"Independent Variable\")\n",
        "plt.ylabel(\"Dependent Variable\")\n",
        "plt.title(\"Linear Regression\")\n",
        "plt.show()\n"
      ]
    },
    {
      "cell_type": "markdown",
      "metadata": {
        "id": "tPP6D-QuOo7a"
      },
      "source": [
        "This section covers the practical implementation of Linear Regression using the scikit-learn library in Python. The step-by-step code demonstrates loading and preparing data, splitting it into training and testing sets, creating and training a Linear Regression model, making predictions, evaluating the model with metrics, and visualizing the results. This hands-on approach helps in translating the theoretical knowledge into practical skills.\n",
        "\n",
        "\n",
        "\n",
        "\n",
        "\n",
        "\n"
      ]
    },
    {
      "cell_type": "markdown",
      "metadata": {
        "id": "oRS0Vgk8Wa-5"
      },
      "source": [
        "<img src=\"https://drive.google.com/uc?id=1Y2NtHizejuxSp4-vpUyS165FyWoNn8o_\">\n",
        "<img src=\"https://drive.google.com/uc?id=1HGIrBzrzh4OcbdysPFmKsyLi3lZEHu9y\">\n",
        "<img src=\"https://drive.google.com/uc?id=1LEvkPVwZRKSQLAT_8d6hU1PviWsZyoUe\">\n",
        "<img src=\"https://drive.google.com/uc?id=1YuGToVb88eJn2fGwXmcNel0f5lLzkufQ\">\n",
        "\n",
        "\n"
      ]
    },
    {
      "cell_type": "markdown",
      "metadata": {
        "id": "ke8AdeGnPFB9"
      },
      "source": [
        "# Model Evaluation Metrics"
      ]
    },
    {
      "cell_type": "markdown",
      "metadata": {
        "id": "ugLp8tXhPKrW"
      },
      "source": [
        "## Introduction:\n",
        "\n",
        "- Importance of Metrics:\n",
        "  - Model evaluation metrics are essential for assessing the performance of a Linear Regression model.\n",
        "  - They provide insights into how well the model is making predictions.\n"
      ]
    },
    {
      "cell_type": "markdown",
      "metadata": {
        "id": "Ywku0njgCMCL"
      },
      "source": [
        "### Common Metrics:\n",
        "\n",
        "Mean Squared Error (MSE):\n",
        "\n",
        "- Definition: The average of the squared differences between actual and predicted values.\n",
        "- Formula: $\\frac{1}{n}​\\sum_{i=1}^n(y_i​−ŷ_i​)^2.$\n",
        "-Interpretation: A lower MSE indicates better model performance.\n",
        "\n"
      ]
    },
    {
      "cell_type": "markdown",
      "metadata": {
        "id": "mLjnKB3LDSYB"
      },
      "source": [
        "### Implementation in Code:\n",
        "\n",
        "Calculating Metrics:\n",
        "\n",
        "- Incorporate the calculation of metrics into the code."
      ]
    },
    {
      "cell_type": "code",
      "execution_count": null,
      "metadata": {
        "colab": {
          "base_uri": "https://localhost:8080/"
        },
        "id": "21aW6Xg-PGz8",
        "outputId": "54189022-7013-4c87-9658-07eb1a99c155"
      },
      "outputs": [
        {
          "output_type": "stream",
          "name": "stdout",
          "text": [
            "Mean Squared Error: 3675286604768.185\n"
          ]
        }
      ],
      "source": [
        "mse = mean_squared_error(y_test, y_pred)\n",
        "print(f\"Mean Squared Error: {mse}\")\n"
      ]
    },
    {
      "cell_type": "markdown",
      "source": [
        "<img src=\"https://drive.google.com/uc?id=1WuqPk-xLnvtfF5b90iyo-c17-p8bnwUt\">\n",
        "<img src=\"https://drive.google.com/uc?id=1h6o211jYnvidmZDL6JsQA0wCTyl-6VTC\">\n",
        "\n",
        "<img src=\"https://drive.google.com/uc?id=1T1Ms8PwEpDvZ9cMtkrObbCZzy3GwJpRi\">\n",
        "\n",
        "<img src = \"https://drive.google.com/uc?id=11U4K6-E6C524a71aYTWN9WsDpY5m3ufO\">\n",
        "<img src = \"https://drive.google.com/uc?id=1ijzlvY1DJGdXzGSoHkZrmoGr91MiyP1H\">\n",
        "<img src = \"https://drive.google.com/uc?id=1MFCt-58MvFjZV-PWAMlZ4g-83nKgDNi7\">\n"
      ],
      "metadata": {
        "id": "INtN3aOpUHEs"
      }
    },
    {
      "cell_type": "markdown",
      "metadata": {
        "id": "uMop-NubDazT"
      },
      "source": [
        "Interpretation:\n",
        "\n",
        "- MSE: The closer to zero, the better.\n"
      ]
    },
    {
      "cell_type": "code",
      "source": [],
      "metadata": {
        "id": "g2aUahmZhoqu"
      },
      "execution_count": null,
      "outputs": []
    }
  ],
  "metadata": {
    "colab": {
      "provenance": []
    },
    "kernelspec": {
      "display_name": "Python 3 (ipykernel)",
      "language": "python",
      "name": "python3"
    },
    "language_info": {
      "codemirror_mode": {
        "name": "ipython",
        "version": 3
      },
      "file_extension": ".py",
      "mimetype": "text/x-python",
      "name": "python",
      "nbconvert_exporter": "python",
      "pygments_lexer": "ipython3",
      "version": "3.10.5"
    }
  },
  "nbformat": 4,
  "nbformat_minor": 0
}