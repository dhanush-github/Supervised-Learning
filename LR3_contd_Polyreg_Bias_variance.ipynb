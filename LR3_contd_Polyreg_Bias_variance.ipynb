{
  "nbformat": 4,
  "nbformat_minor": 0,
  "metadata": {
    "colab": {
      "provenance": []
    },
    "kernelspec": {
      "name": "python3",
      "display_name": "Python 3"
    },
    "language_info": {
      "name": "python"
    },
    "accelerator": "TPU"
  },
  "cells": [
    {
      "cell_type": "markdown",
      "source": [
        "# Batch Gradient"
      ],
      "metadata": {
        "id": "HlopKTNDUklP"
      }
    },
    {
      "cell_type": "markdown",
      "source": [
        "Recall when computing the gradient descent, the weights are updated as:\n",
        "<img src=\"https://drive.google.com/uc?id=1G9ofcSVT6atvqLvEznEa2TIKHpDeCcbD\" >\n"
      ],
      "metadata": {
        "id": "36Wbj03wUnUg"
      }
    },
    {
      "cell_type": "markdown",
      "source": [
        "problems with Gradient Descent???"
      ],
      "metadata": {
        "id": "DhrxF-7ZYM21"
      }
    },
    {
      "cell_type": "markdown",
      "source": [
        "<img src=\"https://drive.google.com/uc?id=1u2-vOQ1f2hqXOYDryBM_1FbUAMYpdf_r\">"
      ],
      "metadata": {
        "id": "PXq488hXYRIT"
      }
    },
    {
      "cell_type": "markdown",
      "source": [
        "<img src =\"https://drive.google.com/uc?id=1bQ0TYtwVGLLmi5WfNHWK0c4YbS4VhKvX\">"
      ],
      "metadata": {
        "id": "ripiMB6NYgYP"
      }
    },
    {
      "cell_type": "markdown",
      "source": [
        "## Mini Batch"
      ],
      "metadata": {
        "id": "36s2gztIYxMM"
      }
    },
    {
      "cell_type": "markdown",
      "source": [
        "Is there a way to reduce the time taken by Batch Gradient ?"
      ],
      "metadata": {
        "id": "usZrTJeDY1RH"
      }
    },
    {
      "cell_type": "markdown",
      "source": [
        "<img src=\"https://drive.google.com/uc?id=1vcSgaTUPL-xGxmWB3IXwaA51XfwBtLpL\">"
      ],
      "metadata": {
        "id": "1hSwH5j3Y6Gy"
      }
    },
    {
      "cell_type": "markdown",
      "source": [
        "Possible values of K??\n",
        "<img src=\"https://drive.google.com/uc?id=1WCrYMPmABcoeoWK4gB9d_nCUtPZb9rIu\">"
      ],
      "metadata": {
        "id": "cerOH9JmZidC"
      }
    },
    {
      "cell_type": "markdown",
      "source": [
        "\n",
        "\n",
        "<center><img src='https://drive.google.com/uc?id=1QJCMtx-mZpE070ZejPzmzLejWzCPNvTB' ></center>\n",
        "\n",
        "\n"
      ],
      "metadata": {
        "id": "I4nJ42x2CTjK"
      }
    },
    {
      "cell_type": "markdown",
      "source": [
        "Lets understand the fluctuations in weight values with a contour plot of loss:"
      ],
      "metadata": {
        "id": "mqKylLI0td68"
      }
    },
    {
      "cell_type": "markdown",
      "source": [
        "\n",
        "\n",
        "<center><img src='https://drive.google.com/uc?id=1Lr2UYCgllDmMxd_GcxlfWGDlYskC8--N' ></center>\n",
        "\n",
        "\n",
        "\n"
      ],
      "metadata": {
        "id": "6qFBMyqNtMiz"
      }
    },
    {
      "cell_type": "markdown",
      "source": [
        "\n",
        "\n",
        "<center><img src='https://drive.google.com/uc?id=1AtHFA2gA78Sr8Sfn2EiS4kKszS8fpBc_' ></center>\n",
        "\n"
      ],
      "metadata": {
        "id": "giL6BbfFtBQd"
      }
    },
    {
      "cell_type": "markdown",
      "metadata": {
        "id": "P0uau7LkJrVn"
      },
      "source": [
        "\n",
        "\n",
        "**Observe**\n",
        "\n",
        "1. For **Batch Gradient descent**,\n",
        "- Since the entire data is taken for gradients,\n",
        "    - the weight reaches optimal value with **least number of fluctuations per iteration**\n",
        "\n",
        "- But due to taking **whole data per iteration**, the time to compute one GD step/iteration  is very high\n",
        "\n",
        "<br>\n",
        "\n",
        "2. For **Stochastic GD**,\n",
        "- Since only a single datapoint is used for  gradients, and these datapoints can be noises in the data\n",
        "- Hence, there  will be **the maximum number of fluctuations in the weight value**\n",
        "\n",
        "\n",
        "\n",
        "<br>\n",
        "\n",
        "3. Now when **Mini-Batch GD** is used:\n",
        "-  Since it vectorizes the data into chunks, **Mini-Batch GD reaches optimal weight value the fastest**\n",
        "- With a cose of **few fluctuations in the weight value**\n",
        "\n",
        "\n",
        "\n",
        "\n",
        "\n",
        "\n",
        "\n"
      ]
    },
    {
      "cell_type": "markdown",
      "metadata": {
        "id": "mqXNWy0NNTmo"
      },
      "source": [
        "#**Polynomial Regression**"
      ]
    },
    {
      "cell_type": "markdown",
      "source": [
        "<img src=\"https://drive.google.com/uc?id=1-EE0T9mp59aHF1nluzKdFrD0FBB4MknH\">"
      ],
      "metadata": {
        "id": "VUJv5QxZ0my4"
      }
    },
    {
      "cell_type": "markdown",
      "metadata": {
        "id": "cyZQVlcMUkBp"
      },
      "source": [
        "Lets consider another dummy data\n",
        "\n",
        "- Here, we have 50 datapoints\n",
        "- But now the data is non-linear in nature"
      ]
    },
    {
      "cell_type": "code",
      "execution_count": null,
      "metadata": {
        "id": "_RMxjn_zUkBq"
      },
      "outputs": [],
      "source": [
        "import numpy as np\n",
        "import matplotlib.pyplot as plt\n",
        "\n",
        "\n",
        "np.random.seed(1)\n",
        "X = np.random.rand(50,1)\n",
        "y = 0.7*(X**5) - \\\n",
        "    2.1*(X**4) + \\\n",
        "    2.7*(X**3) + \\\n",
        "    3.5*(X**2) + \\\n",
        "    0.3* X + \\\n",
        "    0.4*np.random.rand(50,1) # no data in world is perfect"
      ]
    },
    {
      "cell_type": "code",
      "execution_count": null,
      "metadata": {
        "colab": {
          "base_uri": "https://localhost:8080/",
          "height": 329
        },
        "id": "6FTrCpyIUkBq",
        "outputId": "8163d0fc-88b4-4544-8ab3-b431c471ce11"
      },
      "outputs": [
        {
          "output_type": "stream",
          "name": "stdout",
          "text": [
            "0.9345996128366808\n"
          ]
        },
        {
          "output_type": "display_data",
          "data": {
            "text/plain": [
              "<Figure size 500x300 with 1 Axes>"
            ],
            "image/png": "[encoded data removed]"
          },
          "metadata": {}
        }
      ],
      "source": [
        "\n",
        "from sklearn.linear_model import LinearRegression\n",
        "\n",
        "\n",
        "\n",
        "model = LinearRegression()\n",
        "model.fit(X, y)\n",
        "\n",
        "output = model.predict(X)\n",
        "\n",
        "print(model.score(X,y))\n",
        "\n",
        "fig = plt.figure(figsize=(5,3))\n",
        "plt.scatter(X, y, label=\"samples\")\n",
        "plt.plot(X, output, label=\"prediction\",color='orange')\n",
        "plt.xlabel(\"X\")\n",
        "plt.ylabel(\"Y\")\n",
        "plt.show()\n",
        "\n"
      ]
    },
    {
      "cell_type": "markdown",
      "source": [
        "**observe**\n",
        "\n",
        "As Linear Regression did not fit the data well\n",
        "\n",
        "- Concluding that **Linear Regression is not the most suitable model to be used**"
      ],
      "metadata": {
        "id": "tO7un0gwqxic"
      }
    },
    {
      "cell_type": "markdown",
      "source": [
        "## **Explaining Polynomial Regression theoretically**"
      ],
      "metadata": {
        "id": "hhZEkjdvTVYc"
      }
    },
    {
      "cell_type": "markdown",
      "metadata": {
        "id": "t8yFpsG6Sosq"
      },
      "source": [
        "#### How to make Linear Regression,  Quadratic ?\n",
        "\n",
        "By adding a new feature $f_2 = f_1^2$, such that:\n",
        "\n",
        "- $\\hat{y^{(i)}} = w_0 + w_1 f_1 + w_2 {f_1}^2$\n",
        "\n",
        "**Note:** Due to addition of a higher degree($>1$) for a feature,\n",
        "- we call this model as **Polynomial Regression**\n",
        "\n",
        "\n",
        "<br>\n",
        "\n",
        "#### Do we need a separate implementation for Polynomial Regression?\n",
        "\n",
        "Ans: No, we just need to add a new data column $f_2 = f_1^2$"
      ]
    },
    {
      "cell_type": "markdown",
      "source": [
        "\n",
        "\n",
        "<center><img src='https://drive.google.com/uc?id=1yZNNXymQXSG9v8L5n6V6xMrOURzV14bx' width=800></center>\n",
        "\n",
        "\n"
      ],
      "metadata": {
        "id": "n6-skCAOwVAI"
      }
    },
    {
      "cell_type": "markdown",
      "source": [
        "**observe**\n",
        "\n",
        "For the Polynomial Regression equation $\\hat{y^{(i)}} = w_0 + w_1f_1 + w_2 f_1^2$\n",
        "- it is still a linear combination of weights since the degree of weights are 1\n",
        "\n",
        "<br>\n",
        "\n",
        "**Concluding** that if we were to **plot the learnt hyperplane** of Polynomial Regression for $f_1$ and $f_2=f_1^2$\n",
        "- The hyperplane **will be linear**"
      ],
      "metadata": {
        "id": "FpyJmtic1cgg"
      }
    },
    {
      "cell_type": "markdown",
      "metadata": {
        "id": "tH0tteeagJar"
      },
      "source": [
        "#### Does using $f_2 = {f_1}^2$ causes MultiCollinearity ?\n",
        "\n",
        "\n"
      ]
    },
    {
      "cell_type": "markdown",
      "source": [
        "\n",
        "\n",
        "<center><img src='https://drive.google.com/uc?id=13gfP9hqTnGybTIx_sQc4CAdAm8NpvN3o' width=800></center>\n",
        "\n",
        "\n",
        "\n",
        "\n"
      ],
      "metadata": {
        "id": "YfHShdsux_oL"
      }
    },
    {
      "cell_type": "markdown",
      "metadata": {
        "id": "rG3TLq-obaaq"
      },
      "source": [
        "# **Polynomial Regression Code**\n"
      ]
    },
    {
      "cell_type": "markdown",
      "metadata": {
        "id": "plvPZ_-6k7rQ"
      },
      "source": [
        "\n",
        " Creating polynomial reg with $X^2$ feature added\n"
      ]
    },
    {
      "cell_type": "code",
      "execution_count": null,
      "metadata": {
        "id": "9IQITqz8PsMq"
      },
      "outputs": [],
      "source": [
        "def adj_r(r_sq,X,Y):\n",
        "  adj_r1 = (1 - ((1-r_sq)*(len(Y)-1))/(len(Y)-X.shape[1]-1) )\n",
        "  return adj_r1"
      ]
    },
    {
      "cell_type": "code",
      "execution_count": null,
      "metadata": {
        "id": "N5u1oQD_99fy"
      },
      "outputs": [],
      "source": [
        "def r2_score(y,y_):\n",
        "    num = np.sum((y-y_)**2)\n",
        "    denom = np.sum((y- y.mean())**2)\n",
        "    score = (1- num/denom)\n",
        "    return score"
      ]
    },
    {
      "cell_type": "code",
      "execution_count": null,
      "metadata": {
        "colab": {
          "base_uri": "https://localhost:8080/",
          "height": 329
        },
        "id": "rRIAFXqolBzk",
        "outputId": "4cb3070f-d282-47fa-9bff-cdddf1ff9c7a"
      },
      "outputs": [
        {
          "output_type": "stream",
          "name": "stdout",
          "text": [
            "Adj. R-square: 0.9947910474710182\n"
          ]
        },
        {
          "output_type": "display_data",
          "data": {
            "text/plain": [
              "<Figure size 500x300 with 1 Axes>"
            ],
            "image/png": "[encoded data removed]"
          },
          "metadata": {}
        }
      ],
      "source": [
        "#adding new feature X^2\n",
        "X_deg2 = np.hstack([X, X**2])\n",
        "model_deg2 = LinearRegression()\n",
        "model_deg2.fit(X_deg2, y)\n",
        "output = model_deg2.predict(X_deg2)\n",
        "\n",
        "\n",
        "print('Adj. R-square:', adj_r(r2_score(y,output),X,y ) )\n",
        "fig = plt.figure(figsize=(5,3))\n",
        "plt.scatter(X, y, label=\"samples\")\n",
        "plt.scatter(X, output, label=\"prediction\",color='orange')\n",
        "plt.xlabel(\"X\")\n",
        "plt.ylabel(\"Y\")\n",
        "plt.show()\n"
      ]
    },
    {
      "cell_type": "markdown",
      "metadata": {
        "id": "JrxhO15glG1r"
      },
      "source": [
        "**observe**\n",
        "- The performance of the model increased drastically\n",
        "- Meaning that a non-linear feature did the trick\n",
        "\n",
        "\n",
        "\n"
      ]
    },
    {
      "cell_type": "markdown",
      "metadata": {
        "id": "g1ZKOz1zmrgM"
      },
      "source": [
        "#### But are we sure that degree=2 will be best? What about higher degrees?"
      ]
    },
    {
      "cell_type": "code",
      "execution_count": null,
      "metadata": {
        "colab": {
          "base_uri": "https://localhost:8080/",
          "height": 625
        },
        "id": "mZkd0EV3mu5t",
        "outputId": "04523311-de36-4a3a-8737-d63a1441f243"
      },
      "outputs": [
        {
          "output_type": "display_data",
          "data": {
            "text/plain": [
              "<Figure size 1200x800 with 6 Axes>"
            ],
            "image/png": "[encoded data removed]"
          },
          "metadata": {}
        }
      ],
      "source": [
        "from sklearn.preprocessing import PolynomialFeatures\n",
        "from sklearn.preprocessing import StandardScaler\n",
        "\n",
        "scores = []\n",
        "# Using Degrees 1 to 6, and seeing performance of the model\n",
        "\n",
        "# Create a 2x3 grid of subplots\n",
        "fig, axes = plt.subplots(2, 3, figsize=(12, 8))\n",
        "j = 0\n",
        "for i in range(1, 7):\n",
        "\n",
        "    #creates polynomial feature\n",
        "    poly = PolynomialFeatures(i)\n",
        "\n",
        "    X_poly = poly.fit_transform(X)\n",
        "    #Standardization\n",
        "    scaler = StandardScaler()\n",
        "    scaler.fit(X_poly)\n",
        "    X_poly_scaled = scaler.transform(X_poly)\n",
        "\n",
        "    #training model\n",
        "    model = LinearRegression()\n",
        "    model.fit(X_poly_scaled, y)\n",
        "\n",
        "    #Prediction\n",
        "    output = model.predict(X_poly_scaled)\n",
        "\n",
        "    #Plotting\n",
        "\n",
        "    axes[j,(i-1)%3].scatter(X, y, label=\"samples\")\n",
        "    axes[j,(i-1)%3].scatter(X, output, label=\"prediction\")\n",
        "    axes[j,(i-1)%3].set_title(f'Degree{i} model Adj. R^2: {round(adj_r(r2_score(y,output),X_poly_scaled,y ),2)}')\n",
        "\n",
        "    if(i==3):\n",
        "      j=1"
      ]
    },
    {
      "cell_type": "markdown",
      "metadata": {
        "id": "-RZ5uMVLgcQ3"
      },
      "source": [
        "**Observe**:\n",
        "- As the degree of the feature being added increases, the model performance gets better\n",
        "\n",
        "<br>\n",
        "\n",
        "\n",
        "\n",
        "\n",
        "\n"
      ]
    },
    {
      "cell_type": "markdown",
      "source": [
        "# Over fitting"
      ],
      "metadata": {
        "id": "j0bW0lWbdNnU"
      }
    },
    {
      "cell_type": "markdown",
      "source": [
        "<img src= \"https://drive.google.com/uc?id=1ftOPKiOfm6xKpUYCmwJTPxNx2i37EEE4\">"
      ],
      "metadata": {
        "id": "ackXsJ1sdUFr"
      }
    },
    {
      "cell_type": "markdown",
      "source": [
        "This  mean\n",
        "\n",
        "- Polynomial Regression with high degree do not perform well\n",
        "\n",
        "Reason:\n",
        "- high degree models become very complex\n",
        "- they may learn noise instead of meaningful patterns\n",
        "\n",
        "This is called as Overfitting --> usually when training performance is really good but testing performance is bad."
      ],
      "metadata": {
        "id": "JgILoZh_dm3C"
      }
    },
    {
      "cell_type": "markdown",
      "source": [
        "## Underfitting"
      ],
      "metadata": {
        "id": "HV-KSbRKeMuj"
      }
    },
    {
      "cell_type": "markdown",
      "source": [
        "<img src=\"https://drive.google.com/uc?id=1MG0tXahl9tw6HVuonuurA1Bv3OTvhMS2\">\n"
      ],
      "metadata": {
        "id": "opdy2XeKfN_7"
      }
    },
    {
      "cell_type": "markdown",
      "source": [
        "this is kind of low complexity model which may not be able to learn the patterns of training data\n",
        "\n",
        "\n",
        "Note: This is called as Underfitting --> usually when both training and testing performance is bad"
      ],
      "metadata": {
        "id": "S3_t-0DQfs1M"
      }
    },
    {
      "cell_type": "markdown",
      "source": [
        "<img src=\"https://drive.google.com/uc?id=1AJRt2Lb76FEmRue64RM-iMW_RzQx8--L\">"
      ],
      "metadata": {
        "id": "LbcqOEKtf3CQ"
      }
    },
    {
      "cell_type": "code",
      "source": [
        "# lets first generate a dataset of 100 points this time\n",
        "import numpy as np\n",
        "import matplotlib.pyplot as plt\n",
        "\n",
        "np.random.seed(1)\n",
        "X = np.random.rand(100,1)\n",
        "y = 0.9*(X**5) - \\\n",
        "    1.1*(X**4) + \\\n",
        "    2.2*(X**3) + \\\n",
        "    4.6*(X**2) + \\\n",
        "    2.4* X + \\\n",
        "    0.1*np.random.rand(100,1)\n",
        "\n",
        "fig = plt.figure(figsize=(5,3))\n",
        "plt.scatter(X, y)\n",
        "plt.xlabel(\"X\")\n",
        "plt.ylabel(\"Y\")\n",
        "plt.show()\n",
        "\n",
        "\n",
        "from sklearn.model_selection import train_test_split\n",
        "X_train, X_test, y_train, y_test = train_test_split(X, y, test_size=0.2, random_state=1)"
      ],
      "metadata": {
        "colab": {
          "base_uri": "https://localhost:8080/",
          "height": 311
        },
        "id": "zfLN8Ws8lhTK",
        "outputId": "ab014fca-d131-47a1-f81f-de4f42917573"
      },
      "execution_count": null,
      "outputs": [
        {
          "output_type": "display_data",
          "data": {
            "text/plain": [
              "<Figure size 500x300 with 1 Axes>"
            ],
            "image/png": "[encoded data removed]"
          },
          "metadata": {}
        }
      ]
    },
    {
      "cell_type": "markdown",
      "source": [
        "# Bias-Variance Tradeoff"
      ],
      "metadata": {
        "id": "hqbxvwozhZML"
      }
    },
    {
      "cell_type": "markdown",
      "source": [
        "## Analogy of archery"
      ],
      "metadata": {
        "id": "F_h6yBqahc68"
      }
    },
    {
      "cell_type": "markdown",
      "source": [
        "<img src = \"https://drive.google.com/uc?id=1tBphCwDoA5WnZVqShCRMDKudiW9eumBY\">\n",
        "\n",
        "<img src = \"https://drive.google.com/uc?id=1dRX9WPCZV6uzuiKrV9UVAy_5vloDa4Yp\">\n",
        "<img src=\"https://drive.google.com/uc?id=1v_1OFxL3C-Gz6_6xhORecRuqvtLullpk\">\n",
        "<img src = \"https://drive.google.com/uc?id=1LiS6lLozRGd3AcZ2xuqPlRYhTxjlEf1f\">\n"
      ],
      "metadata": {
        "id": "euJu-on0hnnr"
      }
    },
    {
      "cell_type": "markdown",
      "source": [
        "So,  which model should we have ?"
      ],
      "metadata": {
        "id": "T1yr-4vxjEvm"
      }
    },
    {
      "cell_type": "markdown",
      "source": [
        "the model that is hitting mostly on target (bullseye)\n",
        "\n",
        "- the model has low bias\n",
        "\n",
        "And since model is having a steady aim (consistent in its predictions for aiming)\n",
        "\n",
        "- the model has low variance\n",
        "\n",
        "<img src=\"https://drive.google.com/uc?id=1LXj3wnMMuAvN-9RmHDY9zhhp1uNSqcTv\">"
      ],
      "metadata": {
        "id": "gB4O2haVjPq-"
      }
    },
    {
      "cell_type": "markdown",
      "source": [
        "# Realtion between Bias-Variance and Overfit-Underfit"
      ],
      "metadata": {
        "id": "YV1BuQsYkESE"
      }
    },
    {
      "cell_type": "markdown",
      "source": [
        "<img src=\" https://drive.google.com/uc?id=1VqnSbrWhjRSiNTA8hpNql0XMudg5z3id\">\n",
        "\n",
        "Do you expect bias and variance to be high or low for an under-fitted model?\n",
        "\n",
        "\n",
        "Answer:\n",
        "- Bias would be high because the model can't grasp the patterns, and predictions would be mostly inaccurate.\n",
        "- Variance would be low because the model is simplistic, so predictions wouldn't fluctuate much with small changes in feature values.\n",
        "\n",
        "What about bias and variance in an over-fitted model?\n",
        "\n",
        "Answer:\n",
        "- The bias will generally be low, which means the model can fit the training data well. However, predictions may still be bad for new, unseen data.\n",
        "- The variance will be high because the model is overly complex, making predictions sensitive to even small changes in the input data."
      ],
      "metadata": {
        "id": "V0JhKrdwkTmW"
      }
    },
    {
      "cell_type": "code",
      "source": [],
      "metadata": {
        "id": "6zNHSn6ndbWJ"
      },
      "execution_count": null,
      "outputs": []
    },
    {
      "cell_type": "markdown",
      "source": [
        "# Regularization"
      ],
      "metadata": {
        "id": "jUgr1gGqm76u"
      }
    },
    {
      "cell_type": "markdown",
      "source": [
        "what features are useful to have a good fit model?\n",
        "<img src=\"https://drive.google.com/uc?id=1aShEpIFYmez8UT6pBMi7SnWQrQNAnQ0B\">"
      ],
      "metadata": {
        "id": "HTaNcO-Cm9bL"
      }
    },
    {
      "cell_type": "markdown",
      "source": [
        "to make  w1,w2≠0  and  w3,w4=0 ...we perform:\n",
        "<img src=\"https://drive.google.com/uc?id=1vUQMxoyimhtu3og0q0mILCjSGJYFvpMV \">"
      ],
      "metadata": {
        "id": "xBpdg-Pkna1l"
      }
    },
    {
      "cell_type": "markdown",
      "source": [
        "### the new Loss function"
      ],
      "metadata": {
        "id": "PMLL-hpunziy"
      }
    },
    {
      "cell_type": "markdown",
      "source": [
        "<img src=\"https://drive.google.com/uc?id=1cicegpw44hMTi3_LSM97cxa_hYw34yAU\">"
      ],
      "metadata": {
        "id": "txLk4WSUn1U0"
      }
    },
    {
      "cell_type": "markdown",
      "source": [
        "#### How does $\\lambda$ gives that sweet spot between MSE and Regularization term ?\n",
        "\n",
        "Ans: a right value of $\\lambda$  :\n",
        "\n",
        "1. There is  freedom to MSE so that:\n",
        "  - The **weights are  optimized** to reach the **lowest possible MSE value**\n",
        "  - Which **does not lead to overfitting**\n",
        "\n",
        "2. It also provide  freedom to Regularization term so that:\n",
        " - The regularization term can make the weights of the model close to 0\n",
        " - Which **does not lead to underfitting**\n",
        "\n",
        "<br>\n",
        "\n",
        "**Note:** The term Wj^2 is called as L2/Ridge Regularization\n"
      ],
      "metadata": {
        "id": "r_8oVj5DoO1Q"
      }
    },
    {
      "cell_type": "markdown",
      "source": [
        "<img src=\"https://drive.google.com/uc?id=1hZfh-H1dCMdxxOrUbc83eNcE0sRSWfMs\">\n",
        "\n",
        "\n"
      ],
      "metadata": {
        "id": "HiMFvp2RowFj"
      }
    },
    {
      "cell_type": "markdown",
      "source": [
        "## L-1 Regularization"
      ],
      "metadata": {
        "id": "MU0NX6VApAae"
      }
    },
    {
      "cell_type": "markdown",
      "source": [
        "<img src=\"https://drive.google.com/uc?id=1QkAmJ30On7RrOPQvH4X299uOFeC_5l8D\">\n",
        "\n",
        "\n",
        "L1 Regularization (Lasso Regularization):\n",
        "\n",
        "\n",
        "- Encourages sparsity in the model, leading some coefficients to become exactly zero.\n",
        "- Effectively eliminates less important features from the model.\n",
        "\n",
        "\n",
        "\n",
        "## L-2 Regularization\n",
        "<img src=\"https://drive.google.com/uc?id=1JxBlsF7lOVu9Z0HbzWn9PauP1R4z-k4J\">\n",
        "\n",
        "\n",
        "\n",
        "L2 Regularization (Ridge Regularization):\n",
        "\n",
        "\n",
        "- Doesn't encourage sparsity but instead reduces the magnitude of all coefficients.\n",
        "- Useful when you want to keep all features but control their impact on the model.\n",
        "- Can handle multicollinearity by shrinking correlated coefficients towards each other.\n",
        "<img src=\"https://drive.google.com/uc?id=1VMQG-0d6cFGdISzugjBlof_VdGKdnwpT\">"
      ],
      "metadata": {
        "id": "sZ6GM0dEplEC"
      }
    },
    {
      "cell_type": "markdown",
      "source": [
        "## Regularization Code"
      ],
      "metadata": {
        "id": "3zfxpQXZtzib"
      }
    },
    {
      "cell_type": "code",
      "source": [
        "from sklearn import datasets\n",
        "from sklearn.model_selection import train_test_split\n",
        "from sklearn.preprocessing import StandardScaler\n",
        "\n",
        "data = datasets.load_diabetes() #dataset\n",
        "\n",
        "X = data['data']\n",
        "y = data['target']\n",
        "\n",
        "X_train, X_test, y_train, y_test = train_test_split(X, y, test_size=0.2, random_state=42)\n",
        "degree = 10\n",
        "\n"
      ],
      "metadata": {
        "id": "e2CwxAP9m9Ay"
      },
      "execution_count": null,
      "outputs": []
    },
    {
      "cell_type": "code",
      "source": [
        "data"
      ],
      "metadata": {
        "colab": {
          "base_uri": "https://localhost:8080/"
        },
        "id": "ic3eRQlYJZ5a",
        "outputId": "3d651d3f-92a0-4378-b336-90f0fb445e71"
      },
      "execution_count": null,
      "outputs": [
        {
          "output_type": "execute_result",
          "data": {
            "text/plain": [
              "{'data': array([[ 0.03807591,  0.05068012,  0.06169621, ..., -0.00259226,\n",
              "          0.01990749, -0.01764613],\n",
              "        [-0.00188202, -0.04464164, -0.05147406, ..., -0.03949338,\n",
              "         -0.06833155, -0.09220405],\n",
              "        [ 0.08529891,  0.05068012,  0.04445121, ..., -0.00259226,\n",
              "          0.00286131, -0.02593034],\n",
              "        ...,\n",
              "        [ 0.04170844,  0.05068012, -0.01590626, ..., -0.01107952,\n",
              "         -0.04688253,  0.01549073],\n",
              "        [-0.04547248, -0.04464164,  0.03906215, ...,  0.02655962,\n",
              "          0.04452873, -0.02593034],\n",
              "        [-0.04547248, -0.04464164, -0.0730303 , ..., -0.03949338,\n",
              "         -0.00422151,  0.00306441]]),\n",
              " 'target': array([151.,  75., 141., 206., 135.,  97., 138.,  63., 110., 310., 101.,\n",
              "         69., 179., 185., 118., 171., 166., 144.,  97., 168.,  68.,  49.,\n",
              "         68., 245., 184., 202., 137.,  85., 131., 283., 129.,  59., 341.,\n",
              "         87.,  65., 102., 265., 276., 252.,  90., 100.,  55.,  61.,  92.,\n",
              "        259.,  53., 190., 142.,  75., 142., 155., 225.,  59., 104., 182.,\n",
              "        128.,  52.,  37., 170., 170.,  61., 144.,  52., 128.,  71., 163.,\n",
              "        150.,  97., 160., 178.,  48., 270., 202., 111.,  85.,  42., 170.,\n",
              "        200., 252., 113., 143.,  51.,  52., 210.,  65., 141.,  55., 134.,\n",
              "         42., 111.,  98., 164.,  48.,  96.,  90., 162., 150., 279.,  92.,\n",
              "         83., 128., 102., 302., 198.,  95.,  53., 134., 144., 232.,  81.,\n",
              "        104.,  59., 246., 297., 258., 229., 275., 281., 179., 200., 200.,\n",
              "        173., 180.,  84., 121., 161.,  99., 109., 115., 268., 274., 158.,\n",
              "        107.,  83., 103., 272.,  85., 280., 336., 281., 118., 317., 235.,\n",
              "         60., 174., 259., 178., 128.,  96., 126., 288.,  88., 292.,  71.,\n",
              "        197., 186.,  25.,  84.,  96., 195.,  53., 217., 172., 131., 214.,\n",
              "         59.,  70., 220., 268., 152.,  47.,  74., 295., 101., 151., 127.,\n",
              "        237., 225.,  81., 151., 107.,  64., 138., 185., 265., 101., 137.,\n",
              "        143., 141.,  79., 292., 178.,  91., 116.,  86., 122.,  72., 129.,\n",
              "        142.,  90., 158.,  39., 196., 222., 277.,  99., 196., 202., 155.,\n",
              "         77., 191.,  70.,  73.,  49.,  65., 263., 248., 296., 214., 185.,\n",
              "         78.,  93., 252., 150.,  77., 208.,  77., 108., 160.,  53., 220.,\n",
              "        154., 259.,  90., 246., 124.,  67.,  72., 257., 262., 275., 177.,\n",
              "         71.,  47., 187., 125.,  78.,  51., 258., 215., 303., 243.,  91.,\n",
              "        150., 310., 153., 346.,  63.,  89.,  50.,  39., 103., 308., 116.,\n",
              "        145.,  74.,  45., 115., 264.,  87., 202., 127., 182., 241.,  66.,\n",
              "         94., 283.,  64., 102., 200., 265.,  94., 230., 181., 156., 233.,\n",
              "         60., 219.,  80.,  68., 332., 248.,  84., 200.,  55.,  85.,  89.,\n",
              "         31., 129.,  83., 275.,  65., 198., 236., 253., 124.,  44., 172.,\n",
              "        114., 142., 109., 180., 144., 163., 147.,  97., 220., 190., 109.,\n",
              "        191., 122., 230., 242., 248., 249., 192., 131., 237.,  78., 135.,\n",
              "        244., 199., 270., 164.,  72.,  96., 306.,  91., 214.,  95., 216.,\n",
              "        263., 178., 113., 200., 139., 139.,  88., 148.,  88., 243.,  71.,\n",
              "         77., 109., 272.,  60.,  54., 221.,  90., 311., 281., 182., 321.,\n",
              "         58., 262., 206., 233., 242., 123., 167.,  63., 197.,  71., 168.,\n",
              "        140., 217., 121., 235., 245.,  40.,  52., 104., 132.,  88.,  69.,\n",
              "        219.,  72., 201., 110.,  51., 277.,  63., 118.,  69., 273., 258.,\n",
              "         43., 198., 242., 232., 175.,  93., 168., 275., 293., 281.,  72.,\n",
              "        140., 189., 181., 209., 136., 261., 113., 131., 174., 257.,  55.,\n",
              "         84.,  42., 146., 212., 233.,  91., 111., 152., 120.,  67., 310.,\n",
              "         94., 183.,  66., 173.,  72.,  49.,  64.,  48., 178., 104., 132.,\n",
              "        220.,  57.]),\n",
              " 'frame': None,\n",
              " 'DESCR': '.. _diabetes_dataset:\\n\\nDiabetes dataset\\n----------------\\n\\nTen baseline variables, age, sex, body mass index, average blood\\npressure, and six blood serum measurements were obtained for each of n =\\n442 diabetes patients, as well as the response of interest, a\\nquantitative measure of disease progression one year after baseline.\\n\\n**Data Set Characteristics:**\\n\\n  :Number of Instances: 442\\n\\n  :Number of Attributes: First 10 columns are numeric predictive values\\n\\n  :Target: Column 11 is a quantitative measure of disease progression one year after baseline\\n\\n  :Attribute Information:\\n      - age     age in years\\n      - sex\\n      - bmi     body mass index\\n      - bp      average blood pressure\\n      - s1      tc, total serum cholesterol\\n      - s2      ldl, low-density lipoproteins\\n      - s3      hdl, high-density lipoproteins\\n      - s4      tch, total cholesterol / HDL\\n      - s5      ltg, possibly log of serum triglycerides level\\n      - s6      glu, blood sugar level\\n\\nNote: Each of these 10 feature variables have been mean centered and scaled by the standard deviation times the square root of `n_samples` (i.e. the sum of squares of each column totals 1).\\n\\nSource URL:\\nhttps://www4.stat.ncsu.edu/~boos/var.select/diabetes.html\\n\\nFor more information see:\\nBradley Efron, Trevor Hastie, Iain Johnstone and Robert Tibshirani (2004) \"Least Angle Regression,\" Annals of Statistics (with discussion), 407-499.\\n(https://web.stanford.edu/~hastie/Papers/LARS/LeastAngle_2002.pdf)\\n',\n",
              " 'feature_names': ['age',\n",
              "  'sex',\n",
              "  'bmi',\n",
              "  'bp',\n",
              "  's1',\n",
              "  's2',\n",
              "  's3',\n",
              "  's4',\n",
              "  's5',\n",
              "  's6'],\n",
              " 'data_filename': 'diabetes_data_raw.csv.gz',\n",
              " 'target_filename': 'diabetes_target.csv.gz',\n",
              " 'data_module': 'sklearn.datasets.data'}"
            ]
          },
          "metadata": {},
          "execution_count": 41
        }
      ]
    },
    {
      "cell_type": "code",
      "source": [
        "X[0]"
      ],
      "metadata": {
        "colab": {
          "base_uri": "https://localhost:8080/"
        },
        "id": "lLJJY8KOJXFi",
        "outputId": "f9512141-d421-4a8f-b435-f4fd151950df"
      },
      "execution_count": null,
      "outputs": [
        {
          "output_type": "execute_result",
          "data": {
            "text/plain": [
              "array([ 0.03807591,  0.05068012,  0.06169621,  0.02187239, -0.0442235 ,\n",
              "       -0.03482076, -0.04340085, -0.00259226,  0.01990749, -0.01764613])"
            ]
          },
          "metadata": {},
          "execution_count": 42
        }
      ]
    },
    {
      "cell_type": "code",
      "source": [
        "y[0]"
      ],
      "metadata": {
        "colab": {
          "base_uri": "https://localhost:8080/"
        },
        "id": "nm5GXboZJ-U1",
        "outputId": "225a80f5-8506-42d7-dcd1-d5fb65fef2c4"
      },
      "execution_count": null,
      "outputs": [
        {
          "output_type": "execute_result",
          "data": {
            "text/plain": [
              "151.0"
            ]
          },
          "metadata": {},
          "execution_count": 43
        }
      ]
    },
    {
      "cell_type": "code",
      "source": [
        "X_train = X_train[:150]\n",
        "y_train = y_train[:150]"
      ],
      "metadata": {
        "id": "oYjdpFuiIm4v"
      },
      "execution_count": null,
      "outputs": []
    },
    {
      "cell_type": "code",
      "source": [
        "poly = PolynomialFeatures(degree=degree)\n",
        "\n"
      ],
      "metadata": {
        "id": "Xi6ERgBbHn-W"
      },
      "execution_count": null,
      "outputs": []
    },
    {
      "cell_type": "code",
      "source": [
        "X_train_poly = poly.fit_transform(X_train)\n"
      ],
      "metadata": {
        "id": "j35CPjdfHq9d"
      },
      "execution_count": null,
      "outputs": []
    },
    {
      "cell_type": "code",
      "source": [
        "X_train_poly[0].size\n"
      ],
      "metadata": {
        "colab": {
          "base_uri": "https://localhost:8080/"
        },
        "id": "QvTJCvuVJxSE",
        "outputId": "560fee95-9f81-4101-8bc0-3a800bfc3dfc"
      },
      "execution_count": null,
      "outputs": [
        {
          "output_type": "execute_result",
          "data": {
            "text/plain": [
              "184756"
            ]
          },
          "metadata": {},
          "execution_count": 47
        }
      ]
    },
    {
      "cell_type": "code",
      "source": [
        "X_test_poly = poly.transform(X_test)"
      ],
      "metadata": {
        "id": "9f9WT0GGHsbR"
      },
      "execution_count": null,
      "outputs": []
    },
    {
      "cell_type": "code",
      "source": [
        "# Standardize the polynomial features\n",
        "scaler = StandardScaler()\n",
        "X_train_poly_scaled = scaler.fit_transform(X_train_poly)\n",
        "X_test_poly_scaled = scaler.transform(X_test_poly)"
      ],
      "metadata": {
        "id": "8yJn0BtHLKB_"
      },
      "execution_count": null,
      "outputs": []
    },
    {
      "cell_type": "code",
      "source": [
        "from sklearn.linear_model import LinearRegression"
      ],
      "metadata": {
        "id": "b02uTV6SE8nZ"
      },
      "execution_count": null,
      "outputs": []
    },
    {
      "cell_type": "code",
      "source": [
        "model = LinearRegression()\n",
        "model.fit(X_train_poly_scaled , y_train)\n",
        "\n",
        "output = model.predict(X_test_poly_scaled)\n"
      ],
      "metadata": {
        "id": "RKeNKjUSE8id"
      },
      "execution_count": null,
      "outputs": []
    },
    {
      "cell_type": "code",
      "source": [
        "from sklearn.metrics import mean_squared_error\n",
        "\n",
        "print('MSE test:', mean_squared_error(y_test, output))\n",
        "\n",
        "output = model.predict(X_train_poly_scaled)\n",
        "print('MSE train:', mean_squared_error(y_train, output))"
      ],
      "metadata": {
        "colab": {
          "base_uri": "https://localhost:8080/"
        },
        "id": "xrzcsodeOwbA",
        "outputId": "3a501524-b427-43ba-9f21-15909312b7a6"
      },
      "execution_count": null,
      "outputs": [
        {
          "output_type": "stream",
          "name": "stdout",
          "text": [
            "MSE test: 90070.9950112891\n",
            "MSE train: 2.362040223171574e-23\n"
          ]
        }
      ]
    },
    {
      "cell_type": "code",
      "source": [
        "from sklearn.linear_model import Lasso, Ridge"
      ],
      "metadata": {
        "id": "p0dj9dwkJ1CY"
      },
      "execution_count": null,
      "outputs": []
    },
    {
      "cell_type": "code",
      "source": [
        "_model_lasso = Lasso(alpha=0.01)  # Alpha is the regularization strength\n",
        "_model_ridge = Ridge(alpha=1.0)    # Alpha is the regularization strength"
      ],
      "metadata": {
        "id": "BpJodFHcH2Je"
      },
      "execution_count": null,
      "outputs": []
    },
    {
      "cell_type": "code",
      "source": [
        "# Fit the models to the training data\n",
        "_model_lasso.fit(X_train_poly_scaled, y_train)\n",
        "_model_ridge.fit(X_train_poly_scaled, y_train)"
      ],
      "metadata": {
        "colab": {
          "base_uri": "https://localhost:8080/",
          "height": 130
        },
        "id": "8SEVzWIGKatT",
        "outputId": "8028def3-43ec-40b9-fc26-6502cba9cc06"
      },
      "execution_count": null,
      "outputs": [
        {
          "output_type": "stream",
          "name": "stderr",
          "text": [
            "/usr/local/lib/python3.10/dist-packages/sklearn/linear_model/_coordinate_descent.py:631: ConvergenceWarning: Objective did not converge. You might want to increase the number of iterations, check the scale of the features or consider increasing regularisation. Duality gap: 1.508e+03, tolerance: 9.001e+01\n",
            "  model = cd_fast.enet_coordinate_descent(\n"
          ]
        },
        {
          "output_type": "execute_result",
          "data": {
            "text/plain": [
              "Ridge()"
            ],
            "text/html": [
              "<style>#sk-container-id-2 {color: black;background-color: white;}#sk-container-id-2 pre{padding: 0;}#sk-container-id-2 div.sk-toggleable {background-color: white;}#sk-container-id-2 label.sk-toggleable__label {cursor: pointer;display: block;width: 100%;margin-bottom: 0;padding: 0.3em;box-sizing: border-box;text-align: center;}#sk-container-id-2 label.sk-toggleable__label-arrow:before {content: \"▸\";float: left;margin-right: 0.25em;color: #696969;}#sk-container-id-2 label.sk-toggleable__label-arrow:hover:before {color: black;}#sk-container-id-2 div.sk-estimator:hover label.sk-toggleable__label-arrow:before {color: black;}#sk-container-id-2 div.sk-toggleable__content {max-height: 0;max-width: 0;overflow: hidden;text-align: left;background-color: #f0f8ff;}#sk-container-id-2 div.sk-toggleable__content pre {margin: 0.2em;color: black;border-radius: 0.25em;background-color: #f0f8ff;}#sk-container-id-2 input.sk-toggleable__control:checked~div.sk-toggleable__content {max-height: 200px;max-width: 100%;overflow: auto;}#sk-container-id-2 input.sk-toggleable__control:checked~label.sk-toggleable__label-arrow:before {content: \"▾\";}#sk-container-id-2 div.sk-estimator input.sk-toggleable__control:checked~label.sk-toggleable__label {background-color: #d4ebff;}#sk-container-id-2 div.sk-label input.sk-toggleable__control:checked~label.sk-toggleable__label {background-color: #d4ebff;}#sk-container-id-2 input.sk-hidden--visually {border: 0;clip: rect(1px 1px 1px 1px);clip: rect(1px, 1px, 1px, 1px);height: 1px;margin: -1px;overflow: hidden;padding: 0;position: absolute;width: 1px;}#sk-container-id-2 div.sk-estimator {font-family: monospace;background-color: #f0f8ff;border: 1px dotted black;border-radius: 0.25em;box-sizing: border-box;margin-bottom: 0.5em;}#sk-container-id-2 div.sk-estimator:hover {background-color: #d4ebff;}#sk-container-id-2 div.sk-parallel-item::after {content: \"\";width: 100%;border-bottom: 1px solid gray;flex-grow: 1;}#sk-container-id-2 div.sk-label:hover label.sk-toggleable__label {background-color: #d4ebff;}#sk-container-id-2 div.sk-serial::before {content: \"\";position: absolute;border-left: 1px solid gray;box-sizing: border-box;top: 0;bottom: 0;left: 50%;z-index: 0;}#sk-container-id-2 div.sk-serial {display: flex;flex-direction: column;align-items: center;background-color: white;padding-right: 0.2em;padding-left: 0.2em;position: relative;}#sk-container-id-2 div.sk-item {position: relative;z-index: 1;}#sk-container-id-2 div.sk-parallel {display: flex;align-items: stretch;justify-content: center;background-color: white;position: relative;}#sk-container-id-2 div.sk-item::before, #sk-container-id-2 div.sk-parallel-item::before {content: \"\";position: absolute;border-left: 1px solid gray;box-sizing: border-box;top: 0;bottom: 0;left: 50%;z-index: -1;}#sk-container-id-2 div.sk-parallel-item {display: flex;flex-direction: column;z-index: 1;position: relative;background-color: white;}#sk-container-id-2 div.sk-parallel-item:first-child::after {align-self: flex-end;width: 50%;}#sk-container-id-2 div.sk-parallel-item:last-child::after {align-self: flex-start;width: 50%;}#sk-container-id-2 div.sk-parallel-item:only-child::after {width: 0;}#sk-container-id-2 div.sk-dashed-wrapped {border: 1px dashed gray;margin: 0 0.4em 0.5em 0.4em;box-sizing: border-box;padding-bottom: 0.4em;background-color: white;}#sk-container-id-2 div.sk-label label {font-family: monospace;font-weight: bold;display: inline-block;line-height: 1.2em;}#sk-container-id-2 div.sk-label-container {text-align: center;}#sk-container-id-2 div.sk-container {/* jupyter's `normalize.less` sets `[hidden] { display: none; }` but bootstrap.min.css set `[hidden] { display: none !important; }` so we also need the `!important` here to be able to override the default hidden behavior on the sphinx rendered scikit-learn.org. See: https://github.com/scikit-learn/scikit-learn/issues/21755 */display: inline-block !important;position: relative;}#sk-container-id-2 div.sk-text-repr-fallback {display: none;}</style><div id=\"sk-container-id-2\" class=\"sk-top-container\"><div class=\"sk-text-repr-fallback\"><pre>Ridge()</pre><b>In a Jupyter environment, please rerun this cell to show the HTML representation or trust the notebook. <br />On GitHub, the HTML representation is unable to render, please try loading this page with nbviewer.org.</b></div><div class=\"sk-container\" hidden><div class=\"sk-item\"><div class=\"sk-estimator sk-toggleable\"><input class=\"sk-toggleable__control sk-hidden--visually\" id=\"sk-estimator-id-2\" type=\"checkbox\" checked><label for=\"sk-estimator-id-2\" class=\"sk-toggleable__label sk-toggleable__label-arrow\">Ridge</label><div class=\"sk-toggleable__content\"><pre>Ridge()</pre></div></div></div></div></div>"
            ]
          },
          "metadata": {},
          "execution_count": 55
        }
      ]
    },
    {
      "cell_type": "code",
      "source": [
        "lasso_predictions = _model_lasso.predict(X_test_poly_scaled)\n",
        "ridge_predictions = _model_ridge.predict(X_test_poly_scaled)\n",
        "\n",
        "print('test MSE for L1:', mean_squared_error(y_test, lasso_predictions))\n",
        "print('test MSE for L2:', mean_squared_error(y_test, ridge_predictions))"
      ],
      "metadata": {
        "colab": {
          "base_uri": "https://localhost:8080/"
        },
        "id": "Nu3v2IpJKVTf",
        "outputId": "26a32fb0-a01a-4b1f-b52f-da640e0148f2"
      },
      "execution_count": null,
      "outputs": [
        {
          "output_type": "stream",
          "name": "stdout",
          "text": [
            "test MSE for L1: 17553.80493667668\n",
            "test MSE for L2: 76787.68109743259\n"
          ]
        }
      ]
    }
  ]
}