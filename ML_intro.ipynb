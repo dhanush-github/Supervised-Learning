{
  "nbformat": 4,
  "nbformat_minor": 0,
  "metadata": {
    "colab": {
      "provenance": []
    },
    "kernelspec": {
      "name": "python3",
      "display_name": "Python 3"
    },
    "language_info": {
      "name": "python"
    }
  },
  "cells": [
    {
      "cell_type": "markdown",
      "source": [
        "<img src=\"https://drive.google.com/uc?id=18izAS5r2Xaq3kRf6_Fu16NMhRQE9PKoS\">"
      ],
      "metadata": {
        "id": "2Lzc3kdgEYel"
      }
    },
    {
      "cell_type": "markdown",
      "source": [
        "<img src=\"https://drive.google.com/uc?id=1UiZbQzwNQpGwyzHfuteo65xnMXx88IyC\">\n"
      ],
      "metadata": {
        "id": "ONEQbiQsEhk9"
      }
    },
    {
      "cell_type": "markdown",
      "source": [
        "## <b>Content</b>\n",
        "\n",
        "- **Introduction**\n",
        "\n",
        "- <b>What is ML?</b>\n",
        "  - why & how of ML?\n",
        "  - Examples and Use cases\n",
        "\n",
        "- <b>Types of learning</b>\n",
        "  - Supervised\n",
        "  - Unsupervised\n",
        "  - Reinforcement learning\n",
        "-<b>Tasks it can do</b>\n",
        "      - Regression\n",
        "      - Classification\n",
        "      - Clustering\n",
        "      - Recommendation\n",
        "      - Time Series forecasting\n",
        "      - Reinforcement learning\n",
        "- Applications"
      ],
      "metadata": {
        "id": "krGrMVhG2Tdu"
      }
    },
    {
      "cell_type": "markdown",
      "source": [
        "### INTRODUCTION"
      ],
      "metadata": {
        "id": "xUvZvZbpCs-f"
      }
    },
    {
      "cell_type": "markdown",
      "source": [
        "<img src=\"https://drive.google.com/uc?id=1MzOdVkpr9t6VBu5BvdcAXmNe-GT4nbWn\">\n"
      ],
      "metadata": {
        "id": "tW3n0OyaCzow"
      }
    },
    {
      "cell_type": "markdown",
      "source": [
        "## What is ML?"
      ],
      "metadata": {
        "id": "CT6iQhIVG0IL"
      }
    },
    {
      "cell_type": "markdown",
      "source": [
        "Let's build up from the magical robot friend analogy to a more detailed definition of Machine Learning:\n",
        "<img src=\"https://drive.google.com/uc?id=1qe5WtYyfjVaqCVBCRgPO-3Y9kLwWwi8C\">\n",
        "\n",
        "<img src=\"https://drive.google.com/uc?id=1fMvLAemv7Rg8wIM7QF3AouvU-J8R0dBY\">\n",
        "\n",
        "\n",
        "So, in a nutshell, Machine Learning is like teaching computers to learn from examples, find patterns, and make smart decisions based on what they've learned.\n",
        "\n",
        "\n",
        "<img src=\"https://drive.google.com/uc?id=1KFPvuoUL48g5x8bN_9JMgDKa1I5KwL5L\">\n",
        "\n",
        "\n",
        "\n",
        "\n",
        "\n",
        "\n",
        "- WHY and HOW of ML\n",
        "\n",
        "  - WHY Machine Learning?\n",
        "    - Think of it this way: when you have lots and lots of data, like pictures of animals or maybe information about games, it can be really hard for a person to go through everything and make decisions.\n",
        "    - Machine Learning helps us *teach computers to handle this massive amount of information and make smart choices all on their own*.\n",
        "\n",
        "  - HOW Machine Learing?\n",
        "    - Now, let's dive a bit into how it works. We give the computer a bunch of examples or data, just like you gave your robot friend lots of pictures. The computer looks for PATTERNS and learns from these examples. Then, when we give it new data it hasn't seen before, it uses what it learned to make predictions or decisions\n",
        "  - Use cases\n",
        "    - Image Recognition\n",
        "    - Recommendation Systems\n",
        "    - Healthcare Diagnostics\n",
        "  \n",
        "  Can you suggest more such examples?\n",
        "\n",
        "\n",
        "      "
      ],
      "metadata": {
        "id": "vc6ChI6HGSld"
      }
    },
    {
      "cell_type": "markdown",
      "source": [
        "<img src=\"https://drive.google.com/uc?id=14nK0Sv1pobBUoHlvkhOpI_l4JqtcBnGX\">"
      ],
      "metadata": {
        "id": "i2UBDtyc08Qy"
      }
    },
    {
      "cell_type": "markdown",
      "source": [
        "<img src=\"https://drive.google.com/uc?id=1zKJOBw-TZAqqfJugmH3DJepVVnV9WTyB\">\n",
        "\n",
        "<img src=\"https://drive.google.com/uc?id=1YTnYWa7CDXCW6-z1-A1Gzd2ijvTrJewC\">\n",
        "<img src=\"https://drive.google.com/uc?id=167wQz46mHs8I5RdfQcYeVvivFQgrM5bw\">\n",
        "<img src=\"https://drive.google.com/uc?id=18Dfs2mW1y5EVD85a0vhKzb_IRn-H0cKC\">\n",
        "<img src=\"https://drive.google.com/uc?id=1aIlX0TsK5WiRbliZr4qz9SumG41cDHhJ\">\n"
      ],
      "metadata": {
        "id": "8gGru33U04rW"
      }
    },
    {
      "cell_type": "markdown",
      "source": [
        "### We can categorize machine learning either based on task or learning\n",
        "\n",
        "\n",
        "\n",
        "Basesd on type of \"learning\" use in training the model\n",
        "\n",
        "\n",
        "<img src='https://drive.google.com/uc?id=1FRO_9zq_HNk3C93oTCAGJgMT2beNbK9H'>\n",
        "\n"
      ],
      "metadata": {
        "id": "14nFnM02NHxH"
      }
    },
    {
      "cell_type": "markdown",
      "source": [
        "### <b> Supervised learning </b>\n",
        "\n",
        "<img src='https://drive.google.com/uc?id=1mZqp2VvU-aiV3eQenCy6wFl4jx4VPbZ1'>\n",
        "\n",
        "\n",
        "\n",
        "In supervised learning, the model is trained based on the given input and its expected output, i.e., the label of the input.\n",
        "- i.e. labelled data is present\n"
      ],
      "metadata": {
        "id": "z7oG1t_DeWIU"
      }
    },
    {
      "cell_type": "markdown",
      "source": [
        "### <b> Unsupervised learning </b>\n",
        "\n",
        "\n",
        "\n",
        "\n",
        "\n",
        "\n",
        "<img src='https://drive.google.com/uc?id=1KcVNmYrr4-KZsSuBW7Ei9taID3MFg38j'>\n",
        "\n",
        "- Unsupervised learning is a technique that determines patterns and associations in unlabeled data.\n",
        "- i.e. no data label is present\n",
        "- This technique is often used to create groups and clusters."
      ],
      "metadata": {
        "id": "EC6AQz4FfXAu"
      }
    },
    {
      "cell_type": "markdown",
      "source": [
        "<img src=\"https://drive.google.com/uc?id=1T5fe8NsjaNFOXFPqSFBrDcynA-RFdtzj\">"
      ],
      "metadata": {
        "id": "T9t3z13SFvEo"
      }
    },
    {
      "cell_type": "markdown",
      "source": [
        "\n",
        "\n",
        "**Based on the type of \"task\" ML Algos can be categorised as**\n",
        "\n",
        "<center><img src=\"https://drive.google.com/uc?id=1ZGSmja0_xeQQzF8J3cpdfJNDMqmaY0-x\"> </center>\n",
        "\n",
        "1. **Classification** - classify into one of categories\n",
        "    - Classification can be of two types:\n",
        "        - Binary classification: Classifying two things/categories: Spam vs ham, fraud or not.\n",
        "        - Multiclass classification: Classifying more than two categories\n",
        "            - Fruit images (Lemon, Orange, Kinu, Mausambi)\n",
        "    \n",
        "\n",
        "2. **Regression** - predict a real value, e.g, house price prediction, predicting height based on weight\n",
        "<img src=\"https://drive.google.com/uc?id=1dCUrc2nW-g2ejw7OubNp1LKbmAWweyaq\">\n",
        "\n",
        "3. **Clustering** - group similar samples, e.g.  google news clusters news articles from different news channels based on news.\n",
        "<center><img src=\"https://drive.google.com/uc?id=1FnLScLyzoi9SmgERNRGKvjnjftQg8UaB\" width=\"400\" height=\"300\"> </center>\n",
        "    \n",
        "    - Link: https://news.googleblog.com/2008/05/keeping-good-news-stories-together-just.html\n",
        "\n",
        "\n",
        "\n",
        "\n",
        "\n",
        "4. **Recommendation** (we'll see this later) -  e.g.., netflix recommending a movie based on what you've watched\n",
        "\n",
        "5. **Time Series Forecasting**  (we'll see this later) - forecast stock prices based on last 10 day prices\n",
        "\n"
      ],
      "metadata": {
        "id": "x9ls0rhbP8zj"
      }
    },
    {
      "cell_type": "markdown",
      "source": [
        "<img src=\"https://drive.google.com/uc?id=16idNplMlUPcZKUiA7u70mYC7SjmnNtnL\">\n",
        "<img src=\"https://drive.google.com/uc?id=1TNb5GuO03v_sTPT_JaEyS5wHHJ6v21vo\">\n",
        "<img src=\"https://drive.google.com/uc?id=1X1siJtICBu7NbxaZhMKN92ARgvQjWwDm\">\n",
        "<img src=\"https://drive.google.com/uc?id=1duOkBHSnvFNE3XjhY9I5k0lOMXW3Pnrr\">\n",
        "<img src=\"https://drive.google.com/uc?id=1Y7KhFbJA8zasuzJKwwBUu4wMIJDuUD0A\">\n",
        "<img src=\"https://drive.google.com/uc?id=1VJVfAuOYgHNPDrhiPp84HTbU-ajp31z-\">\n"
      ],
      "metadata": {
        "id": "ydST7YLazpSn"
      }
    },
    {
      "cell_type": "markdown",
      "source": [
        "# Applications:\n",
        "\n",
        "<img src=\"https://drive.google.com/uc?id=1PIh5jxO1KHuweHNpzfR5-PxEsJAqTBvz\">"
      ],
      "metadata": {
        "id": "7zVcIgNNGhlJ"
      }
    }
  ]
}