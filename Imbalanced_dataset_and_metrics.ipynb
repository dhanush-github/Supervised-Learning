{
  "nbformat": 4,
  "nbformat_minor": 0,
  "metadata": {
    "colab": {
      "provenance": []
    },
    "kernelspec": {
      "name": "python3",
      "display_name": "Python 3"
    },
    "language_info": {
      "name": "python"
    }
  },
  "cells": [
    {
      "cell_type": "markdown",
      "source": [
        "<center><img src=\"https://drive.google.com/uc?id=1mxOqs8zehrymPrtio0nzYpEuuNdPxzeX\"></center>"
      ],
      "metadata": {
        "id": "lVaCTPvPr7jX"
      }
    },
    {
      "cell_type": "markdown",
      "source": [
        "## Spam vs Non-Spam"
      ],
      "metadata": {
        "id": "nlpAmplXrqih"
      }
    },
    {
      "cell_type": "markdown",
      "source": [
        "<img src = \"https://drive.google.com/uc?id=1awekSNdO-DM8kRfkYXx5uLckz5u5NUts\">"
      ],
      "metadata": {
        "id": "Ik_cC-WXsRhU"
      }
    },
    {
      "cell_type": "code",
      "execution_count": null,
      "metadata": {
        "id": "xNI7_XSOq5pj",
        "colab": {
          "base_uri": "https://localhost:8080/"
        },
        "outputId": "2ae15fa6-943a-4a83-d17b-f9be1d0448a6"
      },
      "outputs": [
        {
          "output_type": "stream",
          "name": "stdout",
          "text": [
            "Downloading...\n",
            "From: https://drive.google.com/uc?id=1CgBW5H54YfdYtJmYE5GWctaHZSpFt71V\n",
            "To: /content/spam_ham_dataset.csv\n",
            "\r  0% 0.00/5.50M [00:00<?, ?B/s]\r 86% 4.72M/5.50M [00:00<00:00, 23.2MB/s]\r100% 5.50M/5.50M [00:00<00:00, 24.3MB/s]\n"
          ]
        }
      ],
      "source": [
        "import pandas as pd\n",
        "import numpy as np\n",
        "import matplotlib.pyplot as plt\n",
        "!gdown 1CgBW5H54YfdYtJmYE5GWctaHZSpFt71V"
      ]
    },
    {
      "cell_type": "code",
      "source": [
        "demo1 = pd.read_csv('spam_ham_dataset.csv')\n",
        "demo1.drop(['Unnamed: 0','label'],axis=1,inplace=True)\n",
        "demo1.head()"
      ],
      "metadata": {
        "id": "6mN4-n1GsoI_",
        "colab": {
          "base_uri": "https://localhost:8080/",
          "height": 206
        },
        "outputId": "94ad218a-89e1-4e89-e8fd-2b6d705300ce"
      },
      "execution_count": null,
      "outputs": [
        {
          "output_type": "execute_result",
          "data": {
            "text/plain": [
              "                                                text  label_num\n",
              "0  Subject: enron methanol ; meter # : 988291\\r\\n...          0\n",
              "1  Subject: hpl nom for january 9 , 2001\\r\\n( see...          0\n",
              "2  Subject: neon retreat\\r\\nho ho ho , we ' re ar...          0\n",
              "3  Subject: photoshop , windows , office . cheap ...          1\n",
              "4  Subject: re : indian springs\\r\\nthis deal is t...          0"
            ],
            "text/html": [
              "\n",
              "  <div id=\"df-bca9a69f-617d-4fa6-a83c-80575cc946a9\" class=\"colab-df-container\">\n",
              "    <div>\n",
              "<style scoped>\n",
              "    .dataframe tbody tr th:only-of-type {\n",
              "        vertical-align: middle;\n",
              "    }\n",
              "\n",
              "    .dataframe tbody tr th {\n",
              "        vertical-align: top;\n",
              "    }\n",
              "\n",
              "    .dataframe thead th {\n",
              "        text-align: right;\n",
              "    }\n",
              "</style>\n",
              "<table border=\"1\" class=\"dataframe\">\n",
              "  <thead>\n",
              "    <tr style=\"text-align: right;\">\n",
              "      <th></th>\n",
              "      <th>text</th>\n",
              "      <th>label_num</th>\n",
              "    </tr>\n",
              "  </thead>\n",
              "  <tbody>\n",
              "    <tr>\n",
              "      <th>0</th>\n",
              "      <td>Subject: enron methanol ; meter # : 988291\\r\\n...</td>\n",
              "      <td>0</td>\n",
              "    </tr>\n",
              "    <tr>\n",
              "      <th>1</th>\n",
              "      <td>Subject: hpl nom for january 9 , 2001\\r\\n( see...</td>\n",
              "      <td>0</td>\n",
              "    </tr>\n",
              "    <tr>\n",
              "      <th>2</th>\n",
              "      <td>Subject: neon retreat\\r\\nho ho ho , we ' re ar...</td>\n",
              "      <td>0</td>\n",
              "    </tr>\n",
              "    <tr>\n",
              "      <th>3</th>\n",
              "      <td>Subject: photoshop , windows , office . cheap ...</td>\n",
              "      <td>1</td>\n",
              "    </tr>\n",
              "    <tr>\n",
              "      <th>4</th>\n",
              "      <td>Subject: re : indian springs\\r\\nthis deal is t...</td>\n",
              "      <td>0</td>\n",
              "    </tr>\n",
              "  </tbody>\n",
              "</table>\n",
              "</div>\n",
              "    <div class=\"colab-df-buttons\">\n",
              "\n",
              "  <div class=\"colab-df-container\">\n",
              "    <button class=\"colab-df-convert\" onclick=\"convertToInteractive('df-bca9a69f-617d-4fa6-a83c-80575cc946a9')\"\n",
              "            title=\"Convert this dataframe to an interactive table.\"\n",
              "            style=\"display:none;\">\n",
              "\n",
              "  <svg xmlns=\"http://www.w3.org/2000/svg\" height=\"24px\" viewBox=\"0 -960 960 960\">\n",
              "    <path d=\"M120-120v-720h720v720H120Zm60-500h600v-160H180v160Zm220 220h160v-160H400v160Zm0 220h160v-160H400v160ZM180-400h160v-160H180v160Zm440 0h160v-160H620v160ZM180-180h160v-160H180v160Zm440 0h160v-160H620v160Z\"/>\n",
              "  </svg>\n",
              "    </button>\n",
              "\n",
              "  <style>\n",
              "    .colab-df-container {\n",
              "      display:flex;\n",
              "      gap: 12px;\n",
              "    }\n",
              "\n",
              "    .colab-df-convert {\n",
              "      background-color: #E8F0FE;\n",
              "      border: none;\n",
              "      border-radius: 50%;\n",
              "      cursor: pointer;\n",
              "      display: none;\n",
              "      fill: #1967D2;\n",
              "      height: 32px;\n",
              "      padding: 0 0 0 0;\n",
              "      width: 32px;\n",
              "    }\n",
              "\n",
              "    .colab-df-convert:hover {\n",
              "      background-color: #E2EBFA;\n",
              "      box-shadow: 0px 1px 2px rgba(60, 64, 67, 0.3), 0px 1px 3px 1px rgba(60, 64, 67, 0.15);\n",
              "      fill: #174EA6;\n",
              "    }\n",
              "\n",
              "    .colab-df-buttons div {\n",
              "      margin-bottom: 4px;\n",
              "    }\n",
              "\n",
              "    [theme=dark] .colab-df-convert {\n",
              "      background-color: #3B4455;\n",
              "      fill: #D2E3FC;\n",
              "    }\n",
              "\n",
              "    [theme=dark] .colab-df-convert:hover {\n",
              "      background-color: #434B5C;\n",
              "      box-shadow: 0px 1px 3px 1px rgba(0, 0, 0, 0.15);\n",
              "      filter: drop-shadow(0px 1px 2px rgba(0, 0, 0, 0.3));\n",
              "      fill: #FFFFFF;\n",
              "    }\n",
              "  </style>\n",
              "\n",
              "    <script>\n",
              "      const buttonEl =\n",
              "        document.querySelector('#df-bca9a69f-617d-4fa6-a83c-80575cc946a9 button.colab-df-convert');\n",
              "      buttonEl.style.display =\n",
              "        google.colab.kernel.accessAllowed ? 'block' : 'none';\n",
              "\n",
              "      async function convertToInteractive(key) {\n",
              "        const element = document.querySelector('#df-bca9a69f-617d-4fa6-a83c-80575cc946a9');\n",
              "        const dataTable =\n",
              "          await google.colab.kernel.invokeFunction('convertToInteractive',\n",
              "                                                    [key], {});\n",
              "        if (!dataTable) return;\n",
              "\n",
              "        const docLinkHtml = 'Like what you see? Visit the ' +\n",
              "          '<a target=\"_blank\" href=https://colab.research.google.com/notebooks/data_table.ipynb>data table notebook</a>'\n",
              "          + ' to learn more about interactive tables.';\n",
              "        element.innerHTML = '';\n",
              "        dataTable['output_type'] = 'display_data';\n",
              "        await google.colab.output.renderOutput(dataTable, element);\n",
              "        const docLink = document.createElement('div');\n",
              "        docLink.innerHTML = docLinkHtml;\n",
              "        element.appendChild(docLink);\n",
              "      }\n",
              "    </script>\n",
              "  </div>\n",
              "\n",
              "\n",
              "<div id=\"df-9b3c5a88-83b9-4fbc-8e22-cd78549804d0\">\n",
              "  <button class=\"colab-df-quickchart\" onclick=\"quickchart('df-9b3c5a88-83b9-4fbc-8e22-cd78549804d0')\"\n",
              "            title=\"Suggest charts\"\n",
              "            style=\"display:none;\">\n",
              "\n",
              "<svg xmlns=\"http://www.w3.org/2000/svg\" height=\"24px\"viewBox=\"0 0 24 24\"\n",
              "     width=\"24px\">\n",
              "    <g>\n",
              "        <path d=\"M19 3H5c-1.1 0-2 .9-2 2v14c0 1.1.9 2 2 2h14c1.1 0 2-.9 2-2V5c0-1.1-.9-2-2-2zM9 17H7v-7h2v7zm4 0h-2V7h2v10zm4 0h-2v-4h2v4z\"/>\n",
              "    </g>\n",
              "</svg>\n",
              "  </button>\n",
              "\n",
              "<style>\n",
              "  .colab-df-quickchart {\n",
              "      --bg-color: #E8F0FE;\n",
              "      --fill-color: #1967D2;\n",
              "      --hover-bg-color: #E2EBFA;\n",
              "      --hover-fill-color: #174EA6;\n",
              "      --disabled-fill-color: #AAA;\n",
              "      --disabled-bg-color: #DDD;\n",
              "  }\n",
              "\n",
              "  [theme=dark] .colab-df-quickchart {\n",
              "      --bg-color: #3B4455;\n",
              "      --fill-color: #D2E3FC;\n",
              "      --hover-bg-color: #434B5C;\n",
              "      --hover-fill-color: #FFFFFF;\n",
              "      --disabled-bg-color: #3B4455;\n",
              "      --disabled-fill-color: #666;\n",
              "  }\n",
              "\n",
              "  .colab-df-quickchart {\n",
              "    background-color: var(--bg-color);\n",
              "    border: none;\n",
              "    border-radius: 50%;\n",
              "    cursor: pointer;\n",
              "    display: none;\n",
              "    fill: var(--fill-color);\n",
              "    height: 32px;\n",
              "    padding: 0;\n",
              "    width: 32px;\n",
              "  }\n",
              "\n",
              "  .colab-df-quickchart:hover {\n",
              "    background-color: var(--hover-bg-color);\n",
              "    box-shadow: 0 1px 2px rgba(60, 64, 67, 0.3), 0 1px 3px 1px rgba(60, 64, 67, 0.15);\n",
              "    fill: var(--button-hover-fill-color);\n",
              "  }\n",
              "\n",
              "  .colab-df-quickchart-complete:disabled,\n",
              "  .colab-df-quickchart-complete:disabled:hover {\n",
              "    background-color: var(--disabled-bg-color);\n",
              "    fill: var(--disabled-fill-color);\n",
              "    box-shadow: none;\n",
              "  }\n",
              "\n",
              "  .colab-df-spinner {\n",
              "    border: 2px solid var(--fill-color);\n",
              "    border-color: transparent;\n",
              "    border-bottom-color: var(--fill-color);\n",
              "    animation:\n",
              "      spin 1s steps(1) infinite;\n",
              "  }\n",
              "\n",
              "  @keyframes spin {\n",
              "    0% {\n",
              "      border-color: transparent;\n",
              "      border-bottom-color: var(--fill-color);\n",
              "      border-left-color: var(--fill-color);\n",
              "    }\n",
              "    20% {\n",
              "      border-color: transparent;\n",
              "      border-left-color: var(--fill-color);\n",
              "      border-top-color: var(--fill-color);\n",
              "    }\n",
              "    30% {\n",
              "      border-color: transparent;\n",
              "      border-left-color: var(--fill-color);\n",
              "      border-top-color: var(--fill-color);\n",
              "      border-right-color: var(--fill-color);\n",
              "    }\n",
              "    40% {\n",
              "      border-color: transparent;\n",
              "      border-right-color: var(--fill-color);\n",
              "      border-top-color: var(--fill-color);\n",
              "    }\n",
              "    60% {\n",
              "      border-color: transparent;\n",
              "      border-right-color: var(--fill-color);\n",
              "    }\n",
              "    80% {\n",
              "      border-color: transparent;\n",
              "      border-right-color: var(--fill-color);\n",
              "      border-bottom-color: var(--fill-color);\n",
              "    }\n",
              "    90% {\n",
              "      border-color: transparent;\n",
              "      border-bottom-color: var(--fill-color);\n",
              "    }\n",
              "  }\n",
              "</style>\n",
              "\n",
              "  <script>\n",
              "    async function quickchart(key) {\n",
              "      const quickchartButtonEl =\n",
              "        document.querySelector('#' + key + ' button');\n",
              "      quickchartButtonEl.disabled = true;  // To prevent multiple clicks.\n",
              "      quickchartButtonEl.classList.add('colab-df-spinner');\n",
              "      try {\n",
              "        const charts = await google.colab.kernel.invokeFunction(\n",
              "            'suggestCharts', [key], {});\n",
              "      } catch (error) {\n",
              "        console.error('Error during call to suggestCharts:', error);\n",
              "      }\n",
              "      quickchartButtonEl.classList.remove('colab-df-spinner');\n",
              "      quickchartButtonEl.classList.add('colab-df-quickchart-complete');\n",
              "    }\n",
              "    (() => {\n",
              "      let quickchartButtonEl =\n",
              "        document.querySelector('#df-9b3c5a88-83b9-4fbc-8e22-cd78549804d0 button');\n",
              "      quickchartButtonEl.style.display =\n",
              "        google.colab.kernel.accessAllowed ? 'block' : 'none';\n",
              "    })();\n",
              "  </script>\n",
              "</div>\n",
              "    </div>\n",
              "  </div>\n"
            ],
            "application/vnd.google.colaboratory.intrinsic+json": {
              "type": "dataframe",
              "variable_name": "demo1",
              "summary": "{\n  \"name\": \"demo1\",\n  \"rows\": 5171,\n  \"fields\": [\n    {\n      \"column\": \"text\",\n      \"properties\": {\n        \"dtype\": \"string\",\n        \"num_unique_values\": 4993,\n        \"samples\": [\n          \"Subject: hpl / conoco - teco waha 03 / 23 / 01 purchase\\r\\ndaren , conoco invoiced hpl at $ 5 . 87 for 03 / 23 at pgev / waha and deal ticket 685350 shows $ 4 . 87 . can you confirm the price ? thanks .\",\n          \"Subject: holiday on - call data\\r\\npipeline contact phone fax pager\\r\\nblack marlin blair lichentwalter 713 853 - 7367 713 646 - 3201 ( h )\\r\\n281 370 - 1866\\r\\ndebbie thompson 713 853 - 3144 713 646 - 3201\\r\\n( noms due today for 23 rd through 27 th )\\r\\nchannel jim tobacco 713 420 - 2159\\r\\ngas control 1 505 599 - 2333\\r\\n( open thursday . noms will be due through monday )\\r\\ncentana william spekels 713 627 - 6290 713 762 - 3450\\r\\ndonna spencer 713 627 - 6255\\r\\ngas control 1 888 204 - 1718\\r\\n( noms due today for 23 rd through 27 th )\\r\\nduke energy annette anderson 713 260 - 8603 713 949 - 3026\\r\\n( on call ) bob moseman 713 - 260 - 8698 ( thursday )\\r\\nopen tomorrow - noms will be due thru the 27 th )\\r\\nlonestar gary gafford 214 670 - 2674 214 875 - 3810\\r\\ngas control 214 875 - 2455 or 2456\\r\\n( noms due today , 23 rd thru 27 th )\\r\\nnorthern natural ben markey 853 - 7581 cell 713 446 - 9404 800 931 - 0398\\r\\n( on call ) charlie mosey 853 - 1520\\r\\ngas control 853 -\\r\\n( open thursday - noms due thru 27 th . )\\r\\neast trans - east texas\\r\\ntejas gas control 713 767 - 5366\\r\\npaula svehla 713 230 - 3569\\r\\nmickey chapman 713 230 - 3546\\r\\n( open thursday - noms due thru 27 th )\\r\\nmidcon ( y 2 k ) ken nachlinger 713 369 - 9284 713 369 - 9375 888 733 - 5954\\r\\n( on call ) steven 888 790 - 0255\\r\\n( y 2 k ) don 888 733 - 4602\\r\\ngas control 713 369 - 9200\\r\\n( noms due today , 23 rd thru 27 th )\\r\\nmoss bluff no current business\",\n          \"Subject: gas day 2 / 08 / 01\\r\\nwe agree :\\r\\nteco tap nom = 40 . 000 ; actual 41 . 358\\r\\n- - - - - - - - - - - - - - - - - - - - - - forwarded by melissa jones / texas utilities on\\r\\n02 / 09 / 2001\\r\\n10 : 15 am - - - - - - - - - - - - - - - - - - - - - - - - - - -\\r\\nkponton @ duke - energy . com on 02 / 09 / 2001 09 : 15 : 35 am\\r\\nto : david avila / lsp / enserch / us @ tu , charlie stone / texas utilities @ tu , melissa\\r\\njones / texas utilities @ tu\\r\\ncc :\\r\\nsubject : gas day 2 / 08 / 01\\r\\nnom = 40 , 000 mmbtu ' s\\r\\nactual flow = 39 , 959 mcf , 41 , 358 mmbtu ' s\"\n        ],\n        \"semantic_type\": \"\",\n        \"description\": \"\"\n      }\n    },\n    {\n      \"column\": \"label_num\",\n      \"properties\": {\n        \"dtype\": \"number\",\n        \"std\": 0,\n        \"min\": 0,\n        \"max\": 1,\n        \"num_unique_values\": 2,\n        \"samples\": [\n          1,\n          0\n        ],\n        \"semantic_type\": \"\",\n        \"description\": \"\"\n      }\n    }\n  ]\n}"
            }
          },
          "metadata": {},
          "execution_count": 3
        }
      ]
    },
    {
      "cell_type": "markdown",
      "source": [
        "<img src = \"https://drive.google.com/uc?id=1ynAaBApopFPGjHNz14ZcBqoBZcf8wOqw\">"
      ],
      "metadata": {
        "id": "AlXIKpYIsxaM"
      }
    },
    {
      "cell_type": "markdown",
      "source": [
        "<img src = \"https://drive.google.com/uc?id=1f6udyzbckhZYi7AUCyIyAIBno-CSEjPO\">\n"
      ],
      "metadata": {
        "id": "wUm7Z8nns-h4"
      }
    },
    {
      "cell_type": "markdown",
      "metadata": {
        "id": "WgtIw3gpBjkd"
      },
      "source": [
        "## **Problem with Accuracy Metric**"
      ]
    },
    {
      "cell_type": "markdown",
      "metadata": {
        "id": "MoDYIpY9FURL"
      },
      "source": [
        "#### What makes the accuracy a bad metric ?\n",
        "\n",
        "1. Accuracy **doesn't work** when we have **imbalanced dataset**\n",
        "2. As our **major goal** is to **correctly classify Spam data**,\n",
        " - Accuracy **lacks** in providing a **class-wise/granular metric**\n",
        "\n"
      ]
    },
    {
      "cell_type": "markdown",
      "source": [
        "<img src = \"https://drive.google.com/uc?id=155cLJ3wSKhxKzy8gzJxfiHULQcJEsNrj\">\n"
      ],
      "metadata": {
        "id": "xzUsmAFSs-e3"
      }
    },
    {
      "cell_type": "markdown",
      "metadata": {
        "id": "dLR-uBrZRIhU"
      },
      "source": [
        "## **Confusion Matrix**\n",
        "\n"
      ]
    },
    {
      "cell_type": "markdown",
      "metadata": {
        "id": "FmrkcqbDycdK"
      },
      "source": [
        "#### How to overcome issues in accuracy  ?\n",
        "\n",
        "\n",
        "\n"
      ]
    },
    {
      "cell_type": "markdown",
      "source": [
        "<img src = \"https://drive.google.com/uc?id=1yunr5J0I5ikEpMzpy3sxGikjrvRZ7gQU\">\n"
      ],
      "metadata": {
        "id": "4PKiU8eSs9e9"
      }
    },
    {
      "cell_type": "markdown",
      "source": [
        "Lets create a 2 x 2 matrix for Spam (**Class 1/positive class)** and Not Spam (**Class0/Negative Class**), such that:\n",
        "\n",
        "1. For the first cell we keep the count of samples\n",
        " - where $\\hat{y_i} = 0 $, and  and $y_i = 0$\n",
        " - Lets call this **True Negative (TN)**\n",
        "\n",
        "2. For the second cell we keep the count of samples\n",
        " - where $\\hat{y_i} = 1 $, and  and $y_i = 0$\n",
        " - Lets call this **False Positive (FP)**\n",
        "\n",
        "<br>\n",
        "\n",
        "3. For the third cell we keep the count of samples\n",
        " - where $\\hat{y_i} = 0 $, and  and $y_i = 1$\n",
        " - Lets call this **False Negative (FN)**\n",
        "\n",
        "4. For the fourth cell we keep the count of samples\n",
        " - where $\\hat{y_i} = 1 $, and  and $y_i = 1$\n",
        " - Lets call this **True Positive (TP)**\n",
        "\n",
        "\n",
        "<br>"
      ],
      "metadata": {
        "id": "05rrv0STypQS"
      }
    },
    {
      "cell_type": "markdown",
      "source": [
        "<img src = \"https://drive.google.com/uc?id=1kzwjOmjgyTHoih9fuWbx6GST4-6js8yW\">\n"
      ],
      "metadata": {
        "id": "QsTWJ5kis9cW"
      }
    },
    {
      "cell_type": "markdown",
      "source": [
        "\n",
        "\n",
        "<img src = \"https://drive.google.com/uc?id=1GRTUjcL7e-5XxFBuLcI1O4kZ4BsvPZjI\">\n"
      ],
      "metadata": {
        "id": "24EDelZLs9Zn"
      }
    },
    {
      "cell_type": "markdown",
      "metadata": {
        "id": "pC8AKt9yvP1y"
      },
      "source": [
        "## **Understanding Confusion Matrix**"
      ]
    },
    {
      "cell_type": "markdown",
      "metadata": {
        "id": "rDzbLLjFTobW"
      },
      "source": [
        "#### if the test data has 360 non-spam and 40 spam samples, then what will be **TF, TP, FP, FN** for an **ideal(Best) model** ?\n",
        "\n"
      ]
    },
    {
      "cell_type": "markdown",
      "source": [
        "<img src = \"https://drive.google.com/uc?id=1QrEfwuDtYrzWkTj9oEDm6cKvHn6-cUIJ\">\n"
      ],
      "metadata": {
        "id": "e4Wp87als9Wb"
      }
    },
    {
      "cell_type": "markdown",
      "source": [
        "<img src = \"https://drive.google.com/uc?id=1GEayAjr1PeUwh9j6YTiHFyreMRxXKsar\">\n"
      ],
      "metadata": {
        "id": "urHuoROls9Po"
      }
    },
    {
      "cell_type": "markdown",
      "source": [
        "<img src = \"https://drive.google.com/uc?id=1NDxbOYzU0bdA5ts20Y2lw15o-IqTFyxG\">\n"
      ],
      "metadata": {
        "id": "ZbTq4HULs9NV"
      }
    },
    {
      "cell_type": "markdown",
      "source": [
        "#### We have TP, TN , FP , FN, Can we find accuracy ?\n"
      ],
      "metadata": {
        "id": "Gz5Lp_Lz2SIS"
      }
    },
    {
      "cell_type": "markdown",
      "source": [
        "\n",
        "- In Confusion Matrix, $TP+TN$ captures the correct prediction\n",
        "- While, $TP+TN+FP+FN$ captures the total number of samples\n",
        "<br>\n",
        "\n",
        "Hence:\n",
        "- $Accuracy = \\frac{TP+TN}{TP+TN+FP+FN}$\n"
      ],
      "metadata": {
        "id": "Q7ry3n0hYon0"
      }
    },
    {
      "cell_type": "markdown",
      "source": [
        "<img src = \"https://drive.google.com/uc?id=1fjdmqFcq4ffvmrhzv0mMxoeY8WbLqj6U\">\n"
      ],
      "metadata": {
        "id": "kBtPb1B-s9Kp"
      }
    },
    {
      "cell_type": "markdown",
      "metadata": {
        "id": "dxX4qf1UWPbf"
      },
      "source": [
        "## **Confusion Matrix Code**"
      ]
    },
    {
      "cell_type": "markdown",
      "metadata": {
        "id": "WEhDiX3fNx5H"
      },
      "source": [
        "#### Lets use sklearn `confusion_matrix` function to get the values"
      ]
    },
    {
      "cell_type": "code",
      "execution_count": null,
      "metadata": {
        "colab": {
          "base_uri": "https://localhost:8080/",
          "height": 211
        },
        "id": "CYZ5CvwH8LAc",
        "outputId": "4e12fcdb-5520-44ff-cd5b-276039927b55"
      },
      "outputs": [
        {
          "output_type": "error",
          "ename": "NameError",
          "evalue": "name 'model' is not defined",
          "traceback": [
            "\u001b[0;31m---------------------------------------------------------------------------\u001b[0m",
            "\u001b[0;31mNameError\u001b[0m                                 Traceback (most recent call last)",
            "\u001b[0;32m<ipython-input-1-afeeb66915c1>\u001b[0m in \u001b[0;36m<cell line: 3>\u001b[0;34m()\u001b[0m\n\u001b[1;32m      1\u001b[0m \u001b[0;32mfrom\u001b[0m \u001b[0msklearn\u001b[0m\u001b[0;34m.\u001b[0m\u001b[0mmetrics\u001b[0m \u001b[0;32mimport\u001b[0m \u001b[0mconfusion_matrix\u001b[0m\u001b[0;34m,\u001b[0m \u001b[0mConfusionMatrixDisplay\u001b[0m\u001b[0;34m\u001b[0m\u001b[0;34m\u001b[0m\u001b[0m\n\u001b[1;32m      2\u001b[0m \u001b[0;34m\u001b[0m\u001b[0m\n\u001b[0;32m----> 3\u001b[0;31m \u001b[0my_pred\u001b[0m \u001b[0;34m=\u001b[0m \u001b[0mmodel\u001b[0m\u001b[0;34m.\u001b[0m\u001b[0mpredict\u001b[0m\u001b[0;34m(\u001b[0m\u001b[0mX_test\u001b[0m\u001b[0;34m)\u001b[0m\u001b[0;34m\u001b[0m\u001b[0;34m\u001b[0m\u001b[0m\n\u001b[0m\u001b[1;32m      4\u001b[0m \u001b[0;34m\u001b[0m\u001b[0m\n\u001b[1;32m      5\u001b[0m \u001b[0mconf_matrix\u001b[0m \u001b[0;34m=\u001b[0m \u001b[0mconfusion_matrix\u001b[0m\u001b[0;34m(\u001b[0m\u001b[0my_test\u001b[0m\u001b[0;34m,\u001b[0m \u001b[0my_pred\u001b[0m\u001b[0;34m)\u001b[0m\u001b[0;34m\u001b[0m\u001b[0;34m\u001b[0m\u001b[0m\n",
            "\u001b[0;31mNameError\u001b[0m: name 'model' is not defined"
          ]
        }
      ],
      "source": [
        "from sklearn.metrics import confusion_matrix, ConfusionMatrixDisplay\n",
        "\n",
        "y_pred = model.predict(X_test)\n",
        "\n",
        "conf_matrix = confusion_matrix(y_test, y_pred)\n",
        "conf_matrix # 2D np array"
      ]
    },
    {
      "cell_type": "code",
      "source": [
        "from matplotlib import pyplot as plt"
      ],
      "metadata": {
        "id": "wkvwc8swgneQ"
      },
      "execution_count": null,
      "outputs": []
    },
    {
      "cell_type": "code",
      "execution_count": null,
      "metadata": {
        "colab": {
          "base_uri": "https://localhost:8080/",
          "height": 445
        },
        "id": "4KBRzYCA8b_O",
        "outputId": "575f065d-1fcb-42f3-f188-9202c4f048f1"
      },
      "outputs": [
        {
          "output_type": "execute_result",
          "data": {
            "text/plain": [
              "<sklearn.metrics._plot.confusion_matrix.ConfusionMatrixDisplay at 0x7f1c995d3910>"
            ]
          },
          "metadata": {},
          "execution_count": 19
        },
        {
          "output_type": "display_data",
          "data": {
            "text/plain": [
              "<Figure size 500x500 with 2 Axes>"
            ],
            "image/png": "[encoded data removed]"
          },
          "metadata": {}
        }
      ],
      "source": [
        "# ax used here to control the size of confusion matrix\n",
        "fig, ax = plt.subplots(figsize=(5,5))\n",
        "ConfusionMatrixDisplay(conf_matrix).plot(ax = ax)"
      ]
    },
    {
      "cell_type": "code",
      "source": [
        "np.diag(conf_matrix).sum() / conf_matrix.sum()"
      ],
      "metadata": {
        "colab": {
          "base_uri": "https://localhost:8080/"
        },
        "id": "wVZTOzdhXljb",
        "outputId": "04e4fefa-0147-4749-a120-4c0b5153ea66"
      },
      "execution_count": null,
      "outputs": [
        {
          "output_type": "execute_result",
          "data": {
            "text/plain": [
              "0.934261407579273"
            ]
          },
          "metadata": {},
          "execution_count": 14
        }
      ]
    },
    {
      "cell_type": "markdown",
      "metadata": {
        "id": "wnvSUwJNJ4ii"
      },
      "source": [
        "## **Precision**"
      ]
    },
    {
      "cell_type": "markdown",
      "source": [
        "\n",
        "#### Is Confusion Matrix really better metric than Accuracy ?"
      ],
      "metadata": {
        "id": "4rTq55-O43Ng"
      }
    },
    {
      "cell_type": "markdown",
      "source": [
        "<img src = \"https://drive.google.com/uc?id=1xE-bxqxChDJWmqO1vebHX6OqqNG6P0_w\">\n"
      ],
      "metadata": {
        "id": "yuS3GYx5s9H2"
      }
    },
    {
      "cell_type": "markdown",
      "source": [
        "<img src = \"https://drive.google.com/uc?id=1Jx0BA94o2_paRQjlkhfNbRyz5NARH_xd\">\n"
      ],
      "metadata": {
        "id": "rv4VyFUuu5p1"
      }
    },
    {
      "cell_type": "markdown",
      "source": [
        "<img src = \"https://drive.google.com/uc?id=1eIScOkZ22r0Ai4e_QDFQAmfZv-6RJ6b8\">\n"
      ],
      "metadata": {
        "id": "2hVovr5ms9Ca"
      }
    },
    {
      "cell_type": "markdown",
      "source": [
        "<img src = \"https://drive.google.com/uc?id=1rI2Wf1GTFyQlnBSQigl7QGZQDoXyJ2L7\">\n"
      ],
      "metadata": {
        "id": "3YONT-zAs8_F"
      }
    },
    {
      "cell_type": "markdown",
      "source": [
        "\n",
        "<img src = \"https://drive.google.com/uc?id=1dU8Hfh6pM7zcE-GvwOZPKpM7ZwREoxAR\">\n"
      ],
      "metadata": {
        "id": "zasPZ7Qms87Y"
      }
    },
    {
      "cell_type": "markdown",
      "source": [
        "## **Precision Code**"
      ],
      "metadata": {
        "id": "enuyhDKuB2Fn"
      }
    },
    {
      "cell_type": "code",
      "source": [
        "fig, ax = plt.subplots(figsize=(5,5))\n",
        "ConfusionMatrixDisplay(conf_matrix).plot(ax = ax)\n"
      ],
      "metadata": {
        "colab": {
          "base_uri": "https://localhost:8080/",
          "height": 445
        },
        "id": "kd8fcyuiB13Q",
        "outputId": "e6f3ea67-22bf-4308-f106-9176c49e4967"
      },
      "execution_count": null,
      "outputs": [
        {
          "output_type": "execute_result",
          "data": {
            "text/plain": [
              "<sklearn.metrics._plot.confusion_matrix.ConfusionMatrixDisplay at 0x7f1c987d9a50>"
            ]
          },
          "metadata": {},
          "execution_count": 22
        },
        {
          "output_type": "display_data",
          "data": {
            "text/plain": [
              "<Figure size 500x500 with 2 Axes>"
            ],
            "image/png": "[encoded data removed]"
          },
          "metadata": {}
        }
      ]
    },
    {
      "cell_type": "markdown",
      "source": [
        "Scratch Implementation"
      ],
      "metadata": {
        "id": "6qC1sZTBCoac"
      }
    },
    {
      "cell_type": "code",
      "source": [
        "def precision_calc(conf):\n",
        "  tp = conf[1,1]\n",
        "  fp = conf[0,1]\n",
        "\n",
        "  return tp/(tp+fp)"
      ],
      "metadata": {
        "id": "8NLUadMBCoN4"
      },
      "execution_count": null,
      "outputs": []
    },
    {
      "cell_type": "code",
      "source": [
        "precision_calc(conf_matrix)"
      ],
      "metadata": {
        "colab": {
          "base_uri": "https://localhost:8080/"
        },
        "id": "l6MaONS0C9jh",
        "outputId": "caf21c56-79b5-49ce-c39d-0ec0c54d771b"
      },
      "execution_count": null,
      "outputs": [
        {
          "output_type": "execute_result",
          "data": {
            "text/plain": [
              "0.8582089552238806"
            ]
          },
          "metadata": {},
          "execution_count": 17
        }
      ]
    },
    {
      "cell_type": "code",
      "source": [
        "from sklearn.metrics import precision_score\n",
        "\n",
        "precision_score(y_test, y_pred)"
      ],
      "metadata": {
        "colab": {
          "base_uri": "https://localhost:8080/"
        },
        "id": "_TNQhWTECDd4",
        "outputId": "5039d923-8aea-4a5b-dd66-b2c9e893d47d"
      },
      "execution_count": null,
      "outputs": [
        {
          "output_type": "execute_result",
          "data": {
            "text/plain": [
              "0.8582089552238806"
            ]
          },
          "metadata": {},
          "execution_count": 18
        }
      ]
    },
    {
      "cell_type": "markdown",
      "source": [
        "**observe**\n",
        "\n",
        "Even though the model has a lower precision value than accuracy:\n",
        "- Its still a great model because of its high precision value"
      ],
      "metadata": {
        "id": "pT92qLSfQpui"
      }
    },
    {
      "cell_type": "markdown",
      "source": [
        "\n",
        "<img src = \"https://drive.google.com/uc?id=1z8G5qbHu2el3FI_BZhlFssHUn4_ce1eA\">\n"
      ],
      "metadata": {
        "id": "JV9PyIk8s82z"
      }
    },
    {
      "cell_type": "markdown",
      "source": [
        "\n",
        "<img src = \"https://drive.google.com/uc?id=1fJegWoR7aLZtI5rShc0RH3rbQGmnD5j8\">\n"
      ],
      "metadata": {
        "id": "ozkTKovWs8zc"
      }
    },
    {
      "cell_type": "markdown",
      "source": [
        "\n",
        "<img src = \"https://drive.google.com/uc?id=17gW1__h3un8BfV_hIiEAQC8JCNEgNZqt\">\n"
      ],
      "metadata": {
        "id": "MgVtmcM6s8u1"
      }
    },
    {
      "cell_type": "markdown",
      "source": [
        "\n",
        "\n",
        "\n",
        "Ans: As dumb model always predicts not-spam (class0):\n",
        "- Its $TP =0$ and $FN = 45$ , hence $Recall = \\frac{TP}{TP+FN} =  \\frac{0}{0+45} = 0$\n",
        "\n",
        "\n"
      ],
      "metadata": {
        "id": "NXEWzaY1YJgv"
      }
    },
    {
      "cell_type": "markdown",
      "metadata": {
        "id": "VkBLtnH64vcq"
      },
      "source": [
        "\n",
        "\n",
        "<br>\n",
        "\n",
        "#### What will be the recall for an ideal model ?\n"
      ]
    },
    {
      "cell_type": "markdown",
      "source": [
        "\n",
        "<img src = \"https://drive.google.com/uc?id=1JXJK7zeM5YdbkwE4LYmIAoEBhcEaWJUo\">\n"
      ],
      "metadata": {
        "id": "2VpnmbpZs8pV"
      }
    },
    {
      "cell_type": "markdown",
      "source": [
        "## **Recall Code**"
      ],
      "metadata": {
        "id": "fj8AsnwmIKuu"
      }
    },
    {
      "cell_type": "code",
      "source": [
        "fig, ax = plt.subplots(figsize=(5,5))\n",
        "ConfusionMatrixDisplay(conf_matrix).plot(ax = ax)"
      ],
      "metadata": {
        "colab": {
          "base_uri": "https://localhost:8080/",
          "height": 445
        },
        "outputId": "9e9a5654-3cf9-42a2-8213-4470d67ef587",
        "id": "95a45z8YIKuv"
      },
      "execution_count": null,
      "outputs": [
        {
          "output_type": "execute_result",
          "data": {
            "text/plain": [
              "<sklearn.metrics._plot.confusion_matrix.ConfusionMatrixDisplay at 0x7f1c986c45e0>"
            ]
          },
          "metadata": {},
          "execution_count": 23
        },
        {
          "output_type": "display_data",
          "data": {
            "text/plain": [
              "<Figure size 500x500 with 2 Axes>"
            ],
            "image/png": "[encoded data removed]"
          },
          "metadata": {}
        }
      ]
    },
    {
      "cell_type": "markdown",
      "source": [
        "Scratch Implementation"
      ],
      "metadata": {
        "id": "5xOXbrgLIKuw"
      }
    },
    {
      "cell_type": "code",
      "source": [
        "def recall_calc(conf):\n",
        "  tp = conf[1,1]\n",
        "  fn = conf[1,0]\n",
        "\n",
        "  return tp/(tp+fn)"
      ],
      "metadata": {
        "id": "Y7mHkxMxIKuw"
      },
      "execution_count": null,
      "outputs": []
    },
    {
      "cell_type": "code",
      "source": [
        "recall_calc(conf_matrix)"
      ],
      "metadata": {
        "colab": {
          "base_uri": "https://localhost:8080/"
        },
        "outputId": "c4fc5f98-e187-4b2e-ac91-b4d92107e5a1",
        "id": "mlwdfFOKIKuw"
      },
      "execution_count": null,
      "outputs": [
        {
          "output_type": "execute_result",
          "data": {
            "text/plain": [
              "0.9249329758713136"
            ]
          },
          "metadata": {},
          "execution_count": 21
        }
      ]
    },
    {
      "cell_type": "markdown",
      "source": [
        "Using Sklearn's precision Score"
      ],
      "metadata": {
        "id": "_H-7n1XbIKuw"
      }
    },
    {
      "cell_type": "code",
      "source": [
        "from sklearn.metrics import recall_score\n",
        "\n",
        "recall_score(y_test, y_pred)"
      ],
      "metadata": {
        "colab": {
          "base_uri": "https://localhost:8080/"
        },
        "outputId": "d5fe698e-3dca-493c-ae8f-8b0a78d8465b",
        "id": "TiiRpR_4IKuw"
      },
      "execution_count": null,
      "outputs": [
        {
          "output_type": "execute_result",
          "data": {
            "text/plain": [
              "0.9249329758713136"
            ]
          },
          "metadata": {},
          "execution_count": 22
        }
      ]
    },
    {
      "cell_type": "markdown",
      "source": [
        "**observe**\n",
        "\n",
        "The model's recall value is almost very close to accuracy :\n",
        "- It shows the  model has very low FN"
      ],
      "metadata": {
        "id": "ylcOf4pvQ4aw"
      }
    },
    {
      "cell_type": "markdown",
      "source": [
        "## **Hack to remember Precision and Recall !**"
      ],
      "metadata": {
        "id": "Ls5dFRDoWtxh"
      }
    },
    {
      "cell_type": "markdown",
      "source": [
        "#### What is the best way to remember the difference between Precision and Recall ?"
      ],
      "metadata": {
        "id": "4X1vFeItAWfR"
      }
    },
    {
      "cell_type": "markdown",
      "source": [
        "\n",
        "<img src = \"https://drive.google.com/uc?id=1Sm6gWFSO5Kyya_DaYgP1ajrar0NWXfi1\">\n",
        "\n"
      ],
      "metadata": {
        "id": "E7KzFCdns8mX"
      }
    },
    {
      "cell_type": "markdown",
      "metadata": {
        "id": "mej2awtBZ3hW"
      },
      "source": [
        "## **F1 score**"
      ]
    },
    {
      "cell_type": "markdown",
      "source": [
        "#### Can both FN and FP be important for a real world problem ?\n",
        "\n"
      ],
      "metadata": {
        "id": "PWXICUsBS1S6"
      }
    },
    {
      "cell_type": "markdown",
      "source": [
        "Lets take an example:\n",
        "\n",
        "\n",
        "Imagine a model is used to classify credit card transactions as either fraudulent or legitimate.\n",
        "\n"
      ],
      "metadata": {
        "id": "QyLknscfSBH4"
      }
    },
    {
      "cell_type": "markdown",
      "source": [
        "\n",
        "\n",
        "<center><img src=\"https://drive.google.com/uc?id=1RE_xG9Nu-AOSwVIbJbiPxnJjs_8tPPF1\"></center>\n",
        "\n",
        "\n",
        "\n"
      ],
      "metadata": {
        "id": "zc2zgELyCk6b"
      }
    },
    {
      "cell_type": "markdown",
      "source": [
        "\n",
        "\n",
        "<center><img src='https://drive.google.com/uc?id=11IIhx7IdssLj8sqeNroyFd5M_iX7xm_6'></center>\n",
        "\n",
        "\n"
      ],
      "metadata": {
        "id": "JE-4-TPfCrTm"
      }
    },
    {
      "cell_type": "markdown",
      "metadata": {
        "id": "v2Jq8OR5oDlb"
      },
      "source": [
        "As FN and FP are both important, we train three different models such that:\n",
        "\n",
        "1. M1 has precision  = 0.3 and recall = 0.8\n",
        "2. M2 has precision  = 0.2 and recall = 0.9\n",
        "3. M3 has precision  = 0.7 and recall = 0.4\n",
        "\n"
      ]
    },
    {
      "cell_type": "markdown",
      "source": [
        "#### Which model among M1,M2,M3 is the best ?\n",
        "\n",
        "\n",
        "\n"
      ],
      "metadata": {
        "id": "3fldDd7EUQwe"
      }
    },
    {
      "cell_type": "markdown",
      "source": [
        "\n",
        "\n",
        "<center><img src='https://drive.google.com/uc?id=1cst8BTzhX9tKbemVAAPx5f9LOYd1zhBU'></center>\n",
        "\n",
        "\n"
      ],
      "metadata": {
        "id": "xLVIBXemC1SV"
      }
    },
    {
      "cell_type": "markdown",
      "source": [
        "\n",
        "Ans: Based on Precision:\n",
        "- M3 is the best model\n",
        "\n",
        "And based on Recall\n",
        "- M2 is the best model\n",
        "\n",
        "<br>\n",
        "\n",
        "Hence need a way to combine Precision and Recall"
      ],
      "metadata": {
        "id": "AjlcEDYDDgvM"
      }
    },
    {
      "cell_type": "markdown",
      "metadata": {
        "id": "UJ-8EfTx28lF"
      },
      "source": [
        "#### We use **Harmonic mean**"
      ]
    },
    {
      "cell_type": "markdown",
      "source": [
        "\n",
        "\n",
        "<center><img src='https://drive.google.com/uc?id=1NMcxhA2zXYuVX-x6WCkEohYNK9-TNxsF'></center>\n",
        "\n",
        "\n"
      ],
      "metadata": {
        "id": "0LUeGxcMFJsK"
      }
    },
    {
      "cell_type": "markdown",
      "source": [
        "Harmonic Mean $  [Precision(Pr), Recall (Re)] =\\frac{2}{\\frac{1}{Pr}+\\frac{1}{Re}} $\n",
        "\n",
        "Which on solving becomes:\n",
        "- Harmonic Mean $  = 2 \\times \\frac{Pr \\times Re}{Pr+Re} $\n",
        "\n",
        "<br>\n",
        "\n",
        "**Note:** this harmonic mean of Precision and Recall is called **F1-Score**"
      ],
      "metadata": {
        "id": "OHeWSPrIVZs1"
      }
    },
    {
      "cell_type": "markdown",
      "source": [
        "\n",
        "\n",
        "<center><img src='https://drive.google.com/uc?id=1gnDMJkHe-k28YXxSz6EtbvGXT6n2xVyW'></center>\n",
        "\n",
        "\n"
      ],
      "metadata": {
        "id": "q9Xv7b5yIMlT"
      }
    },
    {
      "cell_type": "markdown",
      "source": [
        "1. M1 has precision  = 0.3 and recall = 0.8\n",
        "2. M2 has precision  = 0.2 and recall = 0.9\n",
        "3. M3 has precision  = 0.7 and recall = 0.4\n",
        "\n",
        "#### How does F1-score finds the better model ?\n",
        "\n",
        "Ans) The  F1Score for each model:\n",
        "\n",
        "1. M1: F1 score$ = 2 \\times \\frac{0.3 \\times 0.8}{1.10} = 0.44$\n",
        "2. M2: F1 score$ = 2 \\times \\frac{0.2 \\times 0.9}{1.10} = 0.33$\n",
        "3. M3: F1 score$ = 2 \\times \\frac{0.7 \\times 0.4}{1.10} = 0.51$\n",
        "\n",
        "\n",
        "<br>\n",
        "\n",
        "Clearly, M3 is the best model to pick"
      ],
      "metadata": {
        "id": "NDut38_JWM8g"
      }
    },
    {
      "cell_type": "markdown",
      "source": [
        "# Imbalanced data"
      ],
      "metadata": {
        "id": "4Ej3vtZzkR9k"
      }
    },
    {
      "cell_type": "markdown",
      "source": [
        "\n",
        "<img src = \"https://drive.google.com/uc?id=1xfLuaf6uHYv1Dj-EIwOnZnG4oZbUYOnJ\">\n"
      ],
      "metadata": {
        "id": "2iSdzwXls8jI"
      }
    },
    {
      "cell_type": "markdown",
      "metadata": {
        "id": "2_lMqmclJbu7"
      },
      "source": [
        "#### When do we say that data is imbalanced ?\n",
        "Ans: when the **number of samples of a class exceeds** the number of samples of the other class:\n",
        "1. if its a 70-30% Class sample ratio → **slightly imbalanced**\n",
        "\n",
        "2. if its a 80-20%/90-10% Class sample ratio → **imbalanced**\n",
        "\n",
        "3. if its a 95-5% Class sample ratio → **extremely imbalanced**\n",
        "\n",
        "\n",
        "<br>\n",
        "\n",
        "**Note:**\n",
        "- The class which has **more number of samples → Majority Class**\n",
        "- The class which has **less number of samples → Minority Class**\n",
        "\n",
        "\n"
      ]
    },
    {
      "cell_type": "markdown",
      "source": [
        "\n",
        "\n",
        "\n",
        "<img src = \"https://drive.google.com/uc?id=1WPC-eeUdLAqOrq0w8SI8sXxEpPncZVn9\">\n",
        "\n"
      ],
      "metadata": {
        "id": "lD4DBfJ-s8Yb"
      }
    },
    {
      "cell_type": "markdown",
      "metadata": {
        "id": "z9LKw3CUlLGI"
      },
      "source": [
        "We know data imbalance can be the cause for hindering the performance of our model,\n",
        "\n",
        "#### How to make imbalance data balanced ?"
      ]
    },
    {
      "cell_type": "markdown",
      "source": [
        "\n",
        "\n",
        "\n",
        "<img src = \"https://drive.google.com/uc?id=1nvtz6H78Lsw-nFfq3SxGzic9erVldNia\">\n"
      ],
      "metadata": {
        "id": "XRx1VldDs8PZ"
      }
    },
    {
      "cell_type": "markdown",
      "source": [
        "\n",
        "\n",
        "\n",
        "<img src = \"https://drive.google.com/uc?id=1teDmNvQDgwS8St3qEqyYqERPFqKwQYDV\">\n",
        "\n"
      ],
      "metadata": {
        "id": "DCqWk104s8LG"
      }
    },
    {
      "cell_type": "markdown",
      "source": [
        "## **SMOTE (Synthetically Minority Oversampling Technique)**\n"
      ],
      "metadata": {
        "id": "9G-xs8Zu64ZC"
      }
    },
    {
      "cell_type": "markdown",
      "source": [
        "#### How to create synthetic samples ?"
      ],
      "metadata": {
        "id": "O-zwVoQnQLc_"
      }
    },
    {
      "cell_type": "markdown",
      "source": [
        "\n",
        "<img src = 'https://drive.google.com/uc?id=1sjVNcblYIgYDVOqoB8Ztnh_pflm3Nv0D'>"
      ],
      "metadata": {
        "id": "DETExwqv7C4n"
      }
    },
    {
      "cell_type": "markdown",
      "source": [
        "Suppose from our Spam data:\n",
        "- We randomly select a class1 label sample $x^{(1)}$\n",
        "\n",
        "Now we find **Euclidean distance between this sample$x^{(1)}$ and all the remaining samples**:\n",
        "- Pick the nearest 3 Class 1 label samples $x^{(5)},x^{(20)},x^{(10)} $\n"
      ],
      "metadata": {
        "id": "fM2OdhuHGCjW"
      }
    },
    {
      "cell_type": "markdown",
      "source": [
        "We then randomly choose a number between $[0,1]$, lets call it $ϕ$:\n",
        "1. and multiply it with each of the Euclidean distances and add it to $x^{(1)}$"
      ],
      "metadata": {
        "id": "U7D_9lgOeZ0s"
      }
    },
    {
      "cell_type": "markdown",
      "source": [
        "<img src=\"https://drive.google.com/uc?id=1IgKbpQcXRTLnRKaaQIzHPuOIF4c5yk3R\" >\n"
      ],
      "metadata": {
        "id": "wgcJpNjH7L81"
      }
    },
    {
      "cell_type": "markdown",
      "source": [
        "\n",
        "\n",
        " - $x^{(new1)} = x^{(1)} +ϕ \\times dist(x^{(1)},x^{(5)})$\n",
        " - $x^{(new2)} = x^{(1)} +ϕ \\times dist(x^{(1)},x^{(20)})$\n",
        " - $x^{(new3)} = x^{(1)} +ϕ \\times dist(x^{(1)},x^{(10)})$\n",
        "\n",
        "This creates three new synthetic datapoints for our minority class\n",
        "\n",
        "<br>\n",
        "\n",
        "**Note:** This approach of creating new synthetic datapoint is called **SMOTE\n",
        "(Synthetically Minority Oversampling Technique)**"
      ],
      "metadata": {
        "id": "4KRbr-naQSFP"
      }
    },
    {
      "cell_type": "markdown",
      "metadata": {
        "id": "lBy6qcUzWnQ4"
      },
      "source": [
        "<img src=\"https://drive.google.com/uc?id=1A3jp-n6U9j2YecNeRtbS9GvYK_gkUO46\" width=\"700\" >\n"
      ]
    },
    {
      "cell_type": "markdown",
      "source": [
        "Image shows briefly how  **SMOTE** creates data"
      ],
      "metadata": {
        "id": "SxD6lafyQZwa"
      }
    },
    {
      "cell_type": "markdown",
      "source": [
        "<img src=\"https://drive.google.com/uc?id=1fe6MTXCZnaMy_IGlU69lionyZVoWegYu\" >"
      ],
      "metadata": {
        "id": "X1H3X3Ey6OhZ"
      }
    },
    {
      "cell_type": "markdown",
      "source": [
        "<img src=\"https://drive.google.com/uc?id=1Fk6_gSVN8utgegxB5XbZ22TEh3NnN98R\" >"
      ],
      "metadata": {
        "id": "JYyriT3Q6Pms"
      }
    }
  ]
}